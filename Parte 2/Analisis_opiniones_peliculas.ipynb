{
 "cells": [
  {
   "cell_type": "markdown",
   "metadata": {},
   "source": [
    "## 2. Análisis de opiniones sobre películas"
   ]
  },
  {
   "cell_type": "markdown",
   "metadata": {},
   "source": [
    "### a) Construcción del Dataframe"
   ]
  },
  {
   "cell_type": "code",
   "execution_count": 1,
   "metadata": {
    "collapsed": false
   },
   "outputs": [
    {
     "name": "stdout",
     "output_type": "stream",
     "text": [
      "(3554, 2)\n",
      "(3554, 2)\n"
     ]
    }
   ],
   "source": [
    "import urllib\n",
    "import pandas as pd\n",
    "train_data_url = \"http://www.inf.utfsm.cl/~jnancu/stanford-subset/polarity.train\"\n",
    "test_data_url = \"http://www.inf.utfsm.cl/~jnancu/stanford-subset/polarity.dev\"\n",
    "train_data_f = urllib.urlretrieve(train_data_url, \"train_data.csv\")\n",
    "test_data_f = urllib.urlretrieve(test_data_url, \"test_data.csv\")\n",
    "ftr = open(\"train_data.csv\", \"r\")\n",
    "fts = open(\"test_data.csv\", \"r\")\n",
    "rows = [line.split(\" \",1) for line in ftr.readlines()]\n",
    "train_df = pd.DataFrame(rows, columns=['Sentiment','Text'])\n",
    "train_df['Sentiment'] = pd.to_numeric(train_df['Sentiment'])\n",
    "rows = [line.split(\" \",1) for line in fts.readlines()]\n",
    "test_df = pd.DataFrame(rows, columns=['Sentiment','Text'])\n",
    "test_df['Sentiment'] = pd.to_numeric(test_df['Sentiment'])\n",
    "print train_df.shape\n",
    "print test_df.shape"
   ]
  },
  {
   "cell_type": "markdown",
   "metadata": {},
   "source": [
    "Tanto el conjunto de entrenamiento como el de pruebas, poseen 3554 registros para cada clase. Dichas clases se llaman \"Sentiment\" y \"Text\""
   ]
  },
  {
   "cell_type": "markdown",
   "metadata": {},
   "source": [
    "### b) Función word_extractor\n",
    "\n",
    "La función word_extractor utiliza stemming para la extracción de trozos de textos de una frase. El stemming es un proceso heurístico que corta la derivación de las palabras para encontrar la raíz. Por ejemplo autómata, automático, automatizado se reducen a autómata."
   ]
  },
  {
   "cell_type": "code",
   "execution_count": 2,
   "metadata": {
    "collapsed": false
   },
   "outputs": [
    {
     "name": "stdout",
     "output_type": "stream",
     "text": [
      " love eat cake\n",
      " love eat cake\n",
      " love eat cake\n",
      " love eat cake\n",
      " n't love eat cake\n"
     ]
    }
   ],
   "source": [
    "import re, time\n",
    "from nltk.corpus import stopwords\n",
    "from nltk import WordNetLemmatizer, word_tokenize\n",
    "from nltk.stem.porter import PorterStemmer\n",
    "def word_extractor(text, stemming=True):\n",
    "    if stemming is True:\n",
    "        wordstemmer = PorterStemmer()\n",
    "        commonwords = stopwords.words('english')\n",
    "        text = re.sub(r'([a-z])\\1+', r'\\1\\1',text)#substitute multiple letter by two\n",
    "        words = \"\"\n",
    "        wordtokens = [ wordstemmer.stem(word.lower()) for word in word_tokenize(text.decode('utf-8', 'ignore')) ]\n",
    "        for word in wordtokens:\n",
    "            if word not in commonwords:\n",
    "                words+=\" \"+word\n",
    "        return words\n",
    "    else:\n",
    "        commonwords = stopwords.words('english')\n",
    "        text = re.sub(r'([a-z])\\1+', r'\\1\\1',text)#substitute multiple letter by two\n",
    "        words = \"\"\n",
    "        wordtokens = [ word.lower() for word in word_tokenize(text.decode('utf-8', 'ignore')) ]\n",
    "        for word in wordtokens:\n",
    "            if word not in commonwords:\n",
    "                words+=\" \"+word\n",
    "        return words\n",
    "        \n",
    "#Con stemming\n",
    "print word_extractor(\"I love to eat cake\")\n",
    "print word_extractor(\"I love eating cake\")\n",
    "print word_extractor(\"I loved eating the cake\")\n",
    "print word_extractor(\"I do not love eating cake\")\n",
    "print word_extractor(\"I don't love eating cake\")"
   ]
  },
  {
   "cell_type": "markdown",
   "metadata": {},
   "source": [
    "Lo que se presenta es la extracción de trozos de texto en una frase. Al usar stemming para dicha tarea se puede apreciar en el output que se muestra la tarea en presente simple, lo que muestra que el stemming usa un vocabulario reducido al ignorar palabras como \"eating\" y \"loved\", ya que éstas no corresponden al presente simple."
   ]
  },
  {
   "cell_type": "code",
   "execution_count": 3,
   "metadata": {
    "collapsed": false
   },
   "outputs": [
    {
     "name": "stdout",
     "output_type": "stream",
     "text": [
      " love eat cake\n",
      " love eating cake\n",
      " loved eating cake\n",
      " love eating cake\n",
      " n't love eating cake\n"
     ]
    }
   ],
   "source": [
    "#Sin stemming\n",
    "print word_extractor(\"I love to eat cake\", stemming=False)\n",
    "print word_extractor(\"I love eating cake\", stemming=False)\n",
    "print word_extractor(\"I loved eating the cake\", stemming=False)\n",
    "print word_extractor(\"I do not love eating cake\", stemming=False)\n",
    "print word_extractor(\"I don't love eating cake\", stemming=False)"
   ]
  },
  {
   "cell_type": "markdown",
   "metadata": {},
   "source": [
    "Ahora se ejecutó word_extractor sin usar stemming y se puede apreciar que muestra las palabras exactas, lo que se puede concluir que sin usar stemming se obtiene resultados mejores que con stemming debido a que no se redujo el vocabulario sin el uso de stemming.\n",
    "\n",
    "En resumen, si se consideran los textos “I love eating cake” y “I loved eating the cake”, con stemming se consigue “love eat cake” para ambos casos, mientras que sin stemming se obtiene “love eating cake” y “loved eating cake”."
   ]
  },
  {
   "cell_type": "markdown",
   "metadata": {
    "collapsed": true
   },
   "source": [
    "### c) Función word_extractor2\n",
    "\n",
    "La función word_extractor2 utiliza el lematizador para extraer trozos de texto de una frase. La lematización es bastante similar al stemming, en el sentido que reducen las formas infleccionales de las palabras a una base común o raíz. Pero en el caso de la lematización y a partir de la implementación de *nltk*, se hace un chequeo de la forma reducida en el corpus de *WordNet*. Si no está en este último, se regresa la palabra original. En consecuencia, la lematización es un proceso más complejo que el stemming."
   ]
  },
  {
   "cell_type": "code",
   "execution_count": 4,
   "metadata": {
    "collapsed": false
   },
   "outputs": [
    {
     "name": "stdout",
     "output_type": "stream",
     "text": [
      " love eat cake\n",
      " love eating cake\n",
      " loved eating cake\n",
      " love eating cake\n",
      " n't love eating cake\n"
     ]
    }
   ],
   "source": [
    "#la variavle stopwords indica si el lematizador usa stopwords.\n",
    "def word_extractor2(text, stopWords=True):\n",
    "    wordlemmatizer = WordNetLemmatizer()\n",
    "    if stopWords is True:\n",
    "        commonwords = stopwords.words('english')\n",
    "    text = re.sub(r'([a-z])\\1+', r'\\1\\1',text)#substitute multiple letter by two\n",
    "    words = \"\"\n",
    "    wordtokens = [ wordlemmatizer.lemmatize(word.lower()) \\\n",
    "                  for word in word_tokenize(text.decode('utf-8','ignore')) ]\n",
    "    for word in wordtokens:\n",
    "        if stopWords is True:\n",
    "            if word not in commonwords:\n",
    "                words+=\" \"+word\n",
    "        else:\n",
    "            words+=\" \"+word\n",
    "    return words\n",
    "print word_extractor2(\"I love to eat cake\")\n",
    "print word_extractor2(\"I love eating cake\")\n",
    "print word_extractor2(\"I loved eating the cake\")\n",
    "print word_extractor2(\"I do not love eating cake\")\n",
    "print word_extractor2(\"I don't love eating cake\")"
   ]
  },
  {
   "cell_type": "markdown",
   "metadata": {},
   "source": [
    "Como resultado, a diferencia de la función word_extractor que usaba stemming para poder extraer trozos de palabras de una frase, la función word_extractor2 que usa lematización para dicho objetivo devuelve cada trozo de palabra exacta, lo que permite un uso de vocabulario más amplio que usando stemming. "
   ]
  },
  {
   "cell_type": "markdown",
   "metadata": {
    "collapsed": true
   },
   "source": [
    "### d) CountVectorizer"
   ]
  },
  {
   "cell_type": "code",
   "execution_count": 5,
   "metadata": {
    "collapsed": false
   },
   "outputs": [],
   "source": [
    "import numpy as np\n",
    "from sklearn.feature_extraction.text import CountVectorizer\n",
    "texts_train = [word_extractor2(text) for text in train_df.Text]\n",
    "texts_test = [word_extractor2(text) for text in test_df.Text]\n",
    "vectorizer = CountVectorizer(ngram_range=(1, 1), binary='False')\n",
    "vectorizer.fit(np.asarray(texts_train))\n",
    "features_train = vectorizer.transform(texts_train)\n",
    "features_test = vectorizer.transform(texts_test)\n",
    "labels_train = np.asarray((train_df.Sentiment.astype(float)+1)/2.0)\n",
    "labels_test = np.asarray((test_df.Sentiment.astype(float)+1)/2.0)\n",
    "vocab = vectorizer.get_feature_names()\n",
    "\n",
    "#Conjunto de entrenamiento\n",
    "tags_train = []\n",
    "dist=list(np.array(features_train.sum(axis=0)).reshape(-1,))\n",
    "for tag, count in zip(vocab, dist):\n",
    "    tags_train.append((count, tag))\n",
    "    #print count, tag"
   ]
  },
  {
   "cell_type": "code",
   "execution_count": 6,
   "metadata": {
    "collapsed": false
   },
   "outputs": [],
   "source": [
    "#Conjunto de pruebas\n",
    "tags_test = []\n",
    "dist=list(np.array(features_test.sum(axis=0)).reshape(-1,))\n",
    "for tag, count in zip(vocab, dist):\n",
    "    tags_test.append((count, tag))\n",
    "    #print count, tag"
   ]
  },
  {
   "cell_type": "markdown",
   "metadata": {},
   "source": [
    "El código que contiene el CountVectorizer tiene como objetivo guardar la cantidad de veces que aparece cierta palabra/número en el conjunto de entrenamiento/prueba. Las palabras más frecuentes en el conjunto de entrenamiento/pruebas son:"
   ]
  },
  {
   "cell_type": "code",
   "execution_count": 7,
   "metadata": {
    "collapsed": false
   },
   "outputs": [
    {
     "name": "stdout",
     "output_type": "stream",
     "text": [
      "Palabras más frecuentes del conjunto de entrenaiento:\n",
      "\n",
      "1) film (566)\n",
      "2) movie (481)\n",
      "3) one (246)\n",
      "4) like (245)\n",
      "5) ha (224)\n",
      "6) make (183)\n",
      "7) story (176)\n",
      "8) character (163)\n",
      "9) comedy (145)\n",
      "10) time (143)\n"
     ]
    }
   ],
   "source": [
    "#Top 10 palabras más frecuentes conjunto de entrenamiento\n",
    "tags_train.sort()\n",
    "tags_train[:] = tags_train[::-1]\n",
    "\n",
    "print \"Palabras más frecuentes del conjunto de entrenaiento:\\n\"\n",
    "for i in range(0,10):\n",
    "    print str(i+1)+\") %s (%d)\"%(tags_train[i][1], tags_train[i][0])\n"
   ]
  },
  {
   "cell_type": "code",
   "execution_count": 8,
   "metadata": {
    "collapsed": false
   },
   "outputs": [
    {
     "name": "stdout",
     "output_type": "stream",
     "text": [
      "Palabras más frecuentes del conjunto de prueba:\n",
      "\n",
      "1) film (558)\n",
      "2) movie (540)\n",
      "3) one (250)\n",
      "4) ha (238)\n",
      "5) like (230)\n",
      "6) story (197)\n",
      "7) character (175)\n",
      "8) time (165)\n",
      "9) make (161)\n",
      "10) comedy (134)\n"
     ]
    }
   ],
   "source": [
    "#Top 10 palabras más frecuentes conjunto de entrenamiento\n",
    "tags_test.sort()\n",
    "tags_test[:] = tags_test[::-1]\n",
    "\n",
    "print \"Palabras más frecuentes del conjunto de prueba:\\n\"\n",
    "for i in range(0,10):\n",
    "    print str(i+1)+\") %s (%d)\"%(tags_test[i][1], tags_test[i][0])\n"
   ]
  },
  {
   "cell_type": "markdown",
   "metadata": {},
   "source": [
    "### e) Desempeño de un clasificador"
   ]
  },
  {
   "cell_type": "code",
   "execution_count": 9,
   "metadata": {
    "collapsed": true
   },
   "outputs": [],
   "source": [
    "from sklearn.metrics import classification_report\n",
    "from sklearn.metrics import precision_recall_fscore_support\n",
    "dict_bernoulli_binario = []\n",
    "dict_multinomial = []\n",
    "dict_log = []\n",
    "dict_svm = []\n",
    "def score_the_model(model,x,y,xt,yt,text):\n",
    "    acc_tr = model.score(x,y)\n",
    "    acc_test = model.score(xt[:-1],yt[:-1])\n",
    "    print \"Training Accuracy %s: %f\"%(text,acc_tr)\n",
    "    print \"Test Accuracy %s: %f\"%(text,acc_test)\n",
    "    print \"Detailed Analysis Testing Results ...\"\n",
    "    print(classification_report(yt, model.predict(xt), target_names=['+','-']))\n",
    "    \n",
    "    #guarda las métricas de cada método para construir gráficos comparativos más adelante.\n",
    "    precision, recall, fscore, support = precision_recall_fscore_support(yt, model.predict(xt))\n",
    "    \n",
    "    if text == 'BernoulliNB':\n",
    "        dict_bernoulli_binario.append(acc_tr)\n",
    "        dict_bernoulli_binario.append(acc_test)\n",
    "        dict_bernoulli_binario.append(np.mean(precision))\n",
    "        dict_bernoulli_binario.append(np.mean(recall))\n",
    "        dict_bernoulli_binario.append(np.mean(fscore))\n",
    "    elif text == 'MULTINOMIAL':\n",
    "        dict_multinomial.append(acc_tr)\n",
    "        dict_multinomial.append(acc_test)\n",
    "        dict_multinomial.append(np.mean(precision))\n",
    "        dict_multinomial.append(np.mean(recall))\n",
    "        dict_multinomial.append(np.mean(fscore))\n",
    "    elif text == 'LOGISTIC':\n",
    "        dict_log.append(acc_tr)\n",
    "        dict_log.append(acc_test)\n",
    "        dict_log.append(np.mean(precision))\n",
    "        dict_log.append(np.mean(recall))\n",
    "        dict_log.append(np.mean(fscore))\n",
    "    elif text == 'SVM':\n",
    "        dict_svm.append(acc_tr)\n",
    "        dict_svm.append(acc_test)\n",
    "        dict_svm.append(np.mean(precision))\n",
    "        dict_svm.append(np.mean(recall))\n",
    "        dict_svm.append(np.mean(fscore))"
   ]
  },
  {
   "cell_type": "markdown",
   "metadata": {},
   "source": [
    "Las métricas que calcula el método classification_report son las siguientes: precision, recall y F1-score, tal y como se muestra en el output generado usando el clasificador Bayesiano Ingenuo/Multinomial.\n",
    "\n",
    "- Precision es la cantidad de resultados positivos correctos divididos por la cantidad total de resultados positivos\n",
    "- Recall corresponde a la cantidad de resultados positivos correctos dividido por el número de resultados positivos que se debería obtener.\n",
    "- El F1-score es el promedio ponderado de recall y precision. La mejor puntuación corresponde a 1 y la peor corresponde a 0. La fórmula para calcular el F1-score es el siguiente:\n",
    "\n",
    "$$F1 = 2 * \\frac{precision * recall}{precision + recall}$$"
   ]
  },
  {
   "cell_type": "markdown",
   "metadata": {},
   "source": [
    "### f) Clasificador Bayesiano Ingenuo (Binario)"
   ]
  },
  {
   "cell_type": "code",
   "execution_count": 10,
   "metadata": {
    "collapsed": false
   },
   "outputs": [
    {
     "name": "stdout",
     "output_type": "stream",
     "text": [
      "Training Accuracy BernoulliNB: 0.958638\n",
      "Test Accuracy BernoulliNB: 0.738531\n",
      "Detailed Analysis Testing Results ...\n",
      "             precision    recall  f1-score   support\n",
      "\n",
      "          +       0.75      0.73      0.74      1803\n",
      "          -       0.73      0.75      0.74      1751\n",
      "\n",
      "avg / total       0.74      0.74      0.74      3554\n",
      "\n",
      "[ 0.04199754  0.95800246] the plan to make enough into �an inspiring tale of survival wrapped in the heart-pounding suspense of a stylish psychological thriller' has flopped as surely as a souffl� gone wrong .\n",
      "\n",
      "[ 0.4313423  0.5686577] borrows a bit from the classics \" wait until dark \" and \" extremities \" . . . but in terms of its style , the movie is in a class by itself .\n",
      "\n",
      "[ 0.98459667  0.01540333] unless you come in to the film with a skateboard under your arm , you're going to feel like you weren't invited to the party .\n",
      "\n",
      "[ 0.83019561  0.16980439] a serious movie with serious ideas . but seriously , folks , it doesn't work .\n",
      "\n",
      "[ 0.97451387  0.02548613] cassavetes thinks he's making dog day afternoon with a cause , but all he's done is to reduce everything he touches to a shrill , didactic cartoon .\n",
      "\n",
      "[ 0.01888243  0.98111757] [barry] gives assassin a disquieting authority .\n",
      "\n",
      "[ 0.98185295  0.01814705] the next generation of mob movie . part low rent godfather . part three stooges .\n",
      "\n",
      "[ 0.00832827  0.99167173] dogtown & z-boys evokes the blithe rebel fantasy with the kind of insouciance embedded in the sexy demise of james dean .\n",
      "\n",
      "[ 0.20689999  0.79310001] the movie generates plot points with a degree of randomness usually achieved only by lottery drawing .\n",
      "\n",
      "[ 0.00948383  0.99051617] waydowntown may not be an important movie , or even a good one , but it provides a nice change of mindless pace in collision with the hot oscar season currently underway .\n",
      "\n",
      "[ 0.04787404  0.95212596] it's like an old warner bros . costumer jived with sex -- this could be the movie errol flynn always wanted to make , though bette davis , cast as joan , would have killed him .\n",
      "\n",
      "[ 0.58609367  0.41390633] i liked this film a lot . . .\n",
      "\n",
      "[ 0.31444339  0.68555661] all of the elements are in place for a great film noir , but director george hickenlooper's approach to the material is too upbeat .\n",
      "\n",
      "[ 0.38412551  0.61587449] god is great , the movie's not .\n",
      "\n",
      "[ 0.52525495  0.47474505] a film so tedious that it is impossible to care whether that boast is true or not .\n",
      "\n"
     ]
    }
   ],
   "source": [
    "from sklearn.naive_bayes import BernoulliNB\n",
    "import random\n",
    "def do_NAIVE_BAYES(x,y,xt,yt):\n",
    "    model = BernoulliNB()\n",
    "    model = model.fit(x, y)\n",
    "    score_the_model(model,x,y,xt,yt,\"BernoulliNB\")\n",
    "    return model\n",
    "\n",
    "#Lematizador\n",
    "texts_train = [word_extractor2(text) for text in train_df.Text]\n",
    "texts_test = [word_extractor2(text) for text in test_df.Text]\n",
    "vectorizer = CountVectorizer(ngram_range=(1, 1), binary='False')\n",
    "vectorizer.fit(np.asarray(texts_train))\n",
    "features_train = vectorizer.transform(texts_train)\n",
    "features_test = vectorizer.transform(texts_test)\n",
    "labels_train = np.asarray((train_df.Sentiment.astype(float)+1)/2.0)\n",
    "labels_test = np.asarray((test_df.Sentiment.astype(float)+1)/2.0)\n",
    "vocab = vectorizer.get_feature_names()\n",
    "\n",
    "model=do_NAIVE_BAYES(features_train,labels_train,features_test,labels_test)\n",
    "test_pred = model.predict_proba(features_test)\n",
    "spl = random.sample(xrange(len(test_pred)), 15)\n",
    "\n",
    "for text, sentiment in zip(test_df.Text[spl], test_pred[spl]):\n",
    "    print sentiment, text"
   ]
  },
  {
   "cell_type": "code",
   "execution_count": 11,
   "metadata": {
    "collapsed": false
   },
   "outputs": [
    {
     "name": "stdout",
     "output_type": "stream",
     "text": [
      "Training Accuracy BernoulliNB: 0.955262\n",
      "Test Accuracy BernoulliNB: 0.748663\n",
      "Detailed Analysis Testing Results ...\n",
      "             precision    recall  f1-score   support\n",
      "\n",
      "          +       0.76      0.74      0.75      1803\n",
      "          -       0.74      0.76      0.75      1751\n",
      "\n",
      "avg / total       0.75      0.75      0.75      3554\n",
      "\n",
      "[ 0.40157468  0.59842532] as played by ryan gosling , danny is a frighteningly fascinating contradiction .\n",
      "\n",
      "[ 0.78957893  0.21042107] wonder of wonders -- a teen movie with a humanistic message .\n",
      "\n",
      "[ 0.24704298  0.75295702] the picture runs a mere 84 minutes , but it's no glance . it's a head-turner -- thoughtfully written , beautifully read and , finally , deeply humanizing .\n",
      "\n",
      "[ 0.74828258  0.25171742] this is the first film i've ever seen that had no obvious directing involved .\n",
      "\n",
      "[ 0.00145052  0.99854948] quiet , adult and just about more stately than any contemporary movie this year . . . a true study , a film with a questioning heart and mind that isn't afraid to admit it doesn't have all the answers .\n",
      "\n",
      "[ 0.9888247  0.0111753] this version of h . g . wells' time machine was directed by h . g . wells' great-grandson . they should have found orson welles' great-grandson .\n",
      "\n",
      "[ 0.28692763  0.71307237] beautifully produced .\n",
      "\n",
      "[ 0.02953787  0.97046213] still rapturous after all these years , cinema paradiso stands as one of the great films about movie love .\n",
      "\n",
      "[ 0.65495609  0.34504391] the movie doesn't add anything fresh to the myth .\n",
      "\n",
      "[ 0.64627365  0.35372635] one of creepiest , scariest movies to come along in a long , long time , easily rivaling blair witch or the others .\n",
      "\n",
      "[ 0.19572945  0.80427055] thoroughly engrossing and ultimately tragic .\n",
      "\n",
      "[ 0.13228783  0.86771217] not a film to rival to live , but a fine little amuse-bouche to keep your appetite whetted .\n",
      "\n",
      "[ 0.37183905  0.62816095] though it's become almost redundant to say so , major kudos go to leigh for actually casting people who look working-class .\n",
      "\n",
      "[ 0.13509995  0.86490005] is \" ballistic \" worth the price of admission ? absolutely not . it sucked . would i see it again ? please see previous answer .\n",
      "\n",
      "[ 0.44099181  0.55900819] the story of trouble every day . . . is so sketchy it amounts to little more than preliminary notes for a science-fiction horror film , and the movie's fragmentary narrative style makes piecing the story together frustrating difficult .\n",
      "\n"
     ]
    }
   ],
   "source": [
    "#Lematizador sin stopwords\n",
    "texts_train_stopwords = [word_extractor2(text, stopWords = False) for text in train_df.Text]\n",
    "texts_test_stopwords = [word_extractor2(text, stopWords = False) for text in test_df.Text]\n",
    "vectorizer = CountVectorizer(ngram_range=(1, 1), binary='False')\n",
    "vectorizer.fit(np.asarray(texts_train_stopwords))\n",
    "features_train = vectorizer.transform(texts_train_stopwords)\n",
    "features_test = vectorizer.transform(texts_test_stopwords)\n",
    "labels_train = np.asarray((train_df.Sentiment.astype(float)+1)/2.0)\n",
    "labels_test = np.asarray((test_df.Sentiment.astype(float)+1)/2.0)\n",
    "vocab = vectorizer.get_feature_names()\n",
    "\n",
    "model=do_NAIVE_BAYES(features_train,labels_train,features_test,labels_test)\n",
    "test_pred = model.predict_proba(features_test)\n",
    "spl = random.sample(xrange(len(test_pred)), 15)\n",
    "\n",
    "for text, sentiment in zip(test_df.Text[spl], test_pred[spl]):\n",
    "    print sentiment, text"
   ]
  },
  {
   "cell_type": "code",
   "execution_count": 12,
   "metadata": {
    "collapsed": false,
    "scrolled": true
   },
   "outputs": [
    {
     "name": "stdout",
     "output_type": "stream",
     "text": [
      "Training Accuracy BernoulliNB: 0.878728\n",
      "Test Accuracy BernoulliNB: 0.701098\n",
      "Detailed Analysis Testing Results ...\n",
      "             precision    recall  f1-score   support\n",
      "\n",
      "          +       0.72      0.68      0.70      1803\n",
      "          -       0.69      0.73      0.71      1751\n",
      "\n",
      "avg / total       0.70      0.70      0.70      3554\n",
      "\n",
      "[ 0.79896113  0.20103887] not even the hanson brothers can save it\n",
      "\n",
      "[ 0.87653986  0.12346014] absurdities and clich�s accumulate like lint in a fat man's navel .\n",
      "\n",
      "[ 0.31941688  0.68058312] narc is all menace and atmosphere .\n",
      "\n",
      "[ 0.96621417  0.03378583] another big , dumb action movie in the vein of xxx , the transporter is riddled with plot holes big enough for its titular hero to drive his sleek black bmw through .\n",
      "\n",
      "[ 0.03344819  0.96655181] becomes a fascinating study of isolation and frustration that successfully recreates both the physical setting and emotional tensions of the papin sisters .\n",
      "\n",
      "[ 0.24342471  0.75657529] eight legged freaks ? no big hairy deal .\n",
      "\n",
      "[ 0.54858767  0.45141233] both an admirable reconstruction of terrible events , and a fitting memorial to the dead of that day , and of the thousands thereafter .\n",
      "\n",
      "[ 0.42752802  0.57247198] a perceptive , good-natured movie .\n",
      "\n",
      "[ 0.48642918  0.51357082] no surprises .\n",
      "\n",
      "[ 0.65102166  0.34897834] nothing sticks , really , except a lingering creepiness one feels from being dragged through a sad , sordid universe of guns , drugs , avarice and damaged dreams .\n",
      "\n",
      "[ 0.34780413  0.65219587] like mike is a slight and uninventive movie : like the exalted michael jordan referred to in the title , many can aspire but none can equal .\n",
      "\n",
      "[ 0.02433511  0.97566489] payne constructs a hilarious ode to middle america and middle age with this unlikely odyssey , featuring a pathetic , endearing hero who is all too human .\n",
      "\n",
      "[ 0.75718864  0.24281136] this is a superior horror flick .\n",
      "\n",
      "[ 0.50793296  0.49206704] appropriately cynical social commentary aside , #9 never quite ignites .\n",
      "\n",
      "[ 0.26698972  0.73301028] it's a sometimes interesting remake that doesn't compare to the brilliant original .\n",
      "\n"
     ]
    }
   ],
   "source": [
    "#Stemming\n",
    "texts_train_stemming = [word_extractor(text) for text in train_df.Text]\n",
    "texts_test_stemming = [word_extractor(text) for text in test_df.Text]\n",
    "vectorizer = CountVectorizer(ngram_range=(1, 1), binary='False')\n",
    "vectorizer.fit(np.asarray(texts_train_stopwords))\n",
    "features_train = vectorizer.transform(texts_train_stemming)\n",
    "features_test = vectorizer.transform(texts_test_stemming)\n",
    "labels_train = np.asarray((train_df.Sentiment.astype(float)+1)/2.0)\n",
    "labels_test = np.asarray((test_df.Sentiment.astype(float)+1)/2.0)\n",
    "vocab = vectorizer.get_feature_names()\n",
    "\n",
    "model=do_NAIVE_BAYES(features_train,labels_train,features_test,labels_test)\n",
    "test_pred = model.predict_proba(features_test)\n",
    "spl = random.sample(xrange(len(test_pred)), 15)\n",
    "\n",
    "for text, sentiment in zip(test_df.Text[spl], test_pred[spl]):\n",
    "    print sentiment, text"
   ]
  },
  {
   "cell_type": "markdown",
   "metadata": {},
   "source": [
    "Como resumen, al usar el Clasificador Bayesiano Ingenuo Binario, se obtuvieron los siguientes resultados:\n",
    "\n",
    "**Métrica**  | **Lematizador**   |  **Lematizador sin stopwords** | **Stemming**  \n",
    "  ----------------- | ---------- | -----------------------------  | ------------------  \n",
    "  Training accuracy | 0.958638   |         0.955262               |  0.878728                   \n",
    "  Test accuracy     | 0.738531   |         0.748663               |  0.701098              \n",
    "  Precision         | 0.74       |         0.75                   |  0.70             \n",
    "  Recall            | 0.74       |         0.75                   |  0.70             \n",
    "  F1-score          | 0.74       |         0.75                   |  0.70             \n",
    "  \n",
    "En términos generales, se obtienen buenos resultados utilizando lematización y stemming, siendo este último un poco mejor. Al trabajar sin stopwords el procesamiento se vuelve más lento al aumentar el vocabulario pero a pesar de eso, se obtienen buenos resultados. Sin embargo, las palabras más frecuentes son artículos, pronombres y preposiciones en su mayoría, lo que causa la pérdida del poder de análisis en los datos. "
   ]
  },
  {
   "cell_type": "markdown",
   "metadata": {},
   "source": [
    "### g) Clasificador Bayesiano Ingenuo Multinomial"
   ]
  },
  {
   "cell_type": "code",
   "execution_count": 13,
   "metadata": {
    "collapsed": false
   },
   "outputs": [
    {
     "name": "stdout",
     "output_type": "stream",
     "text": [
      "Training Accuracy MULTINOMIAL: 0.959482\n",
      "Test Accuracy MULTINOMIAL: 0.740782\n",
      "Detailed Analysis Testing Results ...\n",
      "             precision    recall  f1-score   support\n",
      "\n",
      "          +       0.75      0.73      0.74      1803\n",
      "          -       0.73      0.75      0.74      1751\n",
      "\n",
      "avg / total       0.74      0.74      0.74      3554\n",
      "\n",
      "[ 0.5015401  0.4984599] 'this movie sucks . '\n",
      "\n",
      "[ 0.37561196  0.62438804] not the great american comedy , but if you liked the previous movies in the series , you'll have a good time with this one too .\n",
      "\n",
      "[ 0.82668558  0.17331442] you don't have to be an especially tough grader to give a charitable b-minus to the emperor's club .\n",
      "\n",
      "[ 0.34138331  0.65861669] bittersweet comedy/drama full of life , hand gestures , and some really adorable italian guys .\n",
      "\n",
      "[ 0.86048873  0.13951127] it has the right approach and the right opening premise , but it lacks the zest and it goes for a plot twist instead of trusting the material .\n",
      "\n",
      "[ 0.86144939  0.13855061] a sleek advert for youthful anomie that never quite equals the sum of its pretensions .\n",
      "\n",
      "[ 0.02573967  0.97426033] amazing ! a college story that works even without vulgarity , sex scenes , and cussing !\n",
      "\n",
      "[ 0.12712554  0.87287446] what makes barbershop so likable , with all its flaws , is that it has none of the pushiness and decibel volume of most contemporary comedies .\n",
      "\n",
      "[ 0.54143966  0.45856034] beautifully reclaiming the story of carmen and recreating it an in an african idiom .\n",
      "\n",
      "[ 0.02123671  0.97876329] nonchalantly freaky and uncommonly pleasurable , warm water may well be the year's best and most unpredictable comedy .\n",
      "\n",
      "[ 0.49970897  0.50029103] . . . wise and elegiac . . .\n",
      "\n",
      "[ 0.15135699  0.84864301] a no-holds-barred cinematic treat .\n",
      "\n",
      "[ 0.78909318  0.21090682] it's neither as sappy as big daddy nor as anarchic as happy gilmore or the waterboy , but it has its moments .\n",
      "\n",
      "[ 0.36799322  0.63200678] one of the best looking and stylish animated movies in quite a while . . .\n",
      "\n",
      "[ 0.12202296  0.87797704] it gives devastating testimony to both people's capacity for evil and their heroic capacity for good .\n",
      "\n"
     ]
    }
   ],
   "source": [
    "from sklearn.naive_bayes import MultinomialNB\n",
    "import random\n",
    "def do_MULTINOMIAL(x,y,xt,yt):\n",
    "    model = MultinomialNB()\n",
    "    model = model.fit(x, y)\n",
    "    score_the_model(model,x,y,xt,yt,\"MULTINOMIAL\")\n",
    "    return model\n",
    "\n",
    "#Lematizador\n",
    "texts_train = [word_extractor2(text) for text in train_df.Text]\n",
    "texts_test = [word_extractor2(text) for text in test_df.Text]\n",
    "vectorizer = CountVectorizer(ngram_range=(1, 1), binary='False')\n",
    "vectorizer.fit(np.asarray(texts_train))\n",
    "features_train = vectorizer.transform(texts_train)\n",
    "features_test = vectorizer.transform(texts_test)\n",
    "labels_train = np.asarray((train_df.Sentiment.astype(float)+1)/2.0)\n",
    "labels_test = np.asarray((test_df.Sentiment.astype(float)+1)/2.0)\n",
    "vocab = vectorizer.get_feature_names()\n",
    "\n",
    "model=do_MULTINOMIAL(features_train,labels_train,features_test,labels_test)\n",
    "test_pred = model.predict_proba(features_test)\n",
    "spl = random.sample(xrange(len(test_pred)), 15)\n",
    "for text, sentiment in zip(test_df.Text[spl], test_pred[spl]):\n",
    "    print sentiment, text"
   ]
  },
  {
   "cell_type": "code",
   "execution_count": 14,
   "metadata": {
    "collapsed": false
   },
   "outputs": [
    {
     "name": "stdout",
     "output_type": "stream",
     "text": [
      "Training Accuracy MULTINOMIAL: 0.955543\n",
      "Test Accuracy MULTINOMIAL: 0.747537\n",
      "Detailed Analysis Testing Results ...\n",
      "             precision    recall  f1-score   support\n",
      "\n",
      "          +       0.75      0.75      0.75      1803\n",
      "          -       0.74      0.74      0.74      1751\n",
      "\n",
      "avg / total       0.75      0.75      0.75      3554\n",
      "\n",
      "[ 0.14282098  0.85717902] will probably stay in the shadow of its two older , more accessible qatsi siblings .\n",
      "\n",
      "[ 0.89031275  0.10968725] yes , i have given this movie a rating of zero . but fans of the show should not consider this a diss . consider it 'perfection . '\n",
      "\n",
      "[ 0.94201887  0.05798113] lawrence should stick to his day job . he's a better actor than a standup comedian .\n",
      "\n",
      "[  9.99558318e-01   4.41682403e-04] a tired , unnecessary retread . . . a stale copy of a picture that wasn't all that great to begin with .\n",
      "\n",
      "[ 0.53648151  0.46351849] does point the way for adventurous indian filmmakers toward a crossover into nonethnic markets .\n",
      "\n",
      "[ 0.8344256  0.1655744] leaves you with a knot in your stomach , its power is undercut by its own head-banging obviousness .\n",
      "\n",
      "[ 0.15342413  0.84657587] large budget notwithstanding , the movie is such a blip on the year's radar screen that it's tempting just to go with it for the ride . but this time , the old mib label stands for milder isn't better .\n",
      "\n",
      "[ 0.98503613  0.01496387] writer/director john mckay ignites some charming chemistry between kate and jed but , when he veers into sodden melodrama , punctuated by violins , it's disastrous and kate's jealous female friends become downright despicable .\n",
      "\n",
      "[  2.18605926e-04   9.99781394e-01] a compelling coming-of-age drama about the arduous journey of a sensitive young girl through a series of foster homes and a fierce struggle to pull free from her dangerous and domineering mother's hold over her .\n",
      "\n",
      "[ 0.93312564  0.06687436] the movie isn't painfully bad , something to be 'fully experienced' ; it's just tediously bad , something to be fully forgotten .\n",
      "\n",
      "[ 0.24753489  0.75246511] like all of egoyan's work , ararat is fiercely intelligent and uncommonly ambitious .\n",
      "\n",
      "[ 0.59729234  0.40270766] steers turns in a snappy screenplay that curls at the edges ; it's so clever you want to hate it . but he somehow pulls it off .\n",
      "\n",
      "[ 0.03187479  0.96812521] there's a disturbing 'great white hope' undertone to the other side of heaven that subtly undermines its message of christian love and compassion .\n",
      "\n",
      "[ 0.67783005  0.32216995] . . . grows decidedly flimsier with its many out-sized , out of character and logically porous action set pieces .\n",
      "\n",
      "[ 0.90680767  0.09319233] there's something with potential here , but the movie decides , like lavinia , to go the conservative route .\n",
      "\n"
     ]
    }
   ],
   "source": [
    "#Lematizador sin stopwords\n",
    "texts_train_stopwords = [word_extractor2(text, stopWords = False) for text in train_df.Text]\n",
    "texts_test_stopwords = [word_extractor2(text, stopWords = False) for text in test_df.Text]\n",
    "vectorizer = CountVectorizer(ngram_range=(1, 1), binary='False')\n",
    "vectorizer.fit(np.asarray(texts_train_stopwords))\n",
    "features_train = vectorizer.transform(texts_train_stopwords)\n",
    "features_test = vectorizer.transform(texts_test_stopwords)\n",
    "labels_train = np.asarray((train_df.Sentiment.astype(float)+1)/2.0)\n",
    "labels_test = np.asarray((test_df.Sentiment.astype(float)+1)/2.0)\n",
    "vocab = vectorizer.get_feature_names()\n",
    "\n",
    "model=do_MULTINOMIAL(features_train,labels_train,features_test,labels_test)\n",
    "test_pred = model.predict_proba(features_test)\n",
    "spl = random.sample(xrange(len(test_pred)), 15)\n",
    "\n",
    "for text, sentiment in zip(test_df.Text[spl], test_pred[spl]):\n",
    "    print sentiment, text"
   ]
  },
  {
   "cell_type": "code",
   "execution_count": 15,
   "metadata": {
    "collapsed": false
   },
   "outputs": [
    {
     "name": "stdout",
     "output_type": "stream",
     "text": [
      "Training Accuracy MULTINOMIAL: 0.882949\n",
      "Test Accuracy MULTINOMIAL: 0.705319\n",
      "Detailed Analysis Testing Results ...\n",
      "             precision    recall  f1-score   support\n",
      "\n",
      "          +       0.71      0.70      0.71      1803\n",
      "          -       0.70      0.71      0.70      1751\n",
      "\n",
      "avg / total       0.71      0.71      0.71      3554\n",
      "\n",
      "[ 0.89626185  0.10373815] for anyone who grew up on disney's 1950 treasure island , or remembers the 1934 victor fleming classic , this one feels like an impostor .\n",
      "\n",
      "[ 0.49516061  0.50483939] it tells more than it shows .\n",
      "\n",
      "[ 0.73341015  0.26658985] as broad and cartoonish as the screenplay is , there is an accuracy of observation in the work of the director , frank novak , that keeps the film grounded in an undeniable social realism .\n",
      "\n",
      "[ 0.91335102  0.08664898] this version of h . g . wells' time machine was directed by h . g . wells' great-grandson . they should have found orson welles' great-grandson .\n",
      "\n",
      "[ 0.81100419  0.18899581] as vulgar as it is banal .\n",
      "\n",
      "[ 0.91944106  0.08055894] suffers from a decided lack of creative storytelling .\n",
      "\n",
      "[ 0.62913241  0.37086759] just about all of the film is confusing on one level or another , making ararat far more demanding than it needs to be .\n",
      "\n",
      "[ 0.95937263  0.04062737] when the screenwriter responsible for one of the worst movies of one year directs an equally miserable film the following year , you'd have a hard time believing it was just coincidence .\n",
      "\n",
      "[ 0.6801548  0.3198452] if you're not a prepubescent girl , you'll be laughing at britney spears' movie-starring debut whenever it doesn't have you impatiently squinting at your watch .\n",
      "\n",
      "[ 0.31398997  0.68601003] fear dot com is more frustrating than a modem that disconnects every 10 seconds .\n",
      "\n",
      "[ 0.31605969  0.68394031] while not quite a comedy , the film tackles its relatively serious subject with an open mind and considerable good cheer , and is never less than engaging .\n",
      "\n",
      "[ 0.89418183  0.10581817] it's all arty and jazzy and people sit and stare and turn away from one another instead of talking and it's all about the silences and if you're into that , have at it .\n",
      "\n",
      "[ 0.16056064  0.83943936] this clever caper movie has twists worthy of david mamet and is enormous fun for thinking audiences .\n",
      "\n",
      "[ 0.08016267  0.91983733] whatever one makes of its political edge , this is beautiful filmmaking from one of french cinema's master craftsmen .\n",
      "\n",
      "[ 0.09350121  0.90649879] who needs mind-bending drugs when they can see this , the final part of the 'qatsi' trilogy , directed by godfrey reggio , with music by philip glass ?\n",
      "\n"
     ]
    }
   ],
   "source": [
    "#Stemming\n",
    "texts_train_stemming = [word_extractor(text) for text in train_df.Text]\n",
    "texts_test_stemming = [word_extractor(text) for text in test_df.Text]\n",
    "vectorizer = CountVectorizer(ngram_range=(1, 1), binary='False')\n",
    "vectorizer.fit(np.asarray(texts_train_stopwords))\n",
    "features_train = vectorizer.transform(texts_train_stemming)\n",
    "features_test = vectorizer.transform(texts_test_stemming)\n",
    "labels_train = np.asarray((train_df.Sentiment.astype(float)+1)/2.0)\n",
    "labels_test = np.asarray((test_df.Sentiment.astype(float)+1)/2.0)\n",
    "vocab = vectorizer.get_feature_names()\n",
    "\n",
    "model=do_MULTINOMIAL(features_train,labels_train,features_test,labels_test)\n",
    "test_pred = model.predict_proba(features_test)\n",
    "spl = random.sample(xrange(len(test_pred)), 15)\n",
    "\n",
    "for text, sentiment in zip(test_df.Text[spl], test_pred[spl]):\n",
    "    print sentiment, text"
   ]
  },
  {
   "cell_type": "markdown",
   "metadata": {},
   "source": [
    "Como resumen, al usar el Clasificador Bayesiano Ingenuo Multinomial, se obtuvieron los siguientes resultados:\n",
    "\n",
    "**Métrica**  | **Lematizador**   |  **Lematizador sin stopwords** | **Stemming**  \n",
    "  ----------------- | ---------- | -----------------------------  | ------------------  \n",
    "  Training accuracy | 0.959482   |         0.955543               |  0.882949                   \n",
    "  Test accuracy     | 0.740782   |         0.747537               |  0.705319              \n",
    "  Precision         | 0.74       |         0.75                   |  0.71             \n",
    "  Recall            | 0.74       |         0.75                   |  0.71             \n",
    "  F1-score          | 0.74       |         0.75                   |  0.71             \n",
    "  \n",
    "La conclusión que se obtiene a partir de estos resultados es la misma que para el caso del ejercicio f), debida a las mismas razones planteadas anteriormente en dicho ejercicio, es decir, se obtienen buenos resultados utilizando lematización y stemming, siendo este último el que logra un mejor resultado. Al trabajar sin stopwords el efecto que produce es que el procesamiento se vuelve más lento, debido al aumento en el vocabulario pero aún así se obtienen buenos resultados. No obstante, las palabras más frecuentes son artículos, pronombres y preposiciones en su mayoría perdiendo poder de análisis en los datos."
   ]
  },
  {
   "cell_type": "markdown",
   "metadata": {},
   "source": [
    "### h) Regresión Logı́stica Regularizado\n",
    "\n",
    "La regularización permite controlar el efecto de los estimadores en la predicción, es decir, el aporte que tienen\n",
    "estos. Para el caso del algoritmo de Regresión logística (ocurre lo mismo en SVM lineal) utiliza como parámetro\n",
    "el valor inverso del parámetro de regularización, por tanto tiene un efecto contrario al habitual. Si la regularización toma un valor bajo (cercano a cero) significa que el aporte de los estimadores en la predicción será alto (la penalización es baja) y si el parámetro toma un valor alto ocurre lo contrario (penalización alta). Entonces, con la regularización adecuada se busca reducir el efecto de overfitting en el modelo predictivo, al reducir o disminuir la participación de los estimadores en el modelo."
   ]
  },
  {
   "cell_type": "code",
   "execution_count": 16,
   "metadata": {
    "collapsed": false
   },
   "outputs": [
    {
     "name": "stdout",
     "output_type": "stream",
     "text": [
      "Usando C= 0.010000\n",
      "Training Accuracy LOGISTIC: 0.784468\n",
      "Test Accuracy LOGISTIC: 0.678863\n",
      "Detailed Analysis Testing Results ...\n",
      "             precision    recall  f1-score   support\n",
      "\n",
      "          +       0.67      0.73      0.70      1803\n",
      "          -       0.69      0.63      0.66      1751\n",
      "\n",
      "avg / total       0.68      0.68      0.68      3554\n",
      "\n",
      "Usando C= 0.100000\n",
      "Training Accuracy LOGISTIC: 0.892234\n",
      "Test Accuracy LOGISTIC: 0.719111\n",
      "Detailed Analysis Testing Results ...\n",
      "             precision    recall  f1-score   support\n",
      "\n",
      "          +       0.72      0.72      0.72      1803\n",
      "          -       0.72      0.71      0.71      1751\n",
      "\n",
      "avg / total       0.72      0.72      0.72      3554\n",
      "\n",
      "Usando C= 10.000000\n",
      "Training Accuracy LOGISTIC: 1.000000\n",
      "Test Accuracy LOGISTIC: 0.718548\n",
      "Detailed Analysis Testing Results ...\n",
      "             precision    recall  f1-score   support\n",
      "\n",
      "          +       0.73      0.72      0.72      1803\n",
      "          -       0.71      0.72      0.72      1751\n",
      "\n",
      "avg / total       0.72      0.72      0.72      3554\n",
      "\n",
      "Usando C= 100.000000\n",
      "Training Accuracy LOGISTIC: 1.000000\n",
      "Test Accuracy LOGISTIC: 0.714044\n",
      "Detailed Analysis Testing Results ...\n",
      "             precision    recall  f1-score   support\n",
      "\n",
      "          +       0.72      0.71      0.72      1803\n",
      "          -       0.71      0.72      0.71      1751\n",
      "\n",
      "avg / total       0.71      0.71      0.71      3554\n",
      "\n",
      "Usando C= 1000.000000\n",
      "Training Accuracy LOGISTIC: 1.000000\n",
      "Test Accuracy LOGISTIC: 0.712356\n",
      "Detailed Analysis Testing Results ...\n",
      "             precision    recall  f1-score   support\n",
      "\n",
      "          +       0.72      0.71      0.71      1803\n",
      "          -       0.70      0.72      0.71      1751\n",
      "\n",
      "avg / total       0.71      0.71      0.71      3554\n",
      "\n"
     ]
    }
   ],
   "source": [
    "from sklearn.linear_model import LogisticRegression\n",
    "def do_LOGIT(x,y,xt,yt):\n",
    "    start_t = time.time()\n",
    "    Cs = [0.01,0.1,10,100,1000]\n",
    "    for C in Cs:\n",
    "        print \"Usando C= %f\"%C\n",
    "        model = LogisticRegression(penalty='l2',C=C)\n",
    "        model = model.fit(x, y)\n",
    "        score_the_model(model,x,y,xt,yt,\"LOGISTIC\")\n",
    "\n",
    "#Lematizador\n",
    "texts_train = [word_extractor2(text) for text in train_df.Text]\n",
    "texts_test = [word_extractor2(text) for text in test_df.Text]\n",
    "vectorizer = CountVectorizer(ngram_range=(1, 1), binary='False')\n",
    "vectorizer.fit(np.asarray(texts_train))\n",
    "features_train = vectorizer.transform(texts_train)\n",
    "features_test = vectorizer.transform(texts_test)\n",
    "labels_train = np.asarray((train_df.Sentiment.astype(float)+1)/2.0)\n",
    "labels_test = np.asarray((test_df.Sentiment.astype(float)+1)/2.0)\n",
    "vocab = vectorizer.get_feature_names()\n",
    "do_LOGIT(features_train,labels_train,features_test,labels_test)"
   ]
  },
  {
   "cell_type": "code",
   "execution_count": 17,
   "metadata": {
    "collapsed": false
   },
   "outputs": [
    {
     "name": "stdout",
     "output_type": "stream",
     "text": [
      "Usando C= 0.010000\n",
      "Training Accuracy LOGISTIC: 0.734102\n",
      "Test Accuracy LOGISTIC: 0.671827\n",
      "Detailed Analysis Testing Results ...\n",
      "             precision    recall  f1-score   support\n",
      "\n",
      "          +       0.68      0.68      0.68      1803\n",
      "          -       0.67      0.66      0.67      1751\n",
      "\n",
      "avg / total       0.67      0.67      0.67      3554\n",
      "\n",
      "Usando C= 0.100000\n",
      "Training Accuracy LOGISTIC: 0.879572\n",
      "Test Accuracy LOGISTIC: 0.718548\n",
      "Detailed Analysis Testing Results ...\n",
      "             precision    recall  f1-score   support\n",
      "\n",
      "          +       0.72      0.72      0.72      1803\n",
      "          -       0.71      0.72      0.72      1751\n",
      "\n",
      "avg / total       0.72      0.72      0.72      3554\n",
      "\n",
      "Usando C= 10.000000\n",
      "Training Accuracy LOGISTIC: 1.000000\n",
      "Test Accuracy LOGISTIC: 0.731495\n",
      "Detailed Analysis Testing Results ...\n",
      "             precision    recall  f1-score   support\n",
      "\n",
      "          +       0.74      0.72      0.73      1803\n",
      "          -       0.72      0.75      0.73      1751\n",
      "\n",
      "avg / total       0.73      0.73      0.73      3554\n",
      "\n",
      "Usando C= 100.000000\n",
      "Training Accuracy LOGISTIC: 1.000000\n",
      "Test Accuracy LOGISTIC: 0.724740\n",
      "Detailed Analysis Testing Results ...\n",
      "             precision    recall  f1-score   support\n",
      "\n",
      "          +       0.74      0.70      0.72      1803\n",
      "          -       0.71      0.75      0.73      1751\n",
      "\n",
      "avg / total       0.73      0.72      0.72      3554\n",
      "\n",
      "Usando C= 1000.000000\n",
      "Training Accuracy LOGISTIC: 1.000000\n",
      "Test Accuracy LOGISTIC: 0.720799\n",
      "Detailed Analysis Testing Results ...\n",
      "             precision    recall  f1-score   support\n",
      "\n",
      "          +       0.74      0.70      0.72      1803\n",
      "          -       0.70      0.75      0.72      1751\n",
      "\n",
      "avg / total       0.72      0.72      0.72      3554\n",
      "\n"
     ]
    }
   ],
   "source": [
    "#Lematizador sin stopwords\n",
    "texts_train_stopwords = [word_extractor2(text, stopWords = False) for text in train_df.Text]\n",
    "texts_test_stopwords = [word_extractor2(text, stopWords = False) for text in test_df.Text]\n",
    "vectorizer = CountVectorizer(ngram_range=(1, 1), binary='False')\n",
    "vectorizer.fit(np.asarray(texts_train_stopwords))\n",
    "features_train = vectorizer.transform(texts_train_stopwords)\n",
    "features_test = vectorizer.transform(texts_test_stopwords)\n",
    "labels_train = np.asarray((train_df.Sentiment.astype(float)+1)/2.0)\n",
    "labels_test = np.asarray((test_df.Sentiment.astype(float)+1)/2.0)\n",
    "vocab = vectorizer.get_feature_names()\n",
    "do_LOGIT(features_train,labels_train,features_test,labels_test)"
   ]
  },
  {
   "cell_type": "code",
   "execution_count": 18,
   "metadata": {
    "collapsed": false
   },
   "outputs": [
    {
     "name": "stdout",
     "output_type": "stream",
     "text": [
      "Usando C= 0.010000\n",
      "Training Accuracy LOGISTIC: 0.723129\n",
      "Test Accuracy LOGISTIC: 0.654095\n",
      "Detailed Analysis Testing Results ...\n",
      "             precision    recall  f1-score   support\n",
      "\n",
      "          +       0.64      0.72      0.68      1803\n",
      "          -       0.67      0.58      0.62      1751\n",
      "\n",
      "avg / total       0.66      0.65      0.65      3554\n",
      "\n",
      "Usando C= 0.100000\n",
      "Training Accuracy LOGISTIC: 0.814856\n",
      "Test Accuracy LOGISTIC: 0.689840\n",
      "Detailed Analysis Testing Results ...\n",
      "             precision    recall  f1-score   support\n",
      "\n",
      "          +       0.69      0.71      0.70      1803\n",
      "          -       0.69      0.67      0.68      1751\n",
      "\n",
      "avg / total       0.69      0.69      0.69      3554\n",
      "\n",
      "Usando C= 10.000000\n",
      "Training Accuracy LOGISTIC: 0.977209\n",
      "Test Accuracy LOGISTIC: 0.668731\n",
      "Detailed Analysis Testing Results ...\n",
      "             precision    recall  f1-score   support\n",
      "\n",
      "          +       0.67      0.67      0.67      1803\n",
      "          -       0.66      0.67      0.66      1751\n",
      "\n",
      "avg / total       0.67      0.67      0.67      3554\n",
      "\n",
      "Usando C= 100.000000\n",
      "Training Accuracy LOGISTIC: 0.991277\n",
      "Test Accuracy LOGISTIC: 0.656065\n",
      "Detailed Analysis Testing Results ...\n",
      "             precision    recall  f1-score   support\n",
      "\n",
      "          +       0.66      0.66      0.66      1803\n",
      "          -       0.65      0.65      0.65      1751\n",
      "\n",
      "avg / total       0.66      0.66      0.66      3554\n",
      "\n",
      "Usando C= 1000.000000\n",
      "Training Accuracy LOGISTIC: 0.994373\n",
      "Test Accuracy LOGISTIC: 0.646777\n",
      "Detailed Analysis Testing Results ...\n",
      "             precision    recall  f1-score   support\n",
      "\n",
      "          +       0.65      0.65      0.65      1803\n",
      "          -       0.64      0.64      0.64      1751\n",
      "\n",
      "avg / total       0.65      0.65      0.65      3554\n",
      "\n"
     ]
    }
   ],
   "source": [
    "#Stemming\n",
    "texts_train_stemming = [word_extractor(text) for text in train_df.Text]\n",
    "texts_test_stemming = [word_extractor(text) for text in test_df.Text]\n",
    "vectorizer = CountVectorizer(ngram_range=(1, 1), binary='False')\n",
    "vectorizer.fit(np.asarray(texts_train_stopwords))\n",
    "features_train = vectorizer.transform(texts_train_stemming)\n",
    "features_test = vectorizer.transform(texts_test_stemming)\n",
    "labels_train = np.asarray((train_df.Sentiment.astype(float)+1)/2.0)\n",
    "labels_test = np.asarray((test_df.Sentiment.astype(float)+1)/2.0)\n",
    "vocab = vectorizer.get_feature_names()\n",
    "do_LOGIT(features_train,labels_train,features_test,labels_test)"
   ]
  },
  {
   "cell_type": "markdown",
   "metadata": {},
   "source": [
    "Se obtienen las métricas relacionadas al aplicar un modelo de Regresión Logística Regularizado, penalizando con\n",
    "normal $l_{2}$ y parámetro de regularización C = 0,1, para los diferentes casos solicitados.\n",
    "\n",
    "**Métrica**  | **Lematizador**   |  **Lematizador sin stopwords** | **Stemming**  \n",
    "  ----------------- | ---------- | -----------------------------  | ------------------  \n",
    "  Training accuracy | 0.892234   |         0.879572               |  0.814856                   \n",
    "  Test accuracy     | 0.719111   |         0.718548               |  0.689840              \n",
    "  Precision         | 0.72       |         0.72                   |  0.73             \n",
    "  Recall            | 0.72       |         0.72                   |  0.73             \n",
    "  F1-score          | 0.72       |         0.72                   |  0.73             \n",
    "  \n",
    "Como se puede apreciar, la conclusión es la misma que se realizó en las preguntas f) y g) debida a las mismas razones planteadas en tales preguntas, es decir, nuevamente se obtienen buenos resultados utilizando lematización y stemming, siendo este último el que logra un resultado mejor. Al eliminar la técnica de stopwords el efecto que produce es que el procesamiento se vuelve más lento, debido al aumento en el vocabulario, pero aún así se obtienen buenos resultados. No obstante, las palabras más frecuentes son en su mayoría artículos, pronombres y preposiciones perdiendo poder de análisis en los datos."
   ]
  },
  {
   "cell_type": "markdown",
   "metadata": {},
   "source": [
    "### i) Máquina de Vectores de Soporte (SVM) Lineal"
   ]
  },
  {
   "cell_type": "code",
   "execution_count": 19,
   "metadata": {
    "collapsed": false
   },
   "outputs": [
    {
     "name": "stdout",
     "output_type": "stream",
     "text": [
      "El valor de C que se esta probando: 0.010000\n",
      "Training Accuracy SVM: 0.884637\n",
      "Test Accuracy SVM: 0.715170\n",
      "Detailed Analysis Testing Results ...\n",
      "             precision    recall  f1-score   support\n",
      "\n",
      "          +       0.72      0.72      0.72      1803\n",
      "          -       0.71      0.71      0.71      1751\n",
      "\n",
      "avg / total       0.72      0.72      0.72      3554\n",
      "\n",
      "El valor de C que se esta probando: 0.100000\n",
      "Training Accuracy SVM: 0.989589\n",
      "Test Accuracy SVM: 0.723614\n",
      "Detailed Analysis Testing Results ...\n",
      "             precision    recall  f1-score   support\n",
      "\n",
      "          +       0.73      0.72      0.73      1803\n",
      "          -       0.72      0.73      0.72      1751\n",
      "\n",
      "avg / total       0.72      0.72      0.72      3554\n",
      "\n",
      "El valor de C que se esta probando: 10.000000\n",
      "Training Accuracy SVM: 1.000000\n",
      "Test Accuracy SVM: 0.702786\n",
      "Detailed Analysis Testing Results ...\n",
      "             precision    recall  f1-score   support\n",
      "\n",
      "          +       0.71      0.69      0.70      1803\n",
      "          -       0.69      0.71      0.70      1751\n",
      "\n",
      "avg / total       0.70      0.70      0.70      3554\n",
      "\n",
      "El valor de C que se esta probando: 100.000000\n",
      "Training Accuracy SVM: 1.000000\n",
      "Test Accuracy SVM: 0.698565\n",
      "Detailed Analysis Testing Results ...\n",
      "             precision    recall  f1-score   support\n",
      "\n",
      "          +       0.71      0.69      0.70      1803\n",
      "          -       0.69      0.71      0.70      1751\n",
      "\n",
      "avg / total       0.70      0.70      0.70      3554\n",
      "\n",
      "El valor de C que se esta probando: 1000.000000\n",
      "Training Accuracy SVM: 1.000000\n",
      "Test Accuracy SVM: 0.697439\n",
      "Detailed Analysis Testing Results ...\n",
      "             precision    recall  f1-score   support\n",
      "\n",
      "          +       0.71      0.69      0.70      1803\n",
      "          -       0.69      0.70      0.70      1751\n",
      "\n",
      "avg / total       0.70      0.70      0.70      3554\n",
      "\n"
     ]
    }
   ],
   "source": [
    "from sklearn.svm import LinearSVC\n",
    "def do_SVM(x,y,xt,yt):\n",
    "    Cs = [0.01,0.1,10,100,1000]\n",
    "    for C in Cs:\n",
    "        print \"El valor de C que se esta probando: %f\"%C\n",
    "        model = LinearSVC(C=C)\n",
    "        model = model.fit(x, y)\n",
    "        score_the_model(model,x,y,xt,yt,\"SVM\")\n",
    "\n",
    "#Lematizador\n",
    "texts_train = [word_extractor2(text) for text in train_df.Text]\n",
    "texts_test = [word_extractor2(text) for text in test_df.Text]\n",
    "vectorizer = CountVectorizer(ngram_range=(1, 1), binary='False')\n",
    "vectorizer.fit(np.asarray(texts_train))\n",
    "features_train = vectorizer.transform(texts_train)\n",
    "features_test = vectorizer.transform(texts_test)\n",
    "labels_train = np.asarray((train_df.Sentiment.astype(float)+1)/2.0)\n",
    "labels_test = np.asarray((test_df.Sentiment.astype(float)+1)/2.0)\n",
    "vocab = vectorizer.get_feature_names()\n",
    "do_SVM(features_train,labels_train,features_test,labels_test)"
   ]
  },
  {
   "cell_type": "code",
   "execution_count": 20,
   "metadata": {
    "collapsed": false
   },
   "outputs": [
    {
     "name": "stdout",
     "output_type": "stream",
     "text": [
      "El valor de C que se esta probando: 0.010000\n",
      "Training Accuracy SVM: 0.873382\n",
      "Test Accuracy SVM: 0.719111\n",
      "Detailed Analysis Testing Results ...\n",
      "             precision    recall  f1-score   support\n",
      "\n",
      "          +       0.72      0.72      0.72      1803\n",
      "          -       0.71      0.72      0.72      1751\n",
      "\n",
      "avg / total       0.72      0.72      0.72      3554\n",
      "\n",
      "El valor de C que se esta probando: 0.100000\n",
      "Training Accuracy SVM: 0.987901\n",
      "Test Accuracy SVM: 0.738249\n",
      "Detailed Analysis Testing Results ...\n",
      "             precision    recall  f1-score   support\n",
      "\n",
      "          +       0.75      0.73      0.74      1803\n",
      "          -       0.73      0.75      0.74      1751\n",
      "\n",
      "avg / total       0.74      0.74      0.74      3554\n",
      "\n",
      "El valor de C que se esta probando: 10.000000\n",
      "Training Accuracy SVM: 1.000000\n",
      "Test Accuracy SVM: 0.713763\n",
      "Detailed Analysis Testing Results ...\n",
      "             precision    recall  f1-score   support\n",
      "\n",
      "          +       0.73      0.69      0.71      1803\n",
      "          -       0.70      0.74      0.72      1751\n",
      "\n",
      "avg / total       0.71      0.71      0.71      3554\n",
      "\n",
      "El valor de C que se esta probando: 100.000000\n",
      "Training Accuracy SVM: 1.000000\n",
      "Test Accuracy SVM: 0.714889\n",
      "Detailed Analysis Testing Results ...\n",
      "             precision    recall  f1-score   support\n",
      "\n",
      "          +       0.73      0.69      0.71      1803\n",
      "          -       0.70      0.74      0.72      1751\n",
      "\n",
      "avg / total       0.72      0.71      0.71      3554\n",
      "\n",
      "El valor de C que se esta probando: 1000.000000\n",
      "Training Accuracy SVM: 1.000000\n",
      "Test Accuracy SVM: 0.714889\n",
      "Detailed Analysis Testing Results ...\n",
      "             precision    recall  f1-score   support\n",
      "\n",
      "          +       0.73      0.69      0.71      1803\n",
      "          -       0.70      0.74      0.72      1751\n",
      "\n",
      "avg / total       0.72      0.71      0.71      3554\n",
      "\n"
     ]
    }
   ],
   "source": [
    "#Lematizador sin stopwords\n",
    "texts_train_stopwords = [word_extractor2(text, stopWords = False) for text in train_df.Text]\n",
    "texts_test_stopwords = [word_extractor2(text, stopWords = False) for text in test_df.Text]\n",
    "vectorizer = CountVectorizer(ngram_range=(1, 1), binary='False')\n",
    "vectorizer.fit(np.asarray(texts_train_stopwords))\n",
    "features_train = vectorizer.transform(texts_train_stopwords)\n",
    "features_test = vectorizer.transform(texts_test_stopwords)\n",
    "labels_train = np.asarray((train_df.Sentiment.astype(float)+1)/2.0)\n",
    "labels_test = np.asarray((test_df.Sentiment.astype(float)+1)/2.0)\n",
    "vocab = vectorizer.get_feature_names()\n",
    "do_SVM(features_train,labels_train,features_test,labels_test)"
   ]
  },
  {
   "cell_type": "code",
   "execution_count": 21,
   "metadata": {
    "collapsed": false
   },
   "outputs": [
    {
     "name": "stdout",
     "output_type": "stream",
     "text": [
      "El valor de C que se esta probando: 0.010000\n",
      "Training Accuracy SVM: 0.808385\n",
      "Test Accuracy SVM: 0.688432\n",
      "Detailed Analysis Testing Results ...\n",
      "             precision    recall  f1-score   support\n",
      "\n",
      "          +       0.69      0.71      0.70      1803\n",
      "          -       0.69      0.67      0.68      1751\n",
      "\n",
      "avg / total       0.69      0.69      0.69      3554\n",
      "\n",
      "El valor de C que se esta probando: 0.100000\n",
      "Training Accuracy SVM: 0.921497\n",
      "Test Accuracy SVM: 0.698283\n",
      "Detailed Analysis Testing Results ...\n",
      "             precision    recall  f1-score   support\n",
      "\n",
      "          +       0.70      0.70      0.70      1803\n",
      "          -       0.69      0.70      0.69      1751\n",
      "\n",
      "avg / total       0.70      0.70      0.70      3554\n",
      "\n",
      "El valor de C que se esta probando: 10.000000\n",
      "Training Accuracy SVM: 0.991559\n",
      "Test Accuracy SVM: 0.650155\n",
      "Detailed Analysis Testing Results ...\n",
      "             precision    recall  f1-score   support\n",
      "\n",
      "          +       0.65      0.66      0.66      1803\n",
      "          -       0.65      0.64      0.64      1751\n",
      "\n",
      "avg / total       0.65      0.65      0.65      3554\n",
      "\n",
      "El valor de C que se esta probando: 100.000000\n",
      "Training Accuracy SVM: 0.990433\n",
      "Test Accuracy SVM: 0.638052\n",
      "Detailed Analysis Testing Results ...\n",
      "             precision    recall  f1-score   support\n",
      "\n",
      "          +       0.64      0.65      0.64      1803\n",
      "          -       0.63      0.63      0.63      1751\n",
      "\n",
      "avg / total       0.64      0.64      0.64      3554\n",
      "\n",
      "El valor de C que se esta probando: 1000.000000\n",
      "Training Accuracy SVM: 0.987338\n",
      "Test Accuracy SVM: 0.638615\n",
      "Detailed Analysis Testing Results ...\n",
      "             precision    recall  f1-score   support\n",
      "\n",
      "          +       0.64      0.65      0.65      1803\n",
      "          -       0.64      0.63      0.63      1751\n",
      "\n",
      "avg / total       0.64      0.64      0.64      3554\n",
      "\n"
     ]
    }
   ],
   "source": [
    "#Stemming\n",
    "texts_train_stemming = [word_extractor(text) for text in train_df.Text]\n",
    "texts_test_stemming = [word_extractor(text) for text in test_df.Text]\n",
    "vectorizer = CountVectorizer(ngram_range=(1, 1), binary='False')\n",
    "vectorizer.fit(np.asarray(texts_train_stopwords))\n",
    "features_train = vectorizer.transform(texts_train_stemming)\n",
    "features_test = vectorizer.transform(texts_test_stemming)\n",
    "labels_train = np.asarray((train_df.Sentiment.astype(float)+1)/2.0)\n",
    "labels_test = np.asarray((test_df.Sentiment.astype(float)+1)/2.0)\n",
    "vocab = vectorizer.get_feature_names()\n",
    "do_SVM(features_train,labels_train,features_test,labels_test)"
   ]
  },
  {
   "cell_type": "markdown",
   "metadata": {},
   "source": [
    "Se obtienen las métricas relacionadas al aplicar SVM lineal, con un parámetro de regularización de C = 0,1,\n",
    "para los diferentes casos solicitados.\n",
    "\n",
    "**Métrica**  | **Lematizador**   |  **Lematizador sin stopwords** | **Stemming**  \n",
    "  ----------------- | ---------- | -----------------------------  | ------------------  \n",
    "  Training accuracy | 0.989589   |         0.987901               |  0.921497                   \n",
    "  Test accuracy     | 0.723614   |         0.738249               |  0.698283              \n",
    "  Precision         | 0.72       |         0.74                   |  0.70             \n",
    "  Recall            | 0.72       |         0.74                   |  0.70             \n",
    "  F1-score          | 0.72       |         0.74                   |  0.70             \n",
    "  \n",
    "Nuevamente se obtienen buenos resultados utilizando lematización y stemming, siendo este último el que logra un resultado mejor. Al eliminar la técnica de stopwords el procesamiento se produce un efecto más lento en su ejecución, debido al aumento en el vocabulario pero, el resultado mejora un poco debido a este aumento de información. Sin embargo, las palabras más frecuentes son en su mayoría artículos, pronombres y preposiciones perdiendo poder de análisis en los datos."
   ]
  },
  {
   "cell_type": "markdown",
   "metadata": {
    "collapsed": true
   },
   "source": [
    "### j) Comparando resultados métodos de clasificación\n",
    "\n",
    "Se comparan los diferentes métodos de clasificación vistos de acuerdo a las métricas: accuracy, precisión, recall\n",
    "y f1-score, con las técnicas de *lematización* y *stemming*. Para esto se construye un gráfico de barras que permita hacer dicha comparación."
   ]
  },
  {
   "cell_type": "code",
   "execution_count": 35,
   "metadata": {
    "collapsed": false
   },
   "outputs": [
    {
     "data": {
      "image/png": "[encoded data removed]",
      "text/plain": [
       "<matplotlib.figure.Figure at 0x7f2d0ac1ab50>"
      ]
     },
     "metadata": {},
     "output_type": "display_data"
    },
    {
     "data": {
      "image/png": "[encoded data removed]",
      "text/plain": [
       "<matplotlib.figure.Figure at 0x7f2d0aa123d0>"
      ]
     },
     "metadata": {},
     "output_type": "display_data"
    }
   ],
   "source": [
    "import matplotlib.pyplot as plt\n",
    "\n",
    "#Lematización\n",
    "accuracy_train = []\n",
    "accuracy_test = []\n",
    "precision = []\n",
    "recall = []\n",
    "fscore = []\n",
    "\n",
    "#Guarda las metricas correspondientes en cada método\n",
    "accuracy_train.append(dict_bernoulli_binario[0])\n",
    "accuracy_train.append(dict_multinomial[0])\n",
    "accuracy_train.append(dict_log[0])\n",
    "accuracy_train.append(dict_svm[0])\n",
    "\n",
    "accuracy_test.append(dict_bernoulli_binario[1])\n",
    "accuracy_test.append(dict_multinomial[1])\n",
    "accuracy_test.append(dict_log[1])\n",
    "accuracy_test.append(dict_svm[1])\n",
    "\n",
    "precision.append(dict_bernoulli_binario[2])\n",
    "precision.append(dict_multinomial[2])\n",
    "precision.append(dict_log[2])\n",
    "precision.append(dict_svm[2])\n",
    "\n",
    "recall.append(dict_bernoulli_binario[3])\n",
    "recall.append(dict_multinomial[3])\n",
    "recall.append(dict_log[3])\n",
    "recall.append(dict_svm[3])\n",
    "\n",
    "fscore.append(dict_bernoulli_binario[4])\n",
    "fscore.append(dict_multinomial[4])\n",
    "fscore.append(dict_log[4])\n",
    "fscore.append(dict_svm[4])\n",
    "\n",
    "fig, ax = plt.subplots()\n",
    "index = np.arange(4)\n",
    "bar_width = 0.15\n",
    "opacity = 0.9\n",
    " \n",
    "rects1 = plt.bar(index, accuracy_train, bar_width,alpha=opacity,color='b',label='Accuracy Train')\n",
    "rects2 = plt.bar(index + bar_width, accuracy_test, bar_width,alpha=opacity,color='g',label='Accuracy Test')\n",
    "rects3 = plt.bar(index + 2*bar_width, precision, bar_width,alpha=opacity,color='r',label='Precision')\n",
    "rects4 = plt.bar(index + 3*bar_width, recall, bar_width,alpha=opacity,color='c',label='Recall')\n",
    "rects5 = plt.bar(index + 4*bar_width, fscore, bar_width,alpha=opacity,color='m',label='F1-Score')\n",
    "plt.xlabel('Metodos de Clasificacion')\n",
    "plt.ylabel('Scores')\n",
    "plt.title('Metricas con Lematizacion')\n",
    "plt.xticks(index + bar_width, ('BernoulliNB', 'MultinomialNB', 'LogisticRegression', 'LinearSVC'))\n",
    "plt.legend()\n",
    "\n",
    "#Stemming\n",
    "accuracy_train = []\n",
    "accuracy_test = []\n",
    "precision = []\n",
    "recall = []\n",
    "fscore = []\n",
    "\n",
    "#Guarda las metricas correspondientes en cada método\n",
    "accuracy_train.append(dict_bernoulli_binario[10])\n",
    "accuracy_train.append(dict_multinomial[10])\n",
    "accuracy_train.append(dict_log[10])\n",
    "accuracy_train.append(dict_svm[10])\n",
    "\n",
    "accuracy_test.append(dict_bernoulli_binario[11])\n",
    "accuracy_test.append(dict_multinomial[11])\n",
    "accuracy_test.append(dict_log[11])\n",
    "accuracy_test.append(dict_svm[11])\n",
    "\n",
    "precision.append(dict_bernoulli_binario[12])\n",
    "precision.append(dict_multinomial[12])\n",
    "precision.append(dict_log[12])\n",
    "precision.append(dict_svm[12])\n",
    "\n",
    "recall.append(dict_bernoulli_binario[13])\n",
    "recall.append(dict_multinomial[13])\n",
    "recall.append(dict_log[13])\n",
    "recall.append(dict_svm[13])\n",
    "\n",
    "fscore.append(dict_bernoulli_binario[14])\n",
    "fscore.append(dict_multinomial[14])\n",
    "fscore.append(dict_log[14])\n",
    "fscore.append(dict_svm[14])\n",
    "\n",
    "fig, ax = plt.subplots()\n",
    "index = np.arange(4)\n",
    "bar_width = 0.15\n",
    "opacity = 0.8\n",
    " \n",
    "rects1 = plt.bar(index, accuracy_train, bar_width,alpha=opacity,color='b',label='Accuracy Train')\n",
    "rects2 = plt.bar(index + bar_width, accuracy_test, bar_width,alpha=opacity,color='g',label='Accuracy Test')\n",
    "rects3 = plt.bar(index + 2*bar_width, precision, bar_width,alpha=opacity,color='r',label='Precision')\n",
    "rects4 = plt.bar(index + 3*bar_width, recall, bar_width,alpha=opacity,color='c',label='Recall')\n",
    "rects5 = plt.bar(index + 4*bar_width, fscore, bar_width,alpha=opacity,color='m',label='F1-Score')\n",
    " \n",
    "plt.xlabel('Metodos de Clasificacion')\n",
    "plt.ylabel('Scores')\n",
    "plt.title('Metricas con Stemming')\n",
    "plt.xticks(index + bar_width, ('BernoulliNB', 'MultinomialNB', 'LogisticRegression', 'LinearSVC'))\n",
    "plt.legend()\n",
    "\n",
    "#mostrar gráficos\n",
    "plt.show()"
   ]
  },
  {
   "cell_type": "markdown",
   "metadata": {
    "collapsed": true
   },
   "source": [
    "En ambos gráficos se puede observar que los cuatro métodos tienen un comportamiento similar obteniendo buenos resultados (*accuracy*, *precisión*, *recall* y *f1-score* > 70). Se puede observar que el método que obtiene mejores resultados es el *clasificador Bayesiano Ingenuo Multinomial*. No obstante, para el modelo de *Regresión logística* y *SVM lineal* no se realizo un estudio exhaustivo del parámetro de regulación a utilizar, por lo que con un regularizador más adecuado podría mejorar sus resultados, aún cuando éstos ya son buenos."
   ]
  },
  {
   "cell_type": "code",
   "execution_count": null,
   "metadata": {
    "collapsed": true
   },
   "outputs": [],
   "source": []
  }
 ],
 "metadata": {
  "anaconda-cloud": {},
  "kernelspec": {
   "display_name": "Python [default]",
   "language": "python",
   "name": "python2"
  },
  "language_info": {
   "codemirror_mode": {
    "name": "ipython",
    "version": 2
   },
   "file_extension": ".py",
   "mimetype": "text/x-python",
   "name": "python",
   "nbconvert_exporter": "python",
   "pygments_lexer": "ipython2",
   "version": "2.7.12"
  }
 },
 "nbformat": 4,
 "nbformat_minor": 0
}

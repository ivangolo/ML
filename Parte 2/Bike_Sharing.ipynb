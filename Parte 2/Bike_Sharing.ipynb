{
 "cells": [
  {
   "cell_type": "markdown",
   "metadata": {},
   "source": [
    "## 2. Bike Sharing: Predicción de Demanda Horaria"
   ]
  },
  {
   "cell_type": "markdown",
   "metadata": {},
   "source": [
    "### a) Carga de datos de entrenamiento y de prueba"
   ]
  },
  {
   "cell_type": "code",
   "execution_count": 2,
   "metadata": {
    "collapsed": false
   },
   "outputs": [
    {
     "name": "stdout",
     "output_type": "stream",
     "text": [
      "\n",
      "Summary - dataframe completo:\n",
      "\n",
      "         Unnamed: 0        season       holiday    workingday       weather  \\\n",
      "count  10886.000000  10886.000000  10886.000000  10886.000000  10886.000000   \n",
      "mean    5442.500000      2.506614      0.028569      0.680875      1.418427   \n",
      "std     3142.661849      1.116174      0.166599      0.466159      0.633839   \n",
      "min        0.000000      1.000000      0.000000      0.000000      1.000000   \n",
      "25%     2721.250000      2.000000      0.000000      0.000000      1.000000   \n",
      "50%     5442.500000      3.000000      0.000000      1.000000      1.000000   \n",
      "75%     8163.750000      4.000000      0.000000      1.000000      2.000000   \n",
      "max    10885.000000      4.000000      1.000000      1.000000      4.000000   \n",
      "\n",
      "              temp         atemp      humidity     windspeed        casual  \\\n",
      "count  10886.00000  10886.000000  10886.000000  10886.000000  10886.000000   \n",
      "mean      20.23086     23.655084     61.886460     12.799395     36.021955   \n",
      "std        7.79159      8.474601     19.245033      8.164537     49.960477   \n",
      "min        0.82000      0.760000      0.000000      0.000000      0.000000   \n",
      "25%       13.94000     16.665000     47.000000      7.001500      4.000000   \n",
      "50%       20.50000     24.240000     62.000000     12.998000     17.000000   \n",
      "75%       26.24000     31.060000     77.000000     16.997900     49.000000   \n",
      "max       41.00000     45.455000    100.000000     56.996900    367.000000   \n",
      "\n",
      "         registered         count  \n",
      "count  10886.000000  10886.000000  \n",
      "mean     155.552177    191.574132  \n",
      "std      151.039033    181.144454  \n",
      "min        0.000000      1.000000  \n",
      "25%       36.000000     42.000000  \n",
      "50%      118.000000    145.000000  \n",
      "75%      222.000000    284.000000  \n",
      "max      886.000000    977.000000  \n",
      "\n",
      "\n",
      "<class 'pandas.core.frame.DataFrame'>\n",
      "Int64Index: 10886 entries, 0 to 2146\n",
      "Data columns (total 14 columns):\n",
      "Unnamed: 0    10886 non-null int64\n",
      "datetime      10886 non-null object\n",
      "season        10886 non-null int64\n",
      "holiday       10886 non-null int64\n",
      "workingday    10886 non-null int64\n",
      "weather       10886 non-null int64\n",
      "temp          10886 non-null float64\n",
      "atemp         10886 non-null float64\n",
      "humidity      10886 non-null int64\n",
      "windspeed     10886 non-null float64\n",
      "casual        10886 non-null int64\n",
      "registered    10886 non-null int64\n",
      "count         10886 non-null int64\n",
      "hour          10886 non-null int64\n",
      "dtypes: float64(3), int64(10), object(1)\n",
      "memory usage: 1.2+ MB\n"
     ]
    }
   ],
   "source": [
    "import pandas as pd\n",
    "import numpy as np\n",
    "dftrain = pd.read_csv('bike_sharing_train.csv')\n",
    "dfval = pd.read_csv('bike_sharing_val.csv')\n",
    "dftest = pd.read_csv('bike_sharing_test.csv')\n",
    "ntrain = len(dftrain)\n",
    "nval = len(dftrain) + len(dfval)\n",
    "df = pd.concat([dftrain,dfval,dftest])\n",
    "print('\\nSummary - dataframe completo:\\n')\n",
    "print(df.describe())\n",
    "df['hour'] = pd.to_datetime(df['datetime']).apply(lambda x: x.strftime('%H'))\n",
    "df['hour'] = pd.to_numeric(df['hour'])\n",
    "print \"\\n\"\n",
    "df.info()"
   ]
  },
  {
   "cell_type": "markdown",
   "metadata": {},
   "source": [
    "Se generó un dataframe con la ayuda de *pandas*, en donde se muestran los datos (de entrenamiento y prueba) estadísticos de cada variable involucrada. Dichas variables son:\n",
    "\n",
    "- **season: ** números enteros cuyos valores son 4, donde cada uno de ellos corresponde a una estación del año.\n",
    "  * 1 = spring (primavera)\n",
    "  * 2 = summer (verano)\n",
    "  * 3 = fall (otoño) \n",
    "  * 4 = winter (invierno)\n",
    "\n",
    "\n",
    "- **holiday: ** variable booleana que indica si es un día festivo o no.\n",
    "- **workingday: ** variable booleana que indica si no es fin de semana o festivo, o lo es.\n",
    "- **weather: ** número entero del 1 al 4 que describa el clima del día.\n",
    "  * 1 = Clear, Few clouds, Partly cloudy, Partly cloudy\n",
    "  * 2 = Mist + Cloudy, Mist + Broken clouds, Mist + Few clouds, Mist\n",
    "  * 3 = Light Snow, Light Rain + Thunderstorm + Scattered clouds, Light Rain + Scattered clouds\n",
    "  * 4 = Heavy Rain + Ice Pallets + Thunderstorm + Mist, Snow + Fog.\n",
    "\n",
    "\n",
    "- **temp: ** variable flotante que indica la temperatura en grados Celcius (°C).\n",
    "- **atemp: ** variable flotante que indica la temperatura *al tacto*.\n",
    "- **humidity: ** variable entera que indica la humedad relativa del día.\n",
    "- **windspeed: ** variable flotante indica la velocidad del viento del día.\n",
    "- **casual: ** variable entera que indica el número de rentas de usuarios **no** registrados\n",
    "- **registered: ** variable entera que indica el número de rentas de usuarios registrados\n",
    "- **count: ** variable entera que indica el número total de rentas de bicicletas."
   ]
  },
  {
   "cell_type": "code",
   "execution_count": 68,
   "metadata": {
    "collapsed": false,
    "scrolled": true
   },
   "outputs": [
    {
     "data": {
      "image/png": "[encoded data removed]",
      "text/plain": [
       "<matplotlib.figure.Figure at 0x7fe580bdd790>"
      ]
     },
     "metadata": {},
     "output_type": "display_data"
    }
   ],
   "source": [
    "#Histograma de variables.\n",
    "import matplotlib.pyplot as plt\n",
    "import seaborn as sns\n",
    "%matplotlib inline\n",
    "sns.set_style(\"darkgrid\")\n",
    "variable = 'count'\n",
    "plt.hist(df[variable], bins = 50)\n",
    "plt.title(variable)\n",
    "plt.xlabel(\"Valor\")\n",
    "plt.ylabel(\"Frecuencia\")\n",
    "plt.show()"
   ]
  },
  {
   "cell_type": "markdown",
   "metadata": {},
   "source": [
    "### b) Entrenamiento de un árbol de regresión"
   ]
  },
  {
   "cell_type": "code",
   "execution_count": 3,
   "metadata": {
    "collapsed": false,
    "scrolled": false
   },
   "outputs": [
    {
     "name": "stdout",
     "output_type": "stream",
     "text": [
      "SCORE TEST=0.703388\n",
      "KAGG EVAL TRAIN =0.028516\n",
      "KAGG EVAL TEST =0.574239\n"
     ]
    },
    {
     "ename": "NameError",
     "evalue": "name 'plt' is not defined",
     "output_type": "error",
     "traceback": [
      "\u001b[0;31m\u001b[0m",
      "\u001b[0;31mNameError\u001b[0mTraceback (most recent call last)",
      "\u001b[0;32m<ipython-input-3-f2f2647dacfd>\u001b[0m in \u001b[0;36m<module>\u001b[0;34m()\u001b[0m\n\u001b[1;32m     29\u001b[0m \u001b[0;32mprint\u001b[0m \u001b[0;34m\"KAGG EVAL TEST =%f\"\u001b[0m\u001b[0;34m%\u001b[0m\u001b[0mkagg_test\u001b[0m\u001b[0;34m\u001b[0m\u001b[0m\n\u001b[1;32m     30\u001b[0m \u001b[0;34m\u001b[0m\u001b[0m\n\u001b[0;32m---> 31\u001b[0;31m \u001b[0mplt\u001b[0m\u001b[0;34m.\u001b[0m\u001b[0mplot\u001b[0m\u001b[0;34m(\u001b[0m\u001b[0mY_test\u001b[0m\u001b[0;34m,\u001b[0m\u001b[0mY_pred_test\u001b[0m\u001b[0;34m,\u001b[0m\u001b[0;34m'.'\u001b[0m\u001b[0;34m)\u001b[0m\u001b[0;34m\u001b[0m\u001b[0m\n\u001b[0m\u001b[1;32m     32\u001b[0m \u001b[0mplt\u001b[0m\u001b[0;34m.\u001b[0m\u001b[0mshow\u001b[0m\u001b[0;34m(\u001b[0m\u001b[0;34m)\u001b[0m\u001b[0;34m\u001b[0m\u001b[0m\n",
      "\u001b[0;31mNameError\u001b[0m: name 'plt' is not defined"
     ]
    }
   ],
   "source": [
    "from sklearn.tree import DecisionTreeRegressor as Tree\n",
    "\n",
    "def eval_bikemodel(y_predict,y_true):\n",
    "    diff = np.log(y_predict+1.0) - np.log(y_true+1.0)\n",
    "    return np.sqrt(np.sum(np.square(diff))/len(y_predict))\n",
    "\n",
    "Xdf=df.ix[:,['season','holiday','workingday','weather','temp','atemp','humidity','windspeed','hour']]\n",
    "Ydf=df.ix[:,'count']\n",
    "\n",
    "X_train = Xdf[0:ntrain].values\n",
    "X_val = Xdf[ntrain:nval].values\n",
    "X_test = Xdf[nval:].values\n",
    "Y_train = Ydf[0:ntrain].values\n",
    "Y_val = Ydf[ntrain:nval].values\n",
    "Y_test = Ydf[nval:].values\n",
    "\n",
    "model = Tree(random_state=0)\n",
    "model.fit(X_train,Y_train)\n",
    "score_test = model.score(X_test,Y_test)\n",
    "print \"SCORE TEST=%f\"%score_test\n",
    "\n",
    "Y_pred_train = model.predict(X_train)\n",
    "Y_pred_val = model.predict(X_val)\n",
    "Y_pred_test = model.predict(X_test)\n",
    "kagg_train = eval_bikemodel(Y_pred_train,Y_train)\n",
    "kagg_val = eval_bikemodel(Y_pred_val,Y_val)\n",
    "kagg_test = eval_bikemodel(Y_pred_test,Y_test)\n",
    "print \"KAGG EVAL TRAIN =%f\"%kagg_train\n",
    "print \"KAGG EVAL TEST =%f\"%kagg_test\n",
    "\n",
    "plt.plot(Y_test,Y_pred_test,'.')\n",
    "plt.show()"
   ]
  },
  {
   "cell_type": "markdown",
   "metadata": {},
   "source": [
    "Utilizando el árbol de regresión ajustándolo con los datos de entrenamiento, se obtiene un puntaje sobre los datos de prueba y su valor corresponde a 0.703388, lo que significa que el modelo del árbol de regresión se encuentra muy lejos del top-100 del *leaderboard* final ya que el valor es superior a 0.37748.\n",
    "\n",
    "Luego se procedió a evaluar los datos de entrenamiento y de prueba a partir de la función *eval_bikemodel()* que es un modelo predictivo que utiliza la siguiente ecuación:\n",
    "\n",
    "$$E_{bikes}(y,\\widehat{y})=\\frac{1}{n}\\sum_{i}(\\ln{(y_{i}+1)}-\\ln{(\\widehat{y}_{i}+1)})^{2}$$\n",
    "\n",
    "Con esto se han obtenido los siguientes puntajes para los datos predictivos de entrenamiento y de prueba:\n",
    "\n",
    "* Puntaje entrenamiento: 0.028516\n",
    "* Puntaje prueba: 0.574239\n",
    "\n",
    "Por lo tanto, utilizando el modelo predictivo para el concurso de Kaggle, con los datos predictivos de entrenamiento cumple con el objetivo de estar dentro del top-100 del *leaderboard* final por su puntaje muy alto (0.37748). Por otro lado, con los datos predictivos de prueba se obtuvo un puntaje que no cumple con el objetivo y se encuentra lejos del dicho top-100. Finalmente el modelo predictivo resulta más eficiente utilizando los datos de entrenamiento.\n",
    "\n",
    "Del gráfico se puede concluir que los valores predictores están cerca de los valores reales entre 0 y 400, pero superior a 400 el comportamiento no se puede predecir con claridad, ya que algunos están muy dispersos al valor real correspondiente."
   ]
  },
  {
   "cell_type": "markdown",
   "metadata": {
    "collapsed": true
   },
   "source": [
    "### c) Mejore el árbol de regresión definido en el punto anterior haciendo modificaciones a los hiper-parámetros del modelo."
   ]
  },
  {
   "cell_type": "code",
   "execution_count": 73,
   "metadata": {
    "collapsed": false
   },
   "outputs": [
    {
     "name": "stdout",
     "output_type": "stream",
     "text": [
      "KAGG EVAL VAL:0.979204049525 - depth: 1\n",
      "KAGG EVAL VAL:0.896665312867 - depth: 2\n",
      "KAGG EVAL VAL:0.801210044966 - depth: 3\n",
      "KAGG EVAL VAL:0.72848326362 - depth: 4\n",
      "KAGG EVAL VAL:0.631233814091 - depth: 5\n",
      "KAGG EVAL VAL:0.572753376668 - depth: 6\n",
      "KAGG EVAL VAL:0.550528596894 - depth: 7\n",
      "KAGG EVAL VAL:0.486955748076 - depth: 8\n",
      "KAGG EVAL VAL:0.48048157562 - depth: 9\n",
      "KAGG EVAL VAL:0.476273584576 - depth: 10\n",
      "KAGG EVAL VAL:0.480193325589 - depth: 11\n",
      "KAGG EVAL VAL:0.489915376216 - depth: 12\n",
      "KAGG EVAL VAL:0.503234278488 - depth: 13\n",
      "KAGG EVAL VAL:0.513617457739 - depth: 14\n",
      "KAGG EVAL VAL:0.530887191061 - depth: 15\n",
      "KAGG EVAL VAL:0.535001335803 - depth: 16\n",
      "KAGG EVAL VAL:0.541477534828 - depth: 17\n",
      "KAGG EVAL VAL:0.550661587392 - depth: 18\n",
      "KAGG EVAL VAL:0.552592708804 - depth: 19\n",
      "KAGG EVAL VAL:0.546219041165 - depth: 20\n",
      "Kagg eval score min:\n",
      "(10, 0.47627358457599589)\n"
     ]
    }
   ],
   "source": [
    "score_depth = []\n",
    "for i in range(1,21):\n",
    "    model = Tree(random_state=0,max_depth=i)\n",
    "    model.fit(X_train, Y_train)\n",
    "    Y_pred_val = model.predict(X_val)\n",
    "    kagg_val = eval_bikemodel(Y_pred_val, Y_val)\n",
    "    score_depth.append((i, kagg_val))\n",
    "    print \"KAGG EVAL VAL:{} - depth: {}\".format(kagg_val, i)\n",
    "\n",
    "print \"Kagg eval score min:\"\n",
    "print min(score_depth, key = lambda t: t[1])"
   ]
  },
  {
   "cell_type": "markdown",
   "metadata": {},
   "source": [
    "La modificación realizada es la siguiente: limitar la profundidad máxima del árbol de regresión. Como se puede apreciar en el output, el *score* irá disminuyendo a medida que la profundidad máxima del árbol de regresión, por lo que es conveniente para este caso aumentar la profundidad máxima del árbol. Sin embargo esto es cierto hasta los 10 niveles, donde se alcanza el mínimo, puesto que despues el valor retornado por kagg eval aumenta, probablemente a un overfitting del modelo."
   ]
  },
  {
   "cell_type": "markdown",
   "metadata": {},
   "source": [
    "### d) Mejore el árbol de regresión definido en el punto anterior haciendo modificaciones sobre la representación utilizada para aprender desde los datos."
   ]
  },
  {
   "cell_type": "code",
   "execution_count": 46,
   "metadata": {
    "collapsed": false
   },
   "outputs": [],
   "source": [
    "df = pd.concat([dftrain,dfval,dftest])\n",
    "df['hour'] = pd.to_datetime(df['datetime']).apply(lambda x: x.strftime('%H'))\n",
    "df['hour'] = pd.to_numeric(df['hour'])"
   ]
  },
  {
   "cell_type": "markdown",
   "metadata": {},
   "source": [
    "Se agregan las columnas día de la semana, mes y año."
   ]
  },
  {
   "cell_type": "code",
   "execution_count": 47,
   "metadata": {
    "collapsed": true
   },
   "outputs": [],
   "source": [
    "df['cday'] = pd.to_datetime(df['datetime']).dt.dayofweek#0:lunes,6:domingo\n",
    "df['cday'] = pd.to_numeric(df['cday'])\n",
    "df['month'] = pd.to_datetime(df['datetime']).dt.month\n",
    "df['month'] = pd.to_numeric(df['month'])\n",
    "df['year'] = pd.to_datetime(df['datetime']).dt.year\n",
    "df['year'] = pd.to_numeric(df['year'])\n",
    "Xdf = df.ix[:,['season','holiday','workingday','weather','temp','atemp','humidity','windspeed','hour','cday', 'month','year']]\n",
    "Ydf = df.ix[:,'count']\n",
    "\n",
    "X_train = Xdf[0:ntrain].values\n",
    "X_val = Xdf[ntrain:nval].values\n",
    "X_test = Xdf[nval:].values\n",
    "Y_train = Ydf[0:ntrain].values\n",
    "Y_val = Ydf[ntrain:nval].values\n",
    "Y_test = Ydf[nval:].values"
   ]
  },
  {
   "cell_type": "markdown",
   "metadata": {},
   "source": [
    "Se entrena el árbol de clasificación con los nuevos datos."
   ]
  },
  {
   "cell_type": "code",
   "execution_count": 48,
   "metadata": {
    "collapsed": false
   },
   "outputs": [
    {
     "name": "stdout",
     "output_type": "stream",
     "text": [
      "KAGG EVAL TRAIN =0.000966\n",
      "KAGG EVAL VAL =0.423915\n",
      "KAGG EVAL TEST =0.457849\n"
     ]
    }
   ],
   "source": [
    "model = Tree(random_state=0)\n",
    "model.fit(X_train,Y_train)\n",
    "\n",
    "Y_pred_train = model.predict(X_train)\n",
    "Y_pred_val = model.predict(X_val)\n",
    "Y_pred_test = model.predict(X_test)\n",
    "kagg_train = eval_bikemodel(Y_pred_train,Y_train)\n",
    "kagg_val = eval_bikemodel(Y_pred_val,Y_val)\n",
    "kagg_test = eval_bikemodel(Y_pred_test,Y_test)\n",
    "print \"KAGG EVAL TRAIN =%f\"%kagg_train\n",
    "print \"KAGG EVAL VAL =%f\"%kagg_val\n",
    "print \"KAGG EVAL TEST =%f\"%kagg_test"
   ]
  },
  {
   "cell_type": "markdown",
   "metadata": {},
   "source": [
    "Al modificar sobre la representación utilizando los datos de la fecha (día de la semana, mes, año), se puede observar que el *score* de los datos predictivos de prueba ha mejorado, lo que significa que sube una cierta cantidad de posiciones en el ranking. \n",
    "\n",
    "Ahora bien, se realiza una transformación sobre la variable respuesta. En este caso, se aplica la función raíz cuadrada y se vuelve a entrenar el árbol con esas modificaciones."
   ]
  },
  {
   "cell_type": "code",
   "execution_count": 49,
   "metadata": {
    "collapsed": false
   },
   "outputs": [
    {
     "name": "stdout",
     "output_type": "stream",
     "text": [
      "KAGG EVAL TRAIN =0.000966\n",
      "KAGG EVAL VAL =0.420940\n",
      "KAGG EVAL TEST =0.453027\n"
     ]
    }
   ],
   "source": [
    "Ydf = np.power(df.ix[:,'count'], 1.0/2)\n",
    "Y_train = Ydf[0:ntrain].values\n",
    "Y_val = Ydf[ntrain:nval].values\n",
    "Y_test = Ydf[nval:].values\n",
    "\n",
    "model = Tree(random_state=0)\n",
    "model.fit(X_train,Y_train)\n",
    "\n",
    "Y_pred_train = model.predict(X_train)\n",
    "Y_pred_val = model.predict(X_val)\n",
    "Y_pred_test = model.predict(X_test)\n",
    "kagg_train = eval_bikemodel(np.power(Y_pred_train, 2), np.power(Y_train, 2))\n",
    "kagg_val = eval_bikemodel(np.power(Y_pred_val, 2), np.power(Y_val, 2))\n",
    "kagg_test = eval_bikemodel(np.power(Y_pred_test, 2), np.power(Y_test, 2))\n",
    "print \"KAGG EVAL TRAIN =%f\"%kagg_train\n",
    "print \"KAGG EVAL VAL =%f\"%kagg_val\n",
    "print \"KAGG EVAL TEST =%f\"%kagg_test"
   ]
  },
  {
   "cell_type": "markdown",
   "metadata": {},
   "source": [
    "Al aplicar la transformación de la raíz cuadrada, se observa una ligera mejora con respecto a los resultados obtenidos al sólo agregar las nuevas variables predictoras. El score de validación y test están por debajo del 0.45, por lo que se podría decir que ya se está dentro del top-1000. "
   ]
  },
  {
   "cell_type": "markdown",
   "metadata": {},
   "source": [
    "### e) Entrene una SVM no lineal para resolver el problema midiendo el efecto de las distintas representaciones que haya descubierto hasta este punto."
   ]
  },
  {
   "cell_type": "code",
   "execution_count": 63,
   "metadata": {
    "collapsed": false
   },
   "outputs": [
    {
     "name": "stdout",
     "output_type": "stream",
     "text": [
      "KAGG EVAL TRAIN =0.337437\n",
      "KAGG EVAL VAL =0.367843\n",
      "KAGG EVAL TEST =0.397050\n"
     ]
    }
   ],
   "source": [
    "df = pd.concat([dftrain,dfval,dftest])\n",
    "df['hour'] = pd.to_datetime(df['datetime']).apply(lambda x: x.strftime('%H'))\n",
    "df['hour'] = pd.to_numeric(df['hour'])\n",
    "df['cday'] = pd.to_datetime(df['datetime']).dt.dayofweek#0:lunes,6:domingo\n",
    "df['cday'] = pd.to_numeric(df['cday'])\n",
    "df['month'] = pd.to_datetime(df['datetime']).dt.month\n",
    "df['month'] = pd.to_numeric(df['month'])\n",
    "df['year'] = pd.to_datetime(df['datetime']).dt.year\n",
    "df['year'] = pd.to_numeric(df['year'])\n",
    "Xdf = df.ix[:,['season','holiday','workingday','weather','temp','atemp','humidity','windspeed','hour','cday', 'month', 'year']]\n",
    "Xdf = pd.get_dummies(Xdf,columns=['season', 'weather','hour','cday', 'month', 'year'])\n",
    "Ydf = np.power(df.ix[:,'count'], 1.0/2)\n",
    "\n",
    "X_train = Xdf[0:ntrain].values\n",
    "X_val = Xdf[ntrain:nval].values\n",
    "X_test = Xdf[nval:].values\n",
    "Y_train = Ydf[0:ntrain].values\n",
    "Y_val = Ydf[ntrain:nval].values\n",
    "Y_test = Ydf[nval:].values\n",
    "\n",
    "from sklearn.preprocessing import StandardScaler\n",
    "scalerX = StandardScaler()\n",
    "X_train = scalerX.fit_transform(X_train)\n",
    "X_val = scalerX.fit_transform(X_val)\n",
    "X_test = scalerX.transform(X_test)\n",
    "\n",
    "from sklearn.svm import SVR\n",
    "model = SVR()\n",
    "model.fit(X_train,Y_train)\n",
    "\n",
    "Y_pred_train = model.predict(X_train)\n",
    "Y_pred_val = model.predict(X_val)\n",
    "Y_pred_test = model.predict(X_test)\n",
    "\n",
    "kagg_train = eval_bikemodel(np.power(Y_pred_train, 2), np.power(Y_train, 2))\n",
    "kagg_val = eval_bikemodel(np.power(Y_pred_val, 2), np.power(Y_val, 2))\n",
    "kagg_test = eval_bikemodel(np.power(Y_pred_test, 2), np.power(Y_test, 2))\n",
    "\n",
    "print \"KAGG EVAL TRAIN =%f\"%kagg_train\n",
    "print \"KAGG EVAL VAL =%f\"%kagg_val\n",
    "print \"KAGG EVAL TEST =%f\"%kagg_test"
   ]
  },
  {
   "cell_type": "markdown",
   "metadata": {},
   "source": [
    "Los resultados mejoraron en no menor medida, casi a un 0.35 en el set de validación. El de pruebas quedó en un poco menos de 0.4. En ese sentido, la SVM de regresión tuvo un mejor rendimiento que el árbol de clasificación, incluso sin modificar los hiperparámetros predeterminados."
   ]
  },
  {
   "cell_type": "markdown",
   "metadata": {},
   "source": [
    "### f) Mejore la SVM definida en el punto anterior haciendo modificaciones a los hiper-parámetros de la máquina"
   ]
  },
  {
   "cell_type": "code",
   "execution_count": 65,
   "metadata": {
    "collapsed": false
   },
   "outputs": [
    {
     "name": "stdout",
     "output_type": "stream",
     "text": [
      "Model: rbf - C: 0.01 - kagg eval train: 1.39351166761 - kagg eval val: 1.36752136652\n",
      "Model: rbf - C: 0.0193069772888 - kagg eval train: 1.31947150757 - kagg eval val: 1.29435003167\n",
      "Model: rbf - C: 0.0372759372031 - kagg eval train: 1.19274946743 - kagg eval val: 1.16860485131\n",
      "Model: rbf - C: 0.0719685673001 - kagg eval train: 0.974160582851 - kagg eval val: 0.954333606623\n",
      "Model: rbf - C: 0.138949549437 - kagg eval train: 0.726710996674 - kagg eval val: 0.709323181251\n",
      "Model: rbf - C: 0.268269579528 - kagg eval train: 0.562707821277 - kagg eval val: 0.55417538139\n",
      "Model: rbf - C: 0.517947467923 - kagg eval train: 0.443055570606 - kagg eval val: 0.449173485617\n",
      "Model: rbf - C: 1.0 - kagg eval train: 0.337437013223 - kagg eval val: 0.367842553107\n",
      "Model: rbf - C: 1.93069772888 - kagg eval train: 0.268286624097 - kagg eval val: 0.334941379334\n",
      "Model: rbf - C: 3.72759372031 - kagg eval train: 0.226651877061 - kagg eval val: 0.333070409058\n",
      "Model: rbf - C: 7.19685673001 - kagg eval train: 0.188702221002 - kagg eval val: 0.339309025393\n",
      "Model: rbf - C: 13.8949549437 - kagg eval train: 0.153760432878 - kagg eval val: 0.352621265559\n",
      "Model: rbf - C: 26.8269579528 - kagg eval train: 0.121243406009 - kagg eval val: 0.368300298458\n",
      "Model: rbf - C: 51.7947467923 - kagg eval train: 0.0943750388395 - kagg eval val: 0.378930600639\n",
      "Model: rbf - C: 100.0 - kagg eval train: 0.0759496916032 - kagg eval val: 0.392436852015\n",
      "Model: poly - C: 0.01 - kagg eval train: 1.44253576133 - kagg eval val: 1.41563422274\n",
      "Model: poly - C: 0.0193069772888 - kagg eval train: 1.40979077953 - kagg eval val: 1.3829580869\n",
      "Model: poly - C: 0.0372759372031 - kagg eval train: 1.34784919256 - kagg eval val: 1.32071981239\n",
      "Model: poly - C: 0.0719685673001 - kagg eval train: 1.23457449079 - kagg eval val: 1.20544248773\n",
      "Model: poly - C: 0.138949549437 - kagg eval train: 1.02826971664 - kagg eval val: 0.992637125965\n",
      "Model: poly - C: 0.268269579528 - kagg eval train: 0.702286734987 - kagg eval val: 0.671137400427\n",
      "Model: poly - C: 0.517947467923 - kagg eval train: 0.440809114447 - kagg eval val: 0.489364536919\n",
      "Model: poly - C: 1.0 - kagg eval train: 0.304880849538 - kagg eval val: 0.47862607949\n",
      "Model: poly - C: 1.93069772888 - kagg eval train: 0.241875249016 - kagg eval val: 0.504547264314\n",
      "Model: poly - C: 3.72759372031 - kagg eval train: 0.206870282059 - kagg eval val: 0.524646450895\n",
      "Model: poly - C: 7.19685673001 - kagg eval train: 0.183270021934 - kagg eval val: 0.542245046643\n",
      "Model: poly - C: 13.8949549437 - kagg eval train: 0.164932352378 - kagg eval val: 0.566248460795\n",
      "Model: poly - C: 26.8269579528 - kagg eval train: 0.153401016142 - kagg eval val: 0.588944912638\n",
      "Model: poly - C: 51.7947467923 - kagg eval train: 0.14645111351 - kagg eval val: 0.608365930926\n",
      "Model: poly - C: 100.0 - kagg eval train: 0.14050294435 - kagg eval val: 0.632333756614\n"
     ]
    },
    {
     "data": {
      "image/png": "[encoded data removed]",
      "text/plain": [
       "<matplotlib.figure.Figure at 0x7fe580ee9610>"
      ]
     },
     "metadata": {},
     "output_type": "display_data"
    }
   ],
   "source": [
    "kernels = ['rbf', 'poly']\n",
    "C = np.logspace(-2, 2, 15)\n",
    "fig, axs = plt.subplots(ncols=2, figsize=(18, 6), sharey=True)\n",
    "fig.tight_layout()\n",
    "for i, kernel in enumerate(kernels):\n",
    "    datapoints = {'training':[], 'validation':[]}\n",
    "    for c in C:\n",
    "        model = SVR(kernel=kernel, C=c)\n",
    "        model.fit(X_train, Y_train)\n",
    "        Y_pred_train = model.predict(X_train)\n",
    "        Y_pred_val = model.predict(X_val)\n",
    "        tr_score = eval_bikemodel(np.power(Y_pred_train, 2), np.power(Y_train, 2))\n",
    "        val_score = eval_bikemodel(np.power(Y_pred_val, 2), np.power(Y_val, 2))\n",
    "        datapoints['training'].append((c, tr_score))\n",
    "        datapoints['validation'].append((c, val_score))\n",
    "        print \"Model: {} - C: {} - kagg eval train: {} - kagg eval val: {}\".format(kernel, c, tr_score, val_score)\n",
    "    axs[i].plot(*zip(*datapoints['training']), label='training set')\n",
    "    axs[i].plot(*zip(*datapoints['validation']), label='validation set')\n",
    "    axs[i].set_xlabel('C parameter', size=18)\n",
    "    axs[i].set_ylabel('Kagg eval', size=18)\n",
    "    axs[i].legend(loc=\"center right\", prop={'size':16})  \n",
    "    axs[i].set_title(kernel + ' kernel', size=24)\n",
    "    axs[i].yaxis.set_tick_params(labelsize=16)\n",
    "    axs[i].xaxis.set_tick_params(labelsize=14)\n",
    "    axs[i].set_xscale('log')"
   ]
  },
  {
   "cell_type": "markdown",
   "metadata": {},
   "source": [
    "Se observa que la svm con kernel rbf tiene un rendimiento mejor que la con kernel polinomial (grado 3). Con el primero se alcanza un mínimo de 0.3330 y con el segundo 0.4786. Para rbf, el C es óptimo es 3.72 y para polinomial es igual a 1. Pasando esos puntos, se visualiza un overfitting de los datos. Finalmente y comparando con el ítem anterior, sintonizar el parámetro C ayudó en cierta medida para mejorar el Kaggle eval score sobre el validation set. "
   ]
  },
  {
   "cell_type": "markdown",
   "metadata": {},
   "source": [
    "### g) Evalúe el efecto de utilizar el dataset de validación para entrenamiento y seleccionar los parámetros estructurales del árbol de clasificación y la SVM usando validación cruzada."
   ]
  },
  {
   "cell_type": "markdown",
   "metadata": {},
   "source": [
    "#### Árboles\n",
    "\n",
    "Carga de los datos"
   ]
  },
  {
   "cell_type": "code",
   "execution_count": 66,
   "metadata": {
    "collapsed": true
   },
   "outputs": [],
   "source": [
    "df = pd.concat([dftrain,dfval,dftest])\n",
    "df['hour'] = pd.to_datetime(df['datetime']).apply(lambda x: x.strftime('%H'))\n",
    "df['hour'] = pd.to_numeric(df['hour'])\n",
    "df['cday'] = pd.to_datetime(df['datetime']).dt.dayofweek#0:lunes,6:domingo\n",
    "df['cday'] = pd.to_numeric(df['cday'])\n",
    "df['month'] = pd.to_datetime(df['datetime']).dt.month\n",
    "df['month'] = pd.to_numeric(df['month'])\n",
    "df['year'] = pd.to_datetime(df['datetime']).dt.year\n",
    "df['year'] = pd.to_numeric(df['year'])\n",
    "Xdf = df.ix[:,['season','holiday','workingday','weather','temp','atemp','humidity','windspeed','hour','cday', 'month','year']]\n",
    "Ydf = df.ix[:,'count']\n",
    "\n",
    "X_train = Xdf[0:nval].values\n",
    "X_test = Xdf[nval:].values\n",
    "Y_train = Ydf[0:nval].values\n",
    "Y_test = Ydf[nval:].values"
   ]
  },
  {
   "cell_type": "code",
   "execution_count": null,
   "metadata": {
    "collapsed": false
   },
   "outputs": [],
   "source": [
    "from sklearn import cross_validation\n",
    "k_fold = cross_validation.KFold(len(X_train), 10)\n",
    "score_cv = 0\n",
    "\n",
    "for i in range(1,21):\n",
    "    model = Tree(random_state=0, max_depth=i)\n",
    "    model.fit(X_train, Y_train)\n",
    "    Y_pred_val = model.predict(X_valt)\n",
    "    kagg_val = eval_bikemodel(Y_pred_val,Y_val)\n",
    "    print \"KAGG EVAL VAL =%f\"%kagg_val\n",
    "\n",
    "for k, (train, val) in enumerate(k_fold):\n",
    "    model = SVR(C=1)\n",
    "    model.fit(X_train[train], Y_train[train])\n",
    "    Ypred_val = model.predict(X_train[val])\n",
    "    Ytrue_val = Y_train[val]\n",
    "    score_fold = eval_bikemodel(Ypred_val,Ytrue_val)\n",
    "    score_cv += score_fold\n",
    "score_cv = score_cv / 10\n",
    "print score_cv"
   ]
  },
  {
   "cell_type": "markdown",
   "metadata": {},
   "source": [
    "#### SVM\n",
    "\n",
    "Carga de los datos"
   ]
  },
  {
   "cell_type": "code",
   "execution_count": null,
   "metadata": {
    "collapsed": true
   },
   "outputs": [],
   "source": []
  },
  {
   "cell_type": "markdown",
   "metadata": {},
   "source": [
    "### h) Evalúe el efecto de utilizar un ensamblado de 2 máquinas de aprendizaje para predecir la demanda total de bicicletas."
   ]
  },
  {
   "cell_type": "code",
   "execution_count": 1,
   "metadata": {
    "collapsed": false
   },
   "outputs": [
    {
     "ename": "NameError",
     "evalue": "name 'df' is not defined",
     "output_type": "error",
     "traceback": [
      "\u001b[0;31m\u001b[0m",
      "\u001b[0;31mNameError\u001b[0mTraceback (most recent call last)",
      "\u001b[0;32m<ipython-input-1-698061b2ef77>\u001b[0m in \u001b[0;36m<module>\u001b[0;34m()\u001b[0m\n\u001b[1;32m      1\u001b[0m \u001b[0;32mfrom\u001b[0m \u001b[0msklearn\u001b[0m\u001b[0;34m.\u001b[0m\u001b[0mensemble\u001b[0m \u001b[0;32mimport\u001b[0m \u001b[0mBaggingRegressor\u001b[0m\u001b[0;34m\u001b[0m\u001b[0m\n\u001b[0;32m----> 2\u001b[0;31m \u001b[0mYdf\u001b[0m\u001b[0;34m=\u001b[0m\u001b[0mdf\u001b[0m\u001b[0;34m.\u001b[0m\u001b[0mix\u001b[0m\u001b[0;34m[\u001b[0m\u001b[0;34m:\u001b[0m\u001b[0;34m,\u001b[0m\u001b[0;34m'count'\u001b[0m\u001b[0;34m]\u001b[0m \u001b[0;31m#demanda total\u001b[0m\u001b[0;34m\u001b[0m\u001b[0m\n\u001b[0m\u001b[1;32m      3\u001b[0m \u001b[0mY_train\u001b[0m \u001b[0;34m=\u001b[0m \u001b[0mYdf\u001b[0m\u001b[0;34m[\u001b[0m\u001b[0;36m0\u001b[0m\u001b[0;34m:\u001b[0m\u001b[0mntrain\u001b[0m\u001b[0;34m]\u001b[0m\u001b[0;34m.\u001b[0m\u001b[0mvalues\u001b[0m\u001b[0;34m\u001b[0m\u001b[0m\n\u001b[1;32m      4\u001b[0m \u001b[0mY_val\u001b[0m \u001b[0;34m=\u001b[0m \u001b[0mYdf\u001b[0m\u001b[0;34m[\u001b[0m\u001b[0mntrain\u001b[0m\u001b[0;34m:\u001b[0m\u001b[0mnval\u001b[0m\u001b[0;34m]\u001b[0m\u001b[0;34m.\u001b[0m\u001b[0mvalues\u001b[0m\u001b[0;34m\u001b[0m\u001b[0m\n\u001b[1;32m      5\u001b[0m \u001b[0mY_test\u001b[0m \u001b[0;34m=\u001b[0m \u001b[0mYdf\u001b[0m\u001b[0;34m[\u001b[0m\u001b[0mnval\u001b[0m\u001b[0;34m:\u001b[0m\u001b[0;34m]\u001b[0m\u001b[0;34m.\u001b[0m\u001b[0mvalues\u001b[0m\u001b[0;34m\u001b[0m\u001b[0m\n",
      "\u001b[0;31mNameError\u001b[0m: name 'df' is not defined"
     ]
    }
   ],
   "source": [
    "from sklearn.ensemble import BaggingRegressor\n",
    "Ydf=df.ix[:,'count'] #demanda total\n",
    "Y_train = Ydf[0:ntrain].values\n",
    "Y_val = Ydf[ntrain:nval].values\n",
    "Y_test = Ydf[nval:].values\n",
    "model = BaggingRegressor(n_estimators=2, random_state=0)\n",
    "model.fit(X_train, Y_train)\n",
    "score_test = model.score(X_test,Y_test)\n",
    "print \"Demanda total:\"\n",
    "print \"SCORE TEST=%f\"%score_test\n",
    "\n",
    "Y_pred_train = model.predict(X_train)\n",
    "Y_pred_val = model.predict(X_val)\n",
    "Y_pred_test = model.predict(X_test)\n",
    "kagg_train = eval_bikemodel(Y_pred_train,Y_train)\n",
    "kagg_val = eval_bikemodel(Y_pred_val,Y_val)\n",
    "kagg_test = eval_bikemodel(Y_pred_test,Y_test)\n",
    "print \"KAGG EVAL TRAIN =%f\"%kagg_train\n",
    "print \"KAGG EVAL VAL =%f\"%kagg_val\n",
    "print \"\\n\"\n",
    "\n",
    "Ydf=df.ix[:,'registered'] #demanda registrada\n",
    "Y_train = Ydf[0:ntrain].values\n",
    "Y_val = Ydf[ntrain:nval].values\n",
    "Y_test = Ydf[nval:].values\n",
    "model.fit(X_train, Y_train)\n",
    "score_test = model.score(X_test,Y_test)\n",
    "print \"Demanda registrada:\"\n",
    "print \"SCORE TEST=%f\"%score_test\n",
    "\n",
    "Y_pred_train = model.predict(X_train)\n",
    "Y_pred_val = model.predict(X_val)\n",
    "Y_pred_test = model.predict(X_test)\n",
    "kagg_train = eval_bikemodel(Y_pred_train,Y_train)\n",
    "kagg_val = eval_bikemodel(Y_pred_val,Y_val)\n",
    "kagg_test = eval_bikemodel(Y_pred_test,Y_test)\n",
    "print \"KAGG EVAL TRAIN =%f\"%kagg_train\n",
    "print \"KAGG EVAL VAL =%f\"%kagg_val\n",
    "print \"\\n\"\n",
    "\n",
    "Ydf=df.ix[:,'casual'] #demanda casual\n",
    "Y_train = Ydf[0:ntrain].values\n",
    "Y_val = Ydf[ntrain:nval].values\n",
    "Y_test = Ydf[nval:].values\n",
    "model.fit(X_train, Y_train)\n",
    "score_test = model.score(X_test,Y_test)\n",
    "print \"Demanda casual\"\n",
    "print \"SCORE TRAIN=%f\"%score_test\n",
    "\n",
    "Y_pred_train = model.predict(X_train)\n",
    "Y_pred_val = model.predict(X_val)\n",
    "Y_pred_test = model.predict(X_test)\n",
    "kkagg_train = eval_bikemodel(Y_pred_train,Y_train)\n",
    "kagg_val = eval_bikemodel(Y_pred_val,Y_val)\n",
    "kagg_test = eval_bikemodel(Y_pred_test,Y_test)\n",
    "print \"KAGG EVAL TRAIN =%f\"%kagg_train\n",
    "print \"KAGG EVAL VAL =%f\"%kagg_val"
   ]
  },
  {
   "cell_type": "markdown",
   "metadata": {},
   "source": [
    "En los 3 casos (demanda total, demanda registrada y demanda casual) se ha utilizado un ensamblado con 2 máquinas de aprendizaje (n_estimators) que utiliza el método de **Bagging**. Resumiendo los resultados obtenidos en tales casos, se obtiene un mejor *score* en la demanda registrada, lo que significa que los usuarios que están registrados en el *Bike Sharing* tienen un mejor rendimiento que los no registrados."
   ]
  },
  {
   "cell_type": "markdown",
   "metadata": {},
   "source": [
    "### i) Evalíe el efecto de utilizar un algoritmo genérico para ensamblar máquinas de aprendizaje para predecir la demanda total de bicicletas."
   ]
  },
  {
   "cell_type": "code",
   "execution_count": null,
   "metadata": {
    "collapsed": false
   },
   "outputs": [],
   "source": [
    "from sklearn.ensemble import RandomForestRegressor\n",
    "Ydf=df.ix[:,'count'] #demanda total\n",
    "Y_train = Ydf[0:ntrain].values\n",
    "Y_val = Ydf[ntrain:nval].values\n",
    "Y_test = Ydf[nval:].values\n",
    "\n",
    "for n_maquinas in range(1,11):\n",
    "    print \"Número de máquinas: %d\"%n_maquinas\n",
    "    model = RandomForestRegressor(n_estimators=n_maquinas,max_depth=10,random_state=0)\n",
    "    model.fit(X_train, Y_train)\n",
    "\n",
    "    Y_pred_train = model.predict(X_train)\n",
    "    Y_pred_val = model.predict(X_val)\n",
    "    Y_pred_test = model.predict(X_test)\n",
    "    kkagg_train = eval_bikemodel(Y_pred_train,Y_train)\n",
    "    kagg_val = eval_bikemodel(Y_pred_val,Y_val)\n",
    "    kagg_test = eval_bikemodel(Y_pred_test,Y_test)\n",
    "    print \"KAGG EVAL TRAIN =%f\"%kagg_train\n",
    "    print \"KAGG EVAL TEST =%f\"%kagg_test\n",
    "    print \"KAGG EVAL VAL =%f\"%kagg_val\n",
    "    print \"\\n\""
   ]
  },
  {
   "cell_type": "markdown",
   "metadata": {
    "collapsed": true
   },
   "source": [
    "Se ha realizado distintos modelos de ensamblado usando la técnica **Random Forest** con una cantidad variada de máquinas de aprendizaje, en este caso, de 1 a 10 máquinas. El *score* de validación y de prueba va mejorando lentamente hasta poder converger a cierto valor, que en este caso es aproximadamente de 0.367 y 0.398 respectivamente. Por lo tanto se puede concluir que no se necesitan muchas máquinas para poder obtener un mejor *score*. En tal caso no se necesitan más de 10 máquinas de aprendizaje."
   ]
  },
  {
   "cell_type": "code",
   "execution_count": null,
   "metadata": {
    "collapsed": true
   },
   "outputs": [],
   "source": []
  }
 ],
 "metadata": {
  "anaconda-cloud": {},
  "kernelspec": {
   "display_name": "Python 2",
   "language": "python",
   "name": "python2"
  },
  "language_info": {
   "codemirror_mode": {
    "name": "ipython",
    "version": 2
   },
   "file_extension": ".py",
   "mimetype": "text/x-python",
   "name": "python",
   "nbconvert_exporter": "python",
   "pygments_lexer": "ipython2",
   "version": "2.7.6"
  }
 },
 "nbformat": 4,
 "nbformat_minor": 0
}

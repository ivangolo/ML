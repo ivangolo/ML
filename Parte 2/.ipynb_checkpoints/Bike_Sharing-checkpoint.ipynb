{
 "cells": [
  {
   "cell_type": "markdown",
   "metadata": {},
   "source": [
    "## 2. Bike Sharing: Predicción de Demanda Horaria"
   ]
  },
  {
   "cell_type": "markdown",
   "metadata": {},
   "source": [
    "### a) Carga de datos de entrenamiento y de prueba"
   ]
  },
  {
   "cell_type": "code",
   "execution_count": 1,
   "metadata": {
    "collapsed": false
   },
   "outputs": [
    {
     "name": "stdout",
     "output_type": "stream",
     "text": [
      "\n",
      "Summary - dataframe completo:\n",
      "\n",
      "         Unnamed: 0        season       holiday    workingday       weather  \\\n",
      "count  10886.000000  10886.000000  10886.000000  10886.000000  10886.000000   \n",
      "mean    5442.500000      2.506614      0.028569      0.680875      1.418427   \n",
      "std     3142.661849      1.116174      0.166599      0.466159      0.633839   \n",
      "min        0.000000      1.000000      0.000000      0.000000      1.000000   \n",
      "25%     2721.250000      2.000000      0.000000      0.000000      1.000000   \n",
      "50%     5442.500000      3.000000      0.000000      1.000000      1.000000   \n",
      "75%     8163.750000      4.000000      0.000000      1.000000      2.000000   \n",
      "max    10885.000000      4.000000      1.000000      1.000000      4.000000   \n",
      "\n",
      "              temp         atemp      humidity     windspeed        casual  \\\n",
      "count  10886.00000  10886.000000  10886.000000  10886.000000  10886.000000   \n",
      "mean      20.23086     23.655084     61.886460     12.799395     36.021955   \n",
      "std        7.79159      8.474601     19.245033      8.164537     49.960477   \n",
      "min        0.82000      0.760000      0.000000      0.000000      0.000000   \n",
      "25%       13.94000     16.665000     47.000000      7.001500      4.000000   \n",
      "50%       20.50000     24.240000     62.000000     12.998000     17.000000   \n",
      "75%       26.24000     31.060000     77.000000     16.997900     49.000000   \n",
      "max       41.00000     45.455000    100.000000     56.996900    367.000000   \n",
      "\n",
      "         registered         count  \n",
      "count  10886.000000  10886.000000  \n",
      "mean     155.552177    191.574132  \n",
      "std      151.039033    181.144454  \n",
      "min        0.000000      1.000000  \n",
      "25%       36.000000     42.000000  \n",
      "50%      118.000000    145.000000  \n",
      "75%      222.000000    284.000000  \n",
      "max      886.000000    977.000000  \n",
      "\n",
      "\n",
      "<class 'pandas.core.frame.DataFrame'>\n",
      "Int64Index: 10886 entries, 0 to 2146\n",
      "Data columns (total 14 columns):\n",
      "Unnamed: 0    10886 non-null int64\n",
      "datetime      10886 non-null object\n",
      "season        10886 non-null int64\n",
      "holiday       10886 non-null int64\n",
      "workingday    10886 non-null int64\n",
      "weather       10886 non-null int64\n",
      "temp          10886 non-null float64\n",
      "atemp         10886 non-null float64\n",
      "humidity      10886 non-null int64\n",
      "windspeed     10886 non-null float64\n",
      "casual        10886 non-null int64\n",
      "registered    10886 non-null int64\n",
      "count         10886 non-null int64\n",
      "hour          10886 non-null int64\n",
      "dtypes: float64(3), int64(10), object(1)\n",
      "memory usage: 1.2+ MB\n"
     ]
    }
   ],
   "source": [
    "import pandas as pd\n",
    "import numpy as np\n",
    "dftrain = pd.read_csv('bike_sharing_train.csv')\n",
    "dfval = pd.read_csv('bike_sharing_val.csv')\n",
    "dftest = pd.read_csv('bike_sharing_test.csv')\n",
    "ntrain = len(dftrain)\n",
    "nval = len(dftrain) + len(dfval)\n",
    "df = pd.concat([dftrain,dfval,dftest])\n",
    "print('\\nSummary - dataframe completo:\\n')\n",
    "print(df.describe())\n",
    "df['hour'] = pd.to_datetime(df['datetime']).apply(lambda x: x.strftime('%H'))\n",
    "df['hour'] = pd.to_numeric(df['hour'])\n",
    "print \"\\n\"\n",
    "df.info()"
   ]
  },
  {
   "cell_type": "markdown",
   "metadata": {},
   "source": [
    "Se generó un dataframe con la ayuda de *pandas*, en donde se muestran los datos (de entrenamiento y prueba) estadísticos de cada variable involucrada. Dichas variables son:\n",
    "\n",
    "- **season: ** números enteros cuyos valores son 4, donde cada uno de ellos corresponde a una estación del año.\n",
    "  * 1 = spring (primavera)\n",
    "  * 2 = summer (verano)\n",
    "  * 3 = fall (otoño) \n",
    "  * 4 = winter (invierno)\n",
    "\n",
    "\n",
    "- **holiday: ** variable booleana que indica si es un día festivo o no.\n",
    "- **workingday: ** variable booleana que indica si no es fin de semana o festivo, o lo es.\n",
    "- **weather: ** número entero del 1 al 4 que describa el clima del día.\n",
    "  * 1 = Clear, Few clouds, Partly cloudy, Partly cloudy\n",
    "  * 2 = Mist + Cloudy, Mist + Broken clouds, Mist + Few clouds, Mist\n",
    "  * 3 = Light Snow, Light Rain + Thunderstorm + Scattered clouds, Light Rain + Scattered clouds\n",
    "  * 4 = Heavy Rain + Ice Pallets + Thunderstorm + Mist, Snow + Fog.\n",
    "\n",
    "\n",
    "- **temp: ** variable flotante que indica la temperatura en grados Celcius (°C).\n",
    "- **atemp: ** variable flotante que indica la temperatura *al tacto*.\n",
    "- **humidity: ** variable entera que indica la humedad relativa del día.\n",
    "- **windspeed: ** variable flotante indica la velocidad del viento del día.\n",
    "- **casual: ** variable entera que indica el número de rentas de usuarios **no** registrados\n",
    "- **registered: ** variable entera que indica el número de rentas de usuarios registrados\n",
    "- **count: ** variable entera que indica el número total de rentas de bicicletas."
   ]
  },
  {
   "cell_type": "code",
   "execution_count": 2,
   "metadata": {
    "collapsed": false,
    "scrolled": true
   },
   "outputs": [
    {
     "data": {
      "image/png": "[encoded data removed]",
      "text/plain": [
       "<matplotlib.figure.Figure at 0x7f369524c390>"
      ]
     },
     "metadata": {},
     "output_type": "display_data"
    }
   ],
   "source": [
    "#Histograma de variables.\n",
    "import matplotlib.pyplot as plt\n",
    "variable = 'count'\n",
    "plt.hist(df[variable], bins = 50)\n",
    "plt.title(variable)\n",
    "plt.xlabel(\"Valor\")\n",
    "plt.ylabel(\"Frecuencia\")\n",
    "plt.show()"
   ]
  },
  {
   "cell_type": "markdown",
   "metadata": {},
   "source": [
    "### b) Entrenamiento de un árbol de regresión"
   ]
  },
  {
   "cell_type": "code",
   "execution_count": 3,
   "metadata": {
    "collapsed": false,
    "scrolled": false
   },
   "outputs": [
    {
     "name": "stdout",
     "output_type": "stream",
     "text": [
      "SCORE TEST=0.703388\n",
      "5.33607674464\n",
      "669.3903209\n",
      "707.973679561\n",
      "KAGG EVAL TRAIN =0.028516\n",
      "KAGG EVAL TEST =0.574239\n"
     ]
    },
    {
     "data": {
      "image/png": "[encoded data removed]",
      "text/plain": [
       "<matplotlib.figure.Figure at 0x7f3689f721d0>"
      ]
     },
     "metadata": {},
     "output_type": "display_data"
    }
   ],
   "source": [
    "from sklearn.tree import DecisionTreeRegressor as Tree\n",
    "def eval_bikemodel(y_predict,y_true):\n",
    "    diff = np.log(y_predict+1.0) - np.log(y_true+1.0)\n",
    "    return np.sqrt(np.sum(np.square(diff))/len(y_predict))\n",
    "Xdf=df.ix[:,['season','holiday','workingday','weather','temp','atemp','humidity','windspeed','hour']]\n",
    "Ydf=df.ix[:,'count']\n",
    "X_train = Xdf[0:ntrain].values\n",
    "X_val = Xdf[ntrain:nval].values\n",
    "X_test = Xdf[nval:].values\n",
    "Y_train = Ydf[0:ntrain].values\n",
    "Y_val = Ydf[ntrain:nval].values\n",
    "Y_test = Ydf[nval:].values\n",
    "\n",
    "model = Tree(random_state=0)\n",
    "model.fit(X_train,Y_train)\n",
    "score_test = model.score(X_test,Y_test)\n",
    "print \"SCORE TEST=%f\"%score_test\n",
    "\n",
    "Y_pred_train = model.predict(X_train)\n",
    "Y_pred_val = model.predict(X_val)\n",
    "Y_pred_test = model.predict(X_test)\n",
    "kagg_train = eval_bikemodel(Y_pred_train,Y_train)\n",
    "kagg_val = eval_bikemodel(Y_pred_val,Y_val)\n",
    "kagg_test = eval_bikemodel(Y_pred_test,Y_test)\n",
    "print \"KAGG EVAL TRAIN =%f\"%kagg_train\n",
    "print \"KAGG EVAL TEST =%f\"%kagg_test\n",
    "\n",
    "plt.plot(Y_test,Y_pred_test,'.')\n",
    "plt.show()"
   ]
  },
  {
   "cell_type": "markdown",
   "metadata": {},
   "source": [
    "Utilizando el árbol de regresión ajustándolo con los datos de entrenamiento, se obtiene un puntaje sobre los datos de prueba y su valor corresponde a 0.703388, lo que significa que el modelo del árbol de regresión se encuentra muy lejos del top-100 del *leaderboard* final ya que el valor es superior a 0.37748.\n",
    "\n",
    "Luego se procedió a evaluar los datos de entrenamiento y de prueba a partir de la función *eval_bikemodel()* que es un modelo predictivo que utiliza la siguiente ecuación:\n",
    "\n",
    "$$E_{bikes}(y,\\widehat{y})=\\frac{1}{n}\\sum_{i}(\\ln{(y_{i}+1)}-\\ln{(\\widehat{y}_{i}+1)})^{2}$$\n",
    "\n",
    "Con esto se han obtenido los siguientes puntajes para los datos predictivos de entrenamiento y de prueba:\n",
    "\n",
    "* Puntaje entrenamiento: 0.028516\n",
    "* Puntaje prueba: 0.574239\n",
    "\n",
    "Por lo tanto, utilizando el modelo predictivo para el concurso de Kaggle, con los datos predictivos de entrenamiento cumple con el objetivo de estar dentro del top-100 del *leaderboard* final por su puntaje muy alto (0.37748). Por otro lado, con los datos predictivos de prueba se obtuvo un puntaje que no cumple con el objetivo y se encuentra lejos del dicho top-100. Finalmente el modelo predictivo resulta más eficiente utilizando los datos de entrenamiento.\n",
    "\n",
    "Del gráfico se puede concluir que los valores predictores están cerca de los valores reales entre 0 y 400, pero superior a 400 el comportamiento no se puede predecir con claridad, ya que algunos están muy dispersos al valor real correspondiente."
   ]
  },
  {
   "cell_type": "markdown",
   "metadata": {
    "collapsed": true
   },
   "source": [
    "### c) Mejore el árbol de regresión definido en el punto anterior haciendo modificaciones a los hiper-parámetros del modelo."
   ]
  },
  {
   "cell_type": "code",
   "execution_count": 4,
   "metadata": {
    "collapsed": false
   },
   "outputs": [
    {
     "name": "stdout",
     "output_type": "stream",
     "text": [
      "2052.66427105\n",
      "KAGG EVAL VAL =0.971024\n",
      "1691.17838512\n",
      "KAGG EVAL VAL =0.881385\n",
      "1349.40374618\n",
      "KAGG EVAL VAL =0.787303\n",
      "1107.39022333\n",
      "KAGG EVAL VAL =0.713216\n",
      "880.681051312\n",
      "KAGG EVAL VAL =0.636034\n",
      "650.422874965\n",
      "KAGG EVAL VAL =0.546599\n",
      "500.174688522\n",
      "KAGG EVAL VAL =0.479327\n",
      "343.327369328\n",
      "KAGG EVAL VAL =0.397123\n",
      "246.962979132\n",
      "KAGG EVAL VAL =0.336811\n",
      "170.701220168\n",
      "KAGG EVAL VAL =0.280020\n",
      "105.604348859\n",
      "KAGG EVAL VAL =0.220248\n",
      "67.5043639984\n",
      "KAGG EVAL VAL =0.176091\n",
      "39.8524429706\n",
      "KAGG EVAL VAL =0.135300\n",
      "23.6465791771\n",
      "KAGG EVAL VAL =0.104221\n",
      "14.6667682888\n",
      "KAGG EVAL VAL =0.082080\n",
      "9.35432727745\n",
      "KAGG EVAL VAL =0.065551\n",
      "6.08847066863\n",
      "KAGG EVAL VAL =0.052884\n",
      "3.50893192142\n",
      "KAGG EVAL VAL =0.040147\n",
      "2.5129533573\n",
      "KAGG EVAL VAL =0.033975\n",
      "1.67754967028\n",
      "KAGG EVAL VAL =0.027759\n"
     ]
    }
   ],
   "source": [
    "for i in range(1,21):\n",
    "    model = Tree(random_state=0,max_depth=i)\n",
    "    model.fit(X_val, Y_val)\n",
    "    Y_pred_val = model.predict(X_val)\n",
    "    kagg_val = eval_bikemodel(Y_pred_val,Y_val)\n",
    "    print \"KAGG EVAL VAL =%f\"%kagg_val"
   ]
  },
  {
   "cell_type": "markdown",
   "metadata": {},
   "source": [
    "La modificación realizada es la siguiente: limitar la profundidad máxima del árbol de regresión. Como se puede apreciar en el output, el *score* irá disminuyendo a medida que la profundidad máxima del árbol de regresión, por lo que es conveniente para este caso aumentar la profundidad máxima del árbol. Sin embargo, si la profundidad del árbol es menor, el *score* irá mejorando, por ejemplo, en este caso se puede apreciar que un árbol de regresión con profundidad máxima 8, no cumple con el objetivo del problema: obtener un *score* mayor o igual a 0.37748. Este tipo de modificaciones están prohibidas, por lo que sería mejor aplicar alguna técnica que ayude a mejorar el árbol de regresión."
   ]
  },
  {
   "cell_type": "markdown",
   "metadata": {},
   "source": [
    "### d) Mejore el árbol de regresión definido en el punto anterior haciendo modificaciones sobre la representación utilizada para aprender desde los datos."
   ]
  },
  {
   "cell_type": "code",
   "execution_count": 5,
   "metadata": {
    "collapsed": false
   },
   "outputs": [
    {
     "name": "stdout",
     "output_type": "stream",
     "text": [
      "SCORE TEST=0.887916\n",
      "0.006128116235\n",
      "391.946427817\n",
      "450.112656309\n",
      "KAGG EVAL TRAIN =0.000966\n",
      "KAGG EVAL TEST =0.457873\n"
     ]
    }
   ],
   "source": [
    "df['cday'] = pd.to_datetime(df['datetime']).dt.dayofweek#0:lunes,6:domingo\n",
    "df['cday'] = pd.to_numeric(df['cday'])\n",
    "df['year'] = pd.to_datetime(df['datetime']).dt.year\n",
    "df['year'] = pd.to_numeric(df['year'])\n",
    "df['month'] = pd.to_datetime(df['datetime']).dt.month\n",
    "df['month'] = pd.to_numeric(df['month'])\n",
    "Xdf=df.ix[:,['season','holiday','workingday','weather','temp','atemp','humidity','windspeed','hour','cday', 'year', 'month']]\n",
    "Ydf=df.ix[:,'count']\n",
    "\n",
    "X_train = Xdf[0:ntrain].values\n",
    "X_val = Xdf[ntrain:nval].values\n",
    "X_test = Xdf[nval:].values\n",
    "Y_train = Ydf[0:ntrain].values\n",
    "Y_val = Ydf[ntrain:nval].values\n",
    "Y_test = Ydf[nval:].values\n",
    "\n",
    "\n",
    "model = Tree(random_state=0)\n",
    "model.fit(X_train,Y_train)\n",
    "score_test = model.score(X_test,Y_test)\n",
    "print \"SCORE TEST=%f\"%score_test\n",
    "\n",
    "Y_pred_train = model.predict(X_train)\n",
    "Y_pred_val = model.predict(X_val)\n",
    "Y_pred_test = model.predict(X_test)\n",
    "kagg_train = eval_bikemodel(Y_pred_train,Y_train)\n",
    "kagg_val = eval_bikemodel(Y_pred_val,Y_val)\n",
    "kagg_test = eval_bikemodel(Y_pred_test,Y_test)\n",
    "print \"KAGG EVAL TRAIN =%f\"%kagg_train\n",
    "print \"KAGG EVAL TEST =%f\"%kagg_test"
   ]
  },
  {
   "cell_type": "markdown",
   "metadata": {},
   "source": [
    "Al modificar sobre la representación utilizando los datos de la fecha (día de la semana, mes, año), se puede observar que el *score* de los datos predictivos de prueba ha mejorado, lo que significa que sube una cierta cantidad de posiciones en el ranking."
   ]
  },
  {
   "cell_type": "markdown",
   "metadata": {},
   "source": [
    "### e) Entrene una SVM no lineal para resolver el problema midiendo el efecto de las distintas representaciones que haya descubierto hasta este punto."
   ]
  },
  {
   "cell_type": "code",
   "execution_count": 6,
   "metadata": {
    "collapsed": false
   },
   "outputs": [
    {
     "name": "stdout",
     "output_type": "stream",
     "text": [
      "SCORE TRAIN=0.342181\n",
      "nan\n",
      "nan\n",
      "KAGG EVAL TRAIN =nan\n",
      "KAGG EVAL VAL =nan\n"
     ]
    },
    {
     "name": "stderr",
     "output_type": "stream",
     "text": [
      "/usr/local/lib/python2.7/dist-packages/ipykernel/__main__.py:3: RuntimeWarning: invalid value encountered in log\n",
      "  app.launch_new_instance()\n"
     ]
    }
   ],
   "source": [
    "df['cday'] = pd.to_datetime(df['datetime']).dt.dayofweek#0:lunes,6:domingo\n",
    "df['cday'] = pd.to_numeric(df['cday'])\n",
    "df['year'] = pd.to_datetime(df['datetime']).dt.year\n",
    "df['year'] = pd.to_numeric(df['year'])\n",
    "df['month'] = pd.to_datetime(df['datetime']).dt.month\n",
    "df['month'] = pd.to_numeric(df['month'])\n",
    "Xdf=df.ix[:,['season','holiday','workingday','weather','temp','atemp','humidity','windspeed','hour','cday', 'year', 'month']]\n",
    "# Xdf = pd.get_dummies(Xdf,columns=['season', 'weather','hour','cday','year', 'month'])\n",
    "Ydf=df.ix[:,'count']\n",
    "\n",
    "X_train = Xdf[0:ntrain].values\n",
    "X_val = Xdf[ntrain:nval].values\n",
    "X_test = Xdf[nval:].values\n",
    "Y_train = Ydf[0:ntrain].values\n",
    "Y_val = Ydf[ntrain:nval].values\n",
    "Y_test = Ydf[nval:].values\n",
    "\n",
    "from sklearn.preprocessing import StandardScaler\n",
    "scalerX = StandardScaler()\n",
    "X_train = scalerX.fit_transform(X_train)\n",
    "X_val = scalerX.fit_transform(X_val)\n",
    "X_test = scalerX.transform(X_test)\n",
    "\n",
    "from sklearn.svm import SVR\n",
    "model = SVR()\n",
    "model.fit(X_train,Y_train)\n",
    "score_train = model.score(X_train,Y_train)\n",
    "print \"SCORE TRAIN=%f\"%score_train\n",
    "\n",
    "Y_pred_train = model.predict(X_train)\n",
    "Y_pred_val = model.predict(X_val)\n",
    "Y_pred_test = model.predict(X_test)\n",
    "kagg_train = eval_bikemodel(Y_pred_train,Y_train)\n",
    "kagg_val = eval_bikemodel(Y_pred_val,Y_val)\n",
    "print \"KAGG EVAL TRAIN =%f\"%kagg_train\n",
    "print \"KAGG EVAL VAL =%f\"%kagg_val"
   ]
  },
  {
   "cell_type": "markdown",
   "metadata": {},
   "source": [
    "### f) Mejore la SVM definida en el punto anterior haciendo modificaciones a los hiper-parámetros de la máquina"
   ]
  },
  {
   "cell_type": "code",
   "execution_count": 7,
   "metadata": {
    "collapsed": false
   },
   "outputs": [
    {
     "name": "stdout",
     "output_type": "stream",
     "text": [
      "nan\n",
      "nan\n",
      "KAGG EVAL TRAIN =nan\n",
      "KAGG EVAL VAL =nan\n"
     ]
    },
    {
     "name": "stderr",
     "output_type": "stream",
     "text": [
      "/usr/local/lib/python2.7/dist-packages/ipykernel/__main__.py:3: RuntimeWarning: invalid value encountered in log\n",
      "  app.launch_new_instance()\n"
     ]
    }
   ],
   "source": [
    "model = SVR(C=1,epsilon=0.01)\n",
    "kagg_train = eval_bikemodel(Y_pred_train,Y_train)\n",
    "kagg_val = eval_bikemodel(Y_pred_val,Y_val)\n",
    "print \"KAGG EVAL TRAIN =%f\"%kagg_train\n",
    "print \"KAGG EVAL VAL =%f\"%kagg_val"
   ]
  },
  {
   "cell_type": "markdown",
   "metadata": {},
   "source": [
    "### g) Evalúe el efecto de utilizar el dataset de validación para entrenamiento y seleccionar los parámetros estructurales del árbol de clasificación y la SVM usando validación cruzada."
   ]
  },
  {
   "cell_type": "code",
   "execution_count": 8,
   "metadata": {
    "collapsed": false
   },
   "outputs": [
    {
     "name": "stderr",
     "output_type": "stream",
     "text": [
      "/usr/local/lib/python2.7/dist-packages/sklearn/cross_validation.py:44: DeprecationWarning: This module was deprecated in version 0.18 in favor of the model_selection module into which all the refactored classes and functions are moved. Also note that the interface of the new CV iterators are different from that of this module. This module will be removed in 0.20.\n",
      "  \"This module will be removed in 0.20.\", DeprecationWarning)\n"
     ]
    },
    {
     "name": "stdout",
     "output_type": "stream",
     "text": [
      "1301.69030544\n"
     ]
    },
    {
     "name": "stderr",
     "output_type": "stream",
     "text": [
      "/usr/local/lib/python2.7/dist-packages/ipykernel/__main__.py:3: RuntimeWarning: invalid value encountered in log\n",
      "  app.launch_new_instance()\n"
     ]
    },
    {
     "name": "stdout",
     "output_type": "stream",
     "text": [
      "nan\n",
      "654.148295346\n",
      "708.625297649\n",
      "812.74533637\n",
      "927.864881423\n",
      "835.368881364\n",
      "728.368052438\n",
      "806.763464346\n",
      "843.231113636\n",
      "nan\n"
     ]
    }
   ],
   "source": [
    "from sklearn import cross_validation\n",
    "k_fold = cross_validation.KFold(len(X_train),10)\n",
    "score_cv = 0\n",
    "for k, (train, val) in enumerate(k_fold):\n",
    "    model = SVR(C=1)\n",
    "    model.fit(X_train[train], Y_train[train])\n",
    "    Ypred_val = model.predict(X_train[val])\n",
    "    Ytrue_val = Y_train[val]\n",
    "    score_fold = eval_bikemodel(Ypred_val,Ytrue_val)\n",
    "    score_cv += score_fold\n",
    "score_cv = score_cv / 10\n",
    "print score_cv"
   ]
  },
  {
   "cell_type": "markdown",
   "metadata": {},
   "source": [
    "### h) Evalúe el efecto de utilizar un ensamblado de 2 máquinas de aprendizaje para predecir la demanda total de bicicletas."
   ]
  },
  {
   "cell_type": "code",
   "execution_count": 9,
   "metadata": {
    "collapsed": true
   },
   "outputs": [],
   "source": [
    "Ydf=df.ix[:,'count'] #demanda total\n",
    "Ydf=df.ix[:,'registered'] #demanda registrada\n",
    "Ydf=df.ix[:,'casual'] #demanda casual"
   ]
  },
  {
   "cell_type": "markdown",
   "metadata": {},
   "source": [
    "### i) Evalíe el efecto de utilizar un algoritmo genérico para ensamblar máquinas de aprendizaje para predecir la demanda total de bicicletas."
   ]
  },
  {
   "cell_type": "code",
   "execution_count": 10,
   "metadata": {
    "collapsed": false
   },
   "outputs": [
    {
     "ename": "NameError",
     "evalue": "name 'max_depth' is not defined",
     "output_type": "error",
     "traceback": [
      "\u001b[0;31m\u001b[0m",
      "\u001b[0;31mNameError\u001b[0mTraceback (most recent call last)",
      "\u001b[0;32m<ipython-input-10-613a2a578bbd>\u001b[0m in \u001b[0;36m<module>\u001b[0;34m()\u001b[0m\n\u001b[1;32m      1\u001b[0m \u001b[0;32mfrom\u001b[0m \u001b[0msklearn\u001b[0m\u001b[0;34m.\u001b[0m\u001b[0mensemble\u001b[0m \u001b[0;32mimport\u001b[0m \u001b[0mRandomForestRegressor\u001b[0m\u001b[0;34m\u001b[0m\u001b[0m\n\u001b[0;32m----> 2\u001b[0;31m \u001b[0mmodel\u001b[0m \u001b[0;34m=\u001b[0m \u001b[0mRandomForestRegressor\u001b[0m\u001b[0;34m(\u001b[0m\u001b[0mn_estimators\u001b[0m\u001b[0;34m=\u001b[0m\u001b[0;36m10\u001b[0m\u001b[0;34m,\u001b[0m\u001b[0mmax_depth\u001b[0m\u001b[0;34m=\u001b[0m\u001b[0mmax_depth\u001b[0m\u001b[0;34m,\u001b[0m\u001b[0mrandom_state\u001b[0m\u001b[0;34m=\u001b[0m\u001b[0;36m0\u001b[0m\u001b[0;34m)\u001b[0m\u001b[0;34m\u001b[0m\u001b[0m\n\u001b[0m",
      "\u001b[0;31mNameError\u001b[0m: name 'max_depth' is not defined"
     ]
    }
   ],
   "source": [
    "from sklearn.ensemble import RandomForestRegressor\n",
    "model = RandomForestRegressor(n_estimators=10,max_depth=max_depth,random_state=0)"
   ]
  },
  {
   "cell_type": "code",
   "execution_count": null,
   "metadata": {
    "collapsed": true
   },
   "outputs": [],
   "source": []
  }
 ],
 "metadata": {
  "anaconda-cloud": {},
  "kernelspec": {
   "display_name": "Python 2",
   "language": "python",
   "name": "python2"
  },
  "language_info": {
   "codemirror_mode": {
    "name": "ipython",
    "version": 2
   },
   "file_extension": ".py",
   "mimetype": "text/x-python",
   "name": "python",
   "nbconvert_exporter": "python",
   "pygments_lexer": "ipython2",
   "version": "2.7.6"
  }
 },
 "nbformat": 4,
 "nbformat_minor": 0
}

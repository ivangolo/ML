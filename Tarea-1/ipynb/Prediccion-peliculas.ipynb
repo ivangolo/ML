{
 "cells": [
  {
   "cell_type": "markdown",
   "metadata": {},
   "source": [
    "# Predicción de Utilidades de Películas"
   ]
  },
  {
   "cell_type": "markdown",
   "metadata": {},
   "source": [
    "##  a. Carga de los datos"
   ]
  },
  {
   "cell_type": "code",
   "execution_count": 19,
   "metadata": {
    "collapsed": false
   },
   "outputs": [],
   "source": [
    "import pandas as pd\n",
    "import numpy as np\n",
    "from scipy.sparse import csr_matrix\n",
    "from scipy.io import mmread\n",
    "import matplotlib.pylab as plt\n",
    "%matplotlib inline\n",
    "\n",
    "data_dir = \"../movies-preproc/ngrams-deprels-fp1-origin.runtime.budget.numscreen.ratings.seasons.stars/\"\n",
    "# data_dir = \"../movies-preproc/ngrams-deprels-origin.runtime.budget.numscreen.ratings.seasons/\"\n",
    "\n",
    "# Loading Training data\n",
    "X = csr_matrix(mmread(data_dir + 'train.x.mm'))\n",
    "y = np.loadtxt(data_dir + 'train.y.dat')\n",
    "\n",
    "# Loading Test data\n",
    "X_test = csr_matrix( mmread(data_dir + 'test.x.mm'))\n",
    "y_test = np.loadtxt(data_dir + 'test.y.dat')"
   ]
  },
  {
   "cell_type": "markdown",
   "metadata": {},
   "source": [
    "La ventaja de trabajar con formatos especiales para matrices dispersas (sparse matrices) y no con una librería de matrices densas es la optimización en el uso de la memoria. Si cargáramos una matriz dispersa en una estructura convencional, tendríamos una matriz densa llena de ceros ocupando el espacio de un integer . De este modo, dada la naturaleza del conjunto de datos a cargar, se decide trabajar con la librería para matrices sparse de scipy."
   ]
  },
  {
   "cell_type": "markdown",
   "metadata": {},
   "source": [
    "## b. Contrucción de un modelo lineal\n",
    "\n",
    "Dado el objetivo de crear un modelo lineal que poseea un coeficiente de determinación de más de 0.75, utilizando el conjunto de pruebas, se creó un modelo utilizando regresión lineal ordinaria para así establecer una base comparativa. Posteriormente, se crearon tres modelos adicionales utilizando 3 métodos distintos de regularización: Ridge, Lasso y ElasticNet. A pesar de que este último no se revisó en clases, de todas formas se probó con él, dado que es el método que utilizan los autores del paper *Joshi, M., Das, D., Gimpel, K., Smith, N. A. (2010). Movie reviews and revenues: An experiment in\n",
    "text regression. In the 2010 Annual Conference of the North American Chapter of the Association for\n",
    "Computational Linguistics (pp. 293-296). Association for Computational Linguistics*."
   ]
  },
  {
   "cell_type": "markdown",
   "metadata": {},
   "source": [
    "### b.1. Least Squares Regression"
   ]
  },
  {
   "cell_type": "code",
   "execution_count": 3,
   "metadata": {
    "collapsed": false
   },
   "outputs": [
    {
     "name": "stdout",
     "output_type": "stream",
     "text": [
      "Least Squares Regression score: 0.59031488104\n"
     ]
    }
   ],
   "source": [
    "import sklearn.linear_model as lm\n",
    "model = lm.LinearRegression(fit_intercept = False)\n",
    "model.fit(X, y)\n",
    "print \"Least Squares Regression score: {}\".format(model.score(X_test, y_test)) "
   ]
  },
  {
   "cell_type": "markdown",
   "metadata": {},
   "source": [
    "* ** Least Squares Regression score: 0.59031488104 **"
   ]
  },
  {
   "cell_type": "markdown",
   "metadata": {},
   "source": [
    "### b.2 Ridge Regression\n",
    "\n",
    "En este caso, el coeficiente de regularización $\\lambda$ se varió entre 100 valores distintos pertenecientes al rango $[10^{-2}, 10^{4}]$."
   ]
  },
  {
   "cell_type": "code",
   "execution_count": 12,
   "metadata": {
    "collapsed": false,
    "scrolled": true
   },
   "outputs": [
    {
     "name": "stdout",
     "output_type": "stream",
     "text": [
      "Best lambda Ridge Regression: 613.590727341, score: 0.593205206685\n"
     ]
    },
    {
     "data": {
      "text/plain": [
       "(0.01, 10000.0, 0.5752126174326162, 0.59320520668539412)"
      ]
     },
     "execution_count": 12,
     "metadata": {},
     "output_type": "execute_result"
    },
    {
     "data": {
      "image/png": "[encoded data removed]",
      "text/plain": [
       "<matplotlib.figure.Figure at 0x7fdac3f05ed0>"
      ]
     },
     "metadata": {},
     "output_type": "display_data"
    }
   ],
   "source": [
    "test_R2 = []\n",
    "lambdas = np.logspace(-2, 4, num=100)\n",
    "ridge_model = lm.Ridge(fit_intercept=False)\n",
    "\n",
    "for l in lambdas:    \n",
    "    ridge_model.set_params(alpha=l)\n",
    "    ridge_model.fit(X, y)\n",
    "    test_R2.append(ridge_model.score(X_test, y_test))\n",
    "\n",
    "i_best_lambda = np.argmax(test_R2)   \n",
    "print \"Best lambda Ridge Regression: {}, score: {}\".format(lambdas[i_best_lambda], test_R2[i_best_lambda])\n",
    "\n",
    "ax = plt.gca()\n",
    "ax.plot(lambdas, test_R2)\n",
    "ax.set_xscale('log')\n",
    "plt.xlabel('lambda')\n",
    "plt.ylabel('score')\n",
    "plt.axis('tight')"
   ]
  },
  {
   "cell_type": "markdown",
   "metadata": {},
   "source": [
    "Como puede verse en la figura de arriba, el score o coeficiente de determinación se mantiene prácticamente invariable cuando $\\lambda$ es menor a 10. Posteriormente y a partir de $\\lambda=100$ el score comienza a aumentar para llegar a un máximo de $0.5933$ (apenas superior al modelo de regresión lineal ordinaria), con un $\\lambda=606.9215$. Con valores más grandes de $\\lambda$, el score disminuye drásticamente."
   ]
  },
  {
   "cell_type": "markdown",
   "metadata": {},
   "source": [
    "### b.3 Lasso Regression\n",
    "\n",
    "En este caso, el coeficiente de regularización $\\lambda$ se varió entre 100 valores distintos y pertenecientes al rango $[1000, 5000]$. Pruebas preliminares determinaron que valores muy pequeños de $\\lambda$ resultaban en problemas de convergencia del método, incluso arrojando valores negativos para el score. A partir de un $\\lambda=1000$ se comenzaron a ver valores relevantes para este último."
   ]
  },
  {
   "cell_type": "code",
   "execution_count": 13,
   "metadata": {
    "collapsed": false
   },
   "outputs": [
    {
     "name": "stdout",
     "output_type": "stream",
     "text": [
      "Best lambda Lasso Regression: 1848.48484848, score: 0.546971190802\n"
     ]
    },
    {
     "data": {
      "text/plain": [
       "(1000.0, 5000.0, 0.53277933587595094, 0.54697119080152357)"
      ]
     },
     "execution_count": 13,
     "metadata": {},
     "output_type": "execute_result"
    },
    {
     "data": {
      "image/png": "[encoded data removed]",
      "text/plain": [
       "<matplotlib.figure.Figure at 0x7fdac1e53390>"
      ]
     },
     "metadata": {},
     "output_type": "display_data"
    }
   ],
   "source": [
    "test_R2 = []\n",
    "lambdas = np.linspace(1000, 5000, num=100)\n",
    "lasso_model = lm.Lasso(fit_intercept=False)\n",
    "\n",
    "for l in lambdas:    \n",
    "    lasso_model.set_params(alpha=l)\n",
    "    lasso_model.fit(X, y)\n",
    "    test_R2.append(lasso_model.score(X_test, y_test))\n",
    "\n",
    "i_best_lambda = np.argmax(test_R2)  \n",
    "print \"Best lambda Lasso Regression: {}, score: {}\".format(lambdas[i_best_lambda], test_R2[i_best_lambda])\n",
    "\n",
    "ax = plt.gca()\n",
    "ax.plot(lambdas, test_R2)\n",
    "plt.xlabel('lambda')\n",
    "plt.ylabel('score')\n",
    "plt.axis('tight')"
   ]
  },
  {
   "cell_type": "markdown",
   "metadata": {},
   "source": [
    "Con Lasso, el score máximo es de $0.5470$ con un $\\lambda=1848.4848$. Este resultado es menor al obtenido con regresión lineal ordinaria y regularizando con Ridge. "
   ]
  },
  {
   "cell_type": "markdown",
   "metadata": {},
   "source": [
    "### b.4 ElasticNet Regression\n",
    "\n",
    "No se entrará en detalles acerca de los fundamentos de este método, el cual no se revisa en clases, pero la [documentación de Scikit Learn](http://scikit-learn.org/stable/modules/generated/sklearn.linear_model.ElasticNet.html#sklearn.linear_model.ElasticNet) ofrece pequeña visión que resulta útil para entenderlo. \n",
    "\n",
    "Básicamente, este método utiliza una combinación de las normas L1 (implementado en Lasso) y L2 (implementado en Ridge) para realizar el proceso de regularización. En ese sentido, dos coeficientes son relevantes: alpha y l1_ratio. De acuerdo a la [documentación de Scikit Learn](http://scikit-learn.org/stable/modules/generated/sklearn.linear_model.ElasticNet.html#sklearn.linear_model.ElasticNet):\n",
    "\n",
    "* **alpha:** flotante. Constante que multiplica los términos penalizadores. Valor por defecto igual a 1. alpha = 0 es equivalente a una regresión de mínimos cuadrados. \n",
    "\n",
    "* **l1_ratio:** flotante. Parámetro de mezcla de ElasticNet, con 0 <= l1_ratio <= 1. Para l1_ratio = 0 la regularización corresponde a una penalización L2. Para l1_ratio = 1 corresponde a una penalización L1. Para 0 < l1_ratio < 1, la regularización es una combinación de L1 y L2.\n",
    "\n",
    "\n",
    "Para el valor de l1_ratio se consideró un valor igual a $0.1, 0.2, \\ldots, 0.9$. Para alfa se consideraron 25 valores distintos logespaciados dentro del rango $[10^{-2}, 10^2]$."
   ]
  },
  {
   "cell_type": "code",
   "execution_count": 14,
   "metadata": {
    "collapsed": false
   },
   "outputs": [
    {
     "name": "stdout",
     "output_type": "stream",
     "text": [
      "Best parameters ElasticNet Regression:\n",
      "l1_ratio: 0.6, lambda: 0.215443469003, score: 0.607251854068\n"
     ]
    }
   ],
   "source": [
    "test_R2 = []\n",
    "l1_ratios = np.linspace(0.1, 0.9, 9)\n",
    "alphas = np.logspace(-2, 2, 25)\n",
    "\n",
    "enet_model = lm.ElasticNet(fit_intercept=False)\n",
    "\n",
    "for l1r in l1_ratios:\n",
    "    enet_model.set_params(l1_ratio=l1r)    \n",
    "    for alpha in alphas:\n",
    "        enet_model.set_params(alpha=alpha)\n",
    "        enet_model.fit(X, y)\n",
    "        test_R2.append((l1r, alpha, enet_model.score(X_test, y_test)))\n",
    "\n",
    "from operator import itemgetter\n",
    "best_parameters = max(test_R2, key=itemgetter(2))\n",
    "print \"Best parameters ElasticNet Regression:\" \n",
    "print \"l1_ratio: {}, lambda: {}, score: {}\".format(best_parameters[0], best_parameters[1], best_parameters[2])"
   ]
  },
  {
   "cell_type": "markdown",
   "metadata": {},
   "source": [
    "Luego de una larga ejecución del código anterior, se obtuvo un score máximo igual a $0.6073$ (superior al de regresión lineal ordinaria), utilizando un alfa igual a $0.2154$ y un l1_ratio igual a $0.6$."
   ]
  },
  {
   "cell_type": "markdown",
   "metadata": {
    "collapsed": true
   },
   "source": [
    "**Finalmente, con ningún modelo de regularización se logró la meta de los 0.75 para el score o coeficiente de correlación.**"
   ]
  },
  {
   "cell_type": "code",
   "execution_count": null,
   "metadata": {
    "collapsed": true
   },
   "outputs": [],
   "source": []
  }
 ],
 "metadata": {
  "kernelspec": {
   "display_name": "Python 2",
   "language": "python2",
   "name": "python2"
  },
  "language_info": {
   "codemirror_mode": {
    "name": "ipython",
    "version": 2
   },
   "file_extension": ".py",
   "mimetype": "text/x-python",
   "name": "python",
   "nbconvert_exporter": "python",
   "pygments_lexer": "ipython2",
   "version": "2.7.12"
  }
 },
 "nbformat": 4,
 "nbformat_minor": 0
}

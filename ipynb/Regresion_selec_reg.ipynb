{
 "cells": [
  {
   "cell_type": "markdown",
   "metadata": {},
   "source": [
    "## 1. Regresión Lineal Ordinaria"
   ]
  },
  {
   "cell_type": "markdown",
   "metadata": {},
   "source": [
    "### a. Carga de datos"
   ]
  },
  {
   "cell_type": "code",
   "execution_count": 1,
   "metadata": {
    "collapsed": true
   },
   "outputs": [],
   "source": [
    "import pandas as pd\n",
    "import numpy as np\n",
    "\n",
    "url = 'http://statweb.stanford.edu/~tibs/ElemStatLearn/datasets/prostate.data'\n",
    "df = pd.read_csv(url, sep='\\t', header=0)\n",
    "df = df.drop('Unnamed: 0', axis=1)\n",
    "istrain_str = df['train']\n",
    "istrain = np.asarray([True if s == 'T' else False for s in istrain_str])\n",
    "df = df.drop('train', axis=1)"
   ]
  },
  {
   "cell_type": "markdown",
   "metadata": {},
   "source": [
    "### b. Descripción de los datos\n",
    "\n",
    "El dataset se compone de 97 filas o muestras, cada una de estas con 9 columnas. De acuerdo al sitio web 1 donde se describe el dataset, las columnas corresponden a ocho atributos predictores (columnas 1-8) y de una columna de salida **lpsa** (columna 9) que mide el nivel de antígeno prostático específico (variable de punto flotante, tipo de intervalo). A continuación, se describirán los atributos predictores:\n",
    "\n",
    "* **lcavol:** Logaritmo del volumen de cáncer. Variable de punto flotante, tipo de dato intervalo.\n",
    "* **lweight:** Logaritmo del peso de la próstata. Variable de punto flotante, tipo de dato intervalo\n",
    "* **age:** Edad del paciente. Variable entera, tipo de dato intervalo.\n",
    "* **lbph:** Logaritmo de la cantidad de hiperplasia prostática benigna. Variable de punto flotante, tipo de dato\n",
    "intervalo.\n",
    "* **svi:** Invasión vesículo seminal. Variable entera, tipo de dato intervalo.\n",
    "* **lcp:** Logaritmo de la penetración capsular. Variable de punto flotante, tipo de dato intervalo.\n",
    "* **gleason:** Calificación de Gleason. Variable entera, tipo de dato intervalo.\n",
    "* **pgg45:** Porcentaje de Gleason 4 ó 5. Variable entera, tipo de dato intervalo.\n",
    "\n",
    "No existen filas con columnas o datos faltantes."
   ]
  },
  {
   "cell_type": "code",
   "execution_count": 2,
   "metadata": {
    "collapsed": false
   },
   "outputs": [
    {
     "name": "stdout",
     "output_type": "stream",
     "text": [
      "(97, 9)\n",
      "<class 'pandas.core.frame.DataFrame'>\n",
      "RangeIndex: 97 entries, 0 to 96\n",
      "Data columns (total 9 columns):\n",
      "lcavol     97 non-null float64\n",
      "lweight    97 non-null float64\n",
      "age        97 non-null int64\n",
      "lbph       97 non-null float64\n",
      "svi        97 non-null int64\n",
      "lcp        97 non-null float64\n",
      "gleason    97 non-null int64\n",
      "pgg45      97 non-null int64\n",
      "lpsa       97 non-null float64\n",
      "dtypes: float64(5), int64(4)\n",
      "memory usage: 6.9 KB\n"
     ]
    },
    {
     "data": {
      "text/html": [
       "<div>\n",
       "<table border=\"1\" class=\"dataframe\">\n",
       "  <thead>\n",
       "    <tr style=\"text-align: right;\">\n",
       "      <th></th>\n",
       "      <th>lcavol</th>\n",
       "      <th>lweight</th>\n",
       "      <th>age</th>\n",
       "      <th>lbph</th>\n",
       "      <th>svi</th>\n",
       "      <th>lcp</th>\n",
       "      <th>gleason</th>\n",
       "      <th>pgg45</th>\n",
       "      <th>lpsa</th>\n",
       "    </tr>\n",
       "  </thead>\n",
       "  <tbody>\n",
       "    <tr>\n",
       "      <th>count</th>\n",
       "      <td>97.000000</td>\n",
       "      <td>97.000000</td>\n",
       "      <td>97.000000</td>\n",
       "      <td>97.000000</td>\n",
       "      <td>97.000000</td>\n",
       "      <td>97.000000</td>\n",
       "      <td>97.000000</td>\n",
       "      <td>97.000000</td>\n",
       "      <td>97.000000</td>\n",
       "    </tr>\n",
       "    <tr>\n",
       "      <th>mean</th>\n",
       "      <td>1.350010</td>\n",
       "      <td>3.628943</td>\n",
       "      <td>63.865979</td>\n",
       "      <td>0.100356</td>\n",
       "      <td>0.216495</td>\n",
       "      <td>-0.179366</td>\n",
       "      <td>6.752577</td>\n",
       "      <td>24.381443</td>\n",
       "      <td>2.478387</td>\n",
       "    </tr>\n",
       "    <tr>\n",
       "      <th>std</th>\n",
       "      <td>1.178625</td>\n",
       "      <td>0.428411</td>\n",
       "      <td>7.445117</td>\n",
       "      <td>1.450807</td>\n",
       "      <td>0.413995</td>\n",
       "      <td>1.398250</td>\n",
       "      <td>0.722134</td>\n",
       "      <td>28.204035</td>\n",
       "      <td>1.154329</td>\n",
       "    </tr>\n",
       "    <tr>\n",
       "      <th>min</th>\n",
       "      <td>-1.347074</td>\n",
       "      <td>2.374906</td>\n",
       "      <td>41.000000</td>\n",
       "      <td>-1.386294</td>\n",
       "      <td>0.000000</td>\n",
       "      <td>-1.386294</td>\n",
       "      <td>6.000000</td>\n",
       "      <td>0.000000</td>\n",
       "      <td>-0.430783</td>\n",
       "    </tr>\n",
       "    <tr>\n",
       "      <th>25%</th>\n",
       "      <td>0.512824</td>\n",
       "      <td>3.375880</td>\n",
       "      <td>60.000000</td>\n",
       "      <td>-1.386294</td>\n",
       "      <td>0.000000</td>\n",
       "      <td>-1.386294</td>\n",
       "      <td>6.000000</td>\n",
       "      <td>0.000000</td>\n",
       "      <td>1.731656</td>\n",
       "    </tr>\n",
       "    <tr>\n",
       "      <th>50%</th>\n",
       "      <td>1.446919</td>\n",
       "      <td>3.623007</td>\n",
       "      <td>65.000000</td>\n",
       "      <td>0.300105</td>\n",
       "      <td>0.000000</td>\n",
       "      <td>-0.798508</td>\n",
       "      <td>7.000000</td>\n",
       "      <td>15.000000</td>\n",
       "      <td>2.591516</td>\n",
       "    </tr>\n",
       "    <tr>\n",
       "      <th>75%</th>\n",
       "      <td>2.127041</td>\n",
       "      <td>3.876396</td>\n",
       "      <td>68.000000</td>\n",
       "      <td>1.558145</td>\n",
       "      <td>0.000000</td>\n",
       "      <td>1.178655</td>\n",
       "      <td>7.000000</td>\n",
       "      <td>40.000000</td>\n",
       "      <td>3.056357</td>\n",
       "    </tr>\n",
       "    <tr>\n",
       "      <th>max</th>\n",
       "      <td>3.821004</td>\n",
       "      <td>4.780383</td>\n",
       "      <td>79.000000</td>\n",
       "      <td>2.326302</td>\n",
       "      <td>1.000000</td>\n",
       "      <td>2.904165</td>\n",
       "      <td>9.000000</td>\n",
       "      <td>100.000000</td>\n",
       "      <td>5.582932</td>\n",
       "    </tr>\n",
       "  </tbody>\n",
       "</table>\n",
       "</div>"
      ],
      "text/plain": [
       "          lcavol    lweight        age       lbph        svi        lcp  \\\n",
       "count  97.000000  97.000000  97.000000  97.000000  97.000000  97.000000   \n",
       "mean    1.350010   3.628943  63.865979   0.100356   0.216495  -0.179366   \n",
       "std     1.178625   0.428411   7.445117   1.450807   0.413995   1.398250   \n",
       "min    -1.347074   2.374906  41.000000  -1.386294   0.000000  -1.386294   \n",
       "25%     0.512824   3.375880  60.000000  -1.386294   0.000000  -1.386294   \n",
       "50%     1.446919   3.623007  65.000000   0.300105   0.000000  -0.798508   \n",
       "75%     2.127041   3.876396  68.000000   1.558145   0.000000   1.178655   \n",
       "max     3.821004   4.780383  79.000000   2.326302   1.000000   2.904165   \n",
       "\n",
       "         gleason       pgg45       lpsa  \n",
       "count  97.000000   97.000000  97.000000  \n",
       "mean    6.752577   24.381443   2.478387  \n",
       "std     0.722134   28.204035   1.154329  \n",
       "min     6.000000    0.000000  -0.430783  \n",
       "25%     6.000000    0.000000   1.731656  \n",
       "50%     7.000000   15.000000   2.591516  \n",
       "75%     7.000000   40.000000   3.056357  \n",
       "max     9.000000  100.000000   5.582932  "
      ]
     },
     "execution_count": 2,
     "metadata": {},
     "output_type": "execute_result"
    }
   ],
   "source": [
    "print df.shape\n",
    "df.info()\n",
    "df.describe()"
   ]
  },
  {
   "cell_type": "markdown",
   "metadata": {},
   "source": [
    "### c. Normalización de los datos\n",
    "\n",
    "Al estandarizar los datos, los predictores tienen varianza igual a 1. Este proceso es útil cuando\n",
    "se quiere que los coeficientes de la regresión sean comparables entre sí, especialmente cuando las\n",
    "variables predictoras son cantidades físicas distintas o cuando los valores numéricos tienen \n",
    "diferente escala o magnitud (por ejemplo: lcavol y age)."
   ]
  },
  {
   "cell_type": "code",
   "execution_count": 3,
   "metadata": {
    "collapsed": false
   },
   "outputs": [],
   "source": [
    "from sklearn.preprocessing import StandardScaler\n",
    "scaler = StandardScaler()\n",
    "df_scaled = pd.DataFrame(scaler.fit_transform(df), columns=df.columns)\n",
    "df_scaled['lpsa'] = df['lpsa']"
   ]
  },
  {
   "cell_type": "markdown",
   "metadata": {},
   "source": [
    "### d. Generación del modelo de regresión lineal\n",
    "\n",
    "En este punto, al utilizar la función LinearRegression, se setea el parámetro fit_intercept a False con el fin de que tal función no calcule el intercepto del modelo ($\\beta_0$) cuando se realice el ajuste en base a los datos. Si no se agrega la columna de unos (línea 4), el intercepto del modelo pasaría por el origen (igual a cero). Agregando esa columna, se desplaza ese intercepto. Además, un intercepto igual a cero puede que no tenga relación ni sentido con el dominio del problema en cuestión. En este caso, lpsa mide (en [ng/mL]) el nivel de antígeno prostático específico en la sangre. Los valores que arrojan los tests son mayores que cero. Un intercepto nulo o negativo no tendría significado alguno."
   ]
  },
  {
   "cell_type": "code",
   "execution_count": 19,
   "metadata": {
    "collapsed": false
   },
   "outputs": [
    {
     "data": {
      "text/plain": [
       "LinearRegression(copy_X=True, fit_intercept=False, n_jobs=1, normalize=False)"
      ]
     },
     "execution_count": 19,
     "metadata": {},
     "output_type": "execute_result"
    }
   ],
   "source": [
    "import sklearn.linear_model as lm\n",
    "X = df_scaled.ix[:,:-1]\n",
    "N = X.shape[0]\n",
    "X.insert(X.shape[1], 'intercept', np.ones(N))\n",
    "y = df_scaled['lpsa']\n",
    "Xtrain = X[istrain]\n",
    "ytrain = y[istrain]\n",
    "Xtest = X[np.logical_not(istrain)]\n",
    "ytest = y[np.logical_not(istrain)]\n",
    "linreg = lm.LinearRegression(fit_intercept = False)\n",
    "linreg.fit(Xtrain, ytrain)"
   ]
  },
  {
   "cell_type": "markdown",
   "metadata": {},
   "source": [
    "### e. Pesos y Z-score de cada predictor\n",
    "\n",
    "Los pesos y z_core de cada predictor, se calculan a continuación. "
   ]
  },
  {
   "cell_type": "code",
   "execution_count": 5,
   "metadata": {
    "collapsed": false
   },
   "outputs": [
    {
     "name": "stdout",
     "output_type": "stream",
     "text": [
      "\n",
      "Attribute      Weight              Z_score\n",
      "lcavol         0.676016344389      5.3198281924\n",
      "lweight        0.261693609264      2.72697258323\n",
      "age            -0.140733744231     -1.38382296228\n",
      "lbph           0.209060521232      2.03804576167\n",
      "svi            0.303623322499      2.44787594268\n",
      "lcp            -0.287001843752     -1.85074858539\n",
      "gleason        -0.0211949345062    -0.145411215384\n",
      "pgg45          0.265576136543      1.72279320502\n",
      "intercept      2.46493292212       27.3592531411\n"
     ]
    }
   ],
   "source": [
    "ypred_train = linreg.predict(Xtrain)\n",
    "from sklearn.metrics import mean_squared_error\n",
    "sum_squares = np.power(ytrain - ypred_train, 2)\n",
    "mse_train = mean_squared_error(ytrain, ypred_train)\n",
    "n = ytrain.shape[0]\n",
    "d = Xtrain.shape[1]\n",
    "var_est = mse_train * n / (n - d - 1)\n",
    "diag_values = np.diag(np.linalg.pinv(np.dot(Xtrain.T, Xtrain)))\n",
    "z_scores = np.divide(linreg.coef_, np.sqrt(np.multiply(var_est, diag_values)))\n",
    "print \"\\n\", \"{:<15}{:<20}{}\".format(\"Attribute\", \"Weight\", \"Z_score\")\n",
    "for attribute, weight, z_score in zip(Xtrain.columns.values, linreg.coef_, z_scores):\n",
    "    print \"{:<15}{:<20}{}\".format(attribute, weight, z_score)"
   ]
  },
  {
   "cell_type": "markdown",
   "metadata": {},
   "source": [
    "Ahora, se utiliza la distribución de probabilidad t-student, con 67 - 9 = 58 grados de libertad (67 datos del dataset de entrenamiento y 9 predictores) y un $\\alpha$ del 5%. Esto da como resultado $t_{58}$ = ±1,672.\n",
    "Aquellas variables cuyo z_score se encuentre dentro del intervalo [−1,672, 1,672], no existirá suficiente evidencia que demuestre su relación con la respuesta. En este caso, las variables pgg45, gleason y age no presentan relación con la respuesta lpsa utilizando una significancia del 5%."
   ]
  },
  {
   "cell_type": "markdown",
   "metadata": {},
   "source": [
    "### f. Error de predición utilizando cross-validation\n",
    "\n",
    "Se estimó el error de predicción usando k-fold cross validation con $k = 5, \\ldots, 10$. Su cálculo se realiza a continuación. "
   ]
  },
  {
   "cell_type": "code",
   "execution_count": 6,
   "metadata": {
    "collapsed": false
   },
   "outputs": [
    {
     "name": "stdout",
     "output_type": "stream",
     "text": [
      "mse test:  0.521274005508\n",
      "k    mse                 \n",
      "5    0.956514631616      \n",
      "6    0.957083189771      \n",
      "7    0.895319106006      \n",
      "8    0.879992445353      \n",
      "9    0.818545479043      \n",
      "10   0.757237472963      \n"
     ]
    }
   ],
   "source": [
    "yhat_test = linreg.predict(Xtest)\n",
    "mse_test = np.mean(np.power(yhat_test - ytest, 2))\n",
    "print \"mse test: \", mse_test\n",
    "from sklearn import cross_validation\n",
    "Xm = Xtrain.as_matrix()\n",
    "ym = ytrain.as_matrix()\n",
    "print \"{:<5}{:<20}\".format(\"k\", \"mse\")\n",
    "for k in range(5, 11):\n",
    "    k_fold = cross_validation.KFold(len(Xm), k)\n",
    "    mse_cv = 0\n",
    "    for i, (train, val) in enumerate(k_fold):\n",
    "        linreg = lm.LinearRegression(fit_intercept=False)\n",
    "        linreg.fit(Xm[train], ym[train])\n",
    "        yhat_val = linreg.predict(Xm[val])\n",
    "        mse_fold = np.mean(np.power(yhat_val - ym[val], 2))\n",
    "        mse_cv += mse_fold\n",
    "    mse_cv = mse_cv / k\n",
    "    print \"{:<5}{:<20}\".format(k, mse_cv)"
   ]
  },
  {
   "cell_type": "markdown",
   "metadata": {},
   "source": [
    "Ahí se puede ver que, aumentando el número de folds, el error cuadrático medio disminuye, obteniéndose su menor valor con k = 10. Lo anterior se explica por el hecho de que al usar un k más grande, se destina un mayor porcentaje datos para entrenamiento, por lo que se logra un mejor aprendizaje del modelo.\n",
    "Ahora bien, el mse obtenido al usar los datasets originales de entrenamiento (67 muestras) y de prueba (30\n",
    "muestras) es igual a 0.521, valor menor que cualquiera a los obtenidos con k-fold cross validation. Nuevamente, se explica por la utilización de una mayor cantidad de datos de entrenamiento."
   ]
  },
  {
   "cell_type": "markdown",
   "metadata": {},
   "source": [
    "### g. QQ plot para los errores de predicción de cada dato de entrenamiento\n",
    "\n",
    "Para comprobar que la hipótesis de normalidad de los errores para cada dato de entrenamiento, se genera el siguiente qq-plot. Ahí se puede ver que al comparar los residuos con los percentiles de una distribución normal, estos describen una línea que se encuentra sobre la identidad. En ese sentido, se puede decir que el supuesto de normalidad de de los errores es correcto."
   ]
  },
  {
   "cell_type": "code",
   "execution_count": 7,
   "metadata": {
    "collapsed": false
   },
   "outputs": [
    {
     "data": {
      "image/png": "[encoded data removed]",
      "text/plain": [
       "<matplotlib.figure.Figure at 0x7f74e9d77690>"
      ]
     },
     "metadata": {},
     "output_type": "display_data"
    }
   ],
   "source": [
    "%matplotlib inline\n",
    "import statsmodels.api as sm\n",
    "fig = sm.qqplot(ypred_train - ytrain, fit=True, line='45')"
   ]
  },
  {
   "cell_type": "markdown",
   "metadata": {
    "collapsed": true
   },
   "source": [
    "## 2. Selección de Atributos"
   ]
  },
  {
   "cell_type": "code",
   "execution_count": 8,
   "metadata": {
    "collapsed": false
   },
   "outputs": [],
   "source": [
    "from matplotlib import pyplot as plt\n",
    "%matplotlib inline\n",
    "\n",
    "# función para plotear la presente sección de Selección de atributos\n",
    "def plot(training, test, desc=True):\n",
    "    x_training, y_training = zip(*training)\n",
    "    x_test, y_test = zip(*test)\n",
    "    ax = plt.subplot(111)\n",
    "    ax.plot(x_training, y_training, color=\"b\", linestyle=\"-\", marker='o', label='Training set')\n",
    "    ax.plot(x_test, y_test, color=\"r\", linestyle=\"-\", marker='o', label='Test set')\n",
    "\n",
    "    if desc:\n",
    "        ax.set_xlim(max(x_training), min(x_training))\n",
    "\n",
    "    ax.set_ylabel('MSE')\n",
    "    ax.set_xlabel(u'Número de atributos')\n",
    "    plt.legend(loc=1)\n",
    "\n",
    "Xm_train = Xtrain.as_matrix()\n",
    "ym_train = ytrain.as_matrix()\n",
    "Xm_test = Xtest.as_matrix()\n",
    "ym_test = ytest.as_matrix()"
   ]
  },
  {
   "cell_type": "markdown",
   "metadata": {},
   "source": [
    "### a. Forward Step-wise Selection\n",
    "\n",
    "El criterio de selección implementado en Forward stepwise selection (FSS), se basa en el cálculo del z score de cada atributo candidato. El que posea el z score con el valor absoluto más grande, será el seleccionado para ser agregado al modelo. El primero en ser seleccionado es el **intercepto**. Luego, el orden de selección de los restantes atributos es: **lcavol**, **lweight**, **svi**, **lbph**, **pgg45**, **lcp**, **age** y finalmente **gleason**."
   ]
  },
  {
   "cell_type": "code",
   "execution_count": 9,
   "metadata": {
    "collapsed": true
   },
   "outputs": [],
   "source": [
    "def fss(x, y, names_x, test_data, k=10000):\n",
    "    p = x.shape[1]\n",
    "    k = min(p, k)\n",
    "    names_x = np.array(names_x)\n",
    "    remaining = range(0, p)\n",
    "    selected = []\n",
    "    points_training = []\n",
    "    points_test = []\n",
    "    while remaining and len(selected) <= k:\n",
    "        score_candidates = []\n",
    "        for candidate in remaining:\n",
    "            model = lm.LinearRegression(fit_intercept=False)\n",
    "            indexes = selected + [candidate]\n",
    "            x_train = x[:, indexes]\n",
    "            model.fit(x_train, y)  # fitting with training data\n",
    "\n",
    "            # predicting training data\n",
    "            predictions_train = model.predict(x_train)\n",
    "            residuals_train = predictions_train - y\n",
    "\n",
    "            # predicting test data\n",
    "            x_test, y_test = test_data\n",
    "            x_test = x_test[:, indexes]\n",
    "            predictions_test = model.predict(x_test)\n",
    "            residuals_test = predictions_test - y_test\n",
    "\n",
    "            mse_candidate = np.mean(np.power(residuals_train, 2))\n",
    "            mse_test = np.mean(np.power(residuals_test, 2))\n",
    "\n",
    "            # Computing z scores\n",
    "            var = (mse_candidate * x_train.shape[0]) / (x_train.shape[0] - x_train.shape[1] - 1)\n",
    "            diag_values = np.diag(np.linalg.pinv(np.dot(x_train.T, x_train)))\n",
    "            z_scores = np.divide(model.coef_, np.sqrt(np.multiply(var, diag_values)))\n",
    "\n",
    "            # getting the z score that belongs to the last feature added\n",
    "            z_score_candidate = z_scores[-1]\n",
    "\n",
    "            # Using absolute value of the z score\n",
    "            score_candidates.append((abs(z_score_candidate), mse_candidate, mse_test, candidate))\n",
    "\n",
    "        score_candidates.sort()\n",
    "        best_new_z_score, mse_candidate, mse_test, best_candidate = score_candidates.pop()\n",
    "        remaining.remove(best_candidate)\n",
    "        selected.append(best_candidate)\n",
    "        points_training.append((len(selected), mse_candidate))\n",
    "        points_test.append((len(selected), mse_test))\n",
    "        print \"selected= %s...\" % names_x[best_candidate]\n",
    "        print \"totalvars=%d, best z_score = %f, mse = %f\" % (len(indexes), best_new_z_score, mse_candidate)\n",
    "    return selected, points_training, points_test"
   ]
  },
  {
   "cell_type": "code",
   "execution_count": 10,
   "metadata": {
    "collapsed": false
   },
   "outputs": [
    {
     "name": "stdout",
     "output_type": "stream",
     "text": [
      "selected= intercept...\n",
      "totalvars=1, best z_score = 16.493179, mse = 1.437036\n",
      "selected= lcavol...\n",
      "totalvars=2, best z_score = 8.624576, mse = 0.664606\n",
      "selected= lweight...\n",
      "totalvars=3, best z_score = 3.554040, mse = 0.553610\n",
      "selected= svi...\n",
      "totalvars=4, best z_score = 1.969567, mse = 0.521011\n",
      "selected= lbph...\n",
      "totalvars=5, best z_score = 1.972368, mse = 0.489776\n",
      "selected= pgg45...\n",
      "totalvars=6, best z_score = 1.181048, mse = 0.478648\n",
      "selected= lcp...\n",
      "totalvars=7, best z_score = 1.719063, mse = 0.455818\n",
      "selected= age...\n",
      "totalvars=8, best z_score = 1.473839, mse = 0.439363\n",
      "selected= gleason...\n",
      "totalvars=9, best z_score = 0.145411, mse = 0.439200\n"
     ]
    },
    {
     "data": {
      "image/png": "[encoded data removed]",
      "text/plain": [
       "<matplotlib.figure.Figure at 0x7f74e9d16c50>"
      ]
     },
     "metadata": {},
     "output_type": "display_data"
    }
   ],
   "source": [
    "names_regressors = [\"lcavol\", \"lweight\", \"age\", \"lbph\", \"svi\", \"lcp\", \"gleason\", \"pgg45\", \"intercept\"]\n",
    "selected, points_training, points_test = fss(Xm_train, ym_train, names_regressors, (Xm_test, ym_test))\n",
    "plot(points_training, points_test, desc=False)"
   ]
  },
  {
   "cell_type": "markdown",
   "metadata": {},
   "source": [
    "En la figura de arriba, se presenta el error cuadrático medio (mse) en función del número de atributos utilizados para construir el modelo de regresión lineal. Ahí se ve que para el conjunto de entrenamiento, el mse siempre disminuye a medida de que se agregan más predictores al modelo. Sin embargo, para el set de pruebas no es lo mismo. El mse desciende hasta el mínimo de 3 atributos (**lcavol**, **lweight**, **svi** más el **intercepto**), para luego comenzar a aumentar a medida que el modelo se hace más complejo."
   ]
  },
  {
   "cell_type": "markdown",
   "metadata": {},
   "source": [
    "### b. Backward Step-wise Selection\n",
    "\n",
    "Al utilizar Backward stepwise selection (bss), se comienza con un modelo considerando todos los predictores.\n",
    "Por cada iteración, se elimina el atributo que obtiene el menor z score en valor absoluto. Los resultados obtenidos con el algoritmo implementado, se muestran a continuación."
   ]
  },
  {
   "cell_type": "code",
   "execution_count": 11,
   "metadata": {
    "collapsed": true
   },
   "outputs": [],
   "source": [
    "def bss(x, y, names_x, test_data, k=10000):\n",
    "    p = x.shape[1]\n",
    "    k = min(p, k)\n",
    "    names_x = np.array(names_x)\n",
    "    selected = range(0, p)\n",
    "    removed = []\n",
    "    points_training = []\n",
    "    points_test = []\n",
    "    while len(selected) >= 1:\n",
    "        model = lm.LinearRegression(fit_intercept=False)\n",
    "        indexes = selected\n",
    "        x_train = x[:, indexes]\n",
    "        model.fit(x_train, y)  # fitting with training data\n",
    "\n",
    "        # predicting training data\n",
    "        predictions_train = model.predict(x_train)\n",
    "        residuals_train = predictions_train - y\n",
    "\n",
    "        # predicting test data\n",
    "        x_test, y_test = test_data\n",
    "        x_test = x_test[:, indexes]\n",
    "        predictions_test = model.predict(x_test)\n",
    "        residuals_test = predictions_test - y_test\n",
    "\n",
    "        mse_train = np.mean(np.power(residuals_train, 2))\n",
    "        mse_test = np.mean(np.power(residuals_test, 2))\n",
    "\n",
    "        # Computing z scores\n",
    "        var = (mse_train * x_train.shape[0]) / (x_train.shape[0] - x_train.shape[1] - 1)\n",
    "        diag_values = np.diag(np.linalg.pinv(np.dot(x_train.T, x_train)))\n",
    "        z_scores = np.divide(model.coef_, np.sqrt(np.multiply(var, diag_values)))\n",
    "        score_candidates = zip(np.abs(z_scores), indexes)\n",
    "        score_candidates.sort(reverse=True)\n",
    "\n",
    "        # removing the worst\n",
    "        worst_new_z_score, worst_candidate = score_candidates.pop()\n",
    "        selected.remove(worst_candidate)\n",
    "        removed.append(worst_candidate)\n",
    "\n",
    "        points_training.append((len(indexes) + 1, mse_train))\n",
    "        points_test.append((len(indexes) + 1, mse_test))\n",
    "        print \"selected= %s...\" % names_x[worst_candidate]\n",
    "        print \"totalvars=%d, worst z_score = %f, mse = %f\" % (len(indexes), worst_new_z_score, mse_train)\n",
    "    return removed, points_training, points_test"
   ]
  },
  {
   "cell_type": "code",
   "execution_count": 12,
   "metadata": {
    "collapsed": false
   },
   "outputs": [
    {
     "name": "stdout",
     "output_type": "stream",
     "text": [
      "selected= gleason...\n",
      "totalvars=8, worst z_score = 0.145411, mse = 0.439200\n",
      "selected= age...\n",
      "totalvars=7, worst z_score = 1.473839, mse = 0.439363\n",
      "selected= lcp...\n",
      "totalvars=6, worst z_score = 1.719063, mse = 0.455818\n",
      "selected= pgg45...\n",
      "totalvars=5, worst z_score = 1.181048, mse = 0.478648\n",
      "selected= lbph...\n",
      "totalvars=4, worst z_score = 1.972368, mse = 0.489776\n",
      "selected= svi...\n",
      "totalvars=3, worst z_score = 1.969567, mse = 0.521011\n",
      "selected= lweight...\n",
      "totalvars=2, worst z_score = 3.554040, mse = 0.553610\n",
      "selected= lcavol...\n",
      "totalvars=1, worst z_score = 8.624576, mse = 0.664606\n",
      "selected= intercept...\n",
      "totalvars=0, worst z_score = 16.493179, mse = 1.437036\n"
     ]
    },
    {
     "data": {
      "image/png": "[encoded data removed]",
      "text/plain": [
       "<matplotlib.figure.Figure at 0x7f74e9be0950>"
      ]
     },
     "metadata": {},
     "output_type": "display_data"
    }
   ],
   "source": [
    "names_regressors = [\"lcavol\", \"lweight\", \"age\", \"lbph\", \"svi\", \"lcp\", \"gleason\", \"pgg45\", \"intercept\"]\n",
    "removed, points_training, points_test = bss(Xm_train, ym_train, names_regressors, (Xm_test, ym_test))\n",
    "plot(points_training, points_test)"
   ]
  },
  {
   "cell_type": "markdown",
   "metadata": {},
   "source": [
    "Como se puede observar arriba, los resultados eran predecibles en el sentido de que se ocupa el mismo criterio que en fss, pero a la inversa. Para el set de entrenamiento, con más predictores se tiene un menor mse. Para el caso del set de pruebas, el mse mínimo se obtiene con 3 atributos predictores más el intercepto."
   ]
  },
  {
   "cell_type": "markdown",
   "metadata": {},
   "source": [
    "## 3. Regularización\n",
    "\n",
    "### a. Ridge Regression\n",
    "\n",
    "Se ajustó un modelo lineal del dataset, utilizando regresión de Ridge, variando el parámetro $\\lambda$ de regularización en el rango $[10^{−1} , 10^4]$."
   ]
  },
  {
   "cell_type": "code",
   "execution_count": 20,
   "metadata": {
    "collapsed": false
   },
   "outputs": [],
   "source": [
    "X = X.drop('intercept', axis=1)\n",
    "Xtrain = X[istrain]\n",
    "ytrain = y[istrain]"
   ]
  },
  {
   "cell_type": "code",
   "execution_count": 26,
   "metadata": {
    "collapsed": false
   },
   "outputs": [
    {
     "data": {
      "text/plain": [
       "<matplotlib.legend.Legend at 0x7f74e8efa6d0>"
      ]
     },
     "execution_count": 26,
     "metadata": {},
     "output_type": "execute_result"
    },
    {
     "data": {
      "image/png": "[encoded data removed]",
      "text/plain": [
       "<matplotlib.figure.Figure at 0x7f74e978eb50>"
      ]
     },
     "metadata": {},
     "output_type": "display_data"
    }
   ],
   "source": [
    "from sklearn.linear_model import Ridge\n",
    "\n",
    "names_regressors = [\"Lcavol\", \"Lweight\", \"Age\", \"Lbph\", \"Svi\", \"Lcp\", \"Gleason\", \"Pgg45\"]\n",
    "\n",
    "alphas_ = np.logspace(4,-1,base=10)\n",
    "coefs = []\n",
    "model = Ridge(fit_intercept=True,solver='svd')\n",
    "for a in alphas_:\n",
    "    model.set_params(alpha=a)\n",
    "    model.fit(Xtrain, ytrain)\n",
    "    coefs.append(model.coef_)\n",
    "\n",
    "plt.figure(figsize=(8,6))\n",
    "ax = plt.gca()\n",
    "for y_arr, label in zip(np.squeeze(coefs).T, names_regressors):\n",
    "    plt.plot(alphas_, y_arr, label=label)\n",
    "\n",
    "ax.set_xscale('log')\n",
    "ax.set_xlim(ax.get_xlim()[::-1]) # reverse axis\n",
    "plt.xlabel('lambda')\n",
    "plt.ylabel('weights')\n",
    "plt.title('Regularization Path RIDGE')\n",
    "plt.axis('tight')\n",
    "plt.legend(loc=2)"
   ]
  },
  {
   "cell_type": "markdown",
   "metadata": {},
   "source": [
    "Arriba, se puede ver el efecto de la variación de $\\lambda$ en los coeficientes de los\n",
    "atributos predictores. Ahí se observa que $\\lambda$ tiene poco efecto hasta alcanza un valor entre $10^1$ y $10^2$ . A partir de un $\\lambda = 10^3$ , se puede ver un efecto significativo sobre los coeficientes, los cuales comienzan a acercarse a cero."
   ]
  },
  {
   "cell_type": "markdown",
   "metadata": {
    "collapsed": true
   },
   "source": [
    "### b. Lasso Regression\n",
    "\n",
    "Ahora, se ajustó un modelo lineal del dataset utilizando regresión de Lasso, variando el parámetro $\\lambda$ de regularización en el rango $[10^{−2}, 10^1]$."
   ]
  },
  {
   "cell_type": "code",
   "execution_count": 27,
   "metadata": {
    "collapsed": false
   },
   "outputs": [
    {
     "data": {
      "text/plain": [
       "<matplotlib.legend.Legend at 0x7f74e9b149d0>"
      ]
     },
     "execution_count": 27,
     "metadata": {},
     "output_type": "execute_result"
    },
    {
     "data": {
      "image/png": "[encoded data removed]",
      "text/plain": [
       "<matplotlib.figure.Figure at 0x7f74e9123450>"
      ]
     },
     "metadata": {},
     "output_type": "display_data"
    }
   ],
   "source": [
    "from sklearn.linear_model import Lasso\n",
    "alphas_ = np.logspace(1, -2, base=10)\n",
    "model = Lasso(fit_intercept=True)\n",
    "coefs = []\n",
    "for a in alphas_:\n",
    "    model.set_params(alpha=a)\n",
    "    model.fit(Xtrain, ytrain)\n",
    "    coefs.append(model.coef_)\n",
    "\n",
    "plt.figure(figsize=(8,6))\n",
    "ax = plt.gca()\n",
    "for y_arr, label in zip(np.squeeze(coefs).T, names_regressors):\n",
    "    plt.plot(alphas_, y_arr, label=label)\n",
    "\n",
    "ax.set_xscale('log')\n",
    "ax.set_xlim(ax.get_xlim()[::-1])\n",
    "plt.xlabel('alpha')\n",
    "plt.ylabel('weights')\n",
    "plt.title('Regularization Path Lasso')\n",
    "plt.axis('tight')\n",
    "plt.legend(loc=2)"
   ]
  },
  {
   "cell_type": "markdown",
   "metadata": {},
   "source": [
    "En la figura de arriba, se puede ver el efecto de la variación de $\\lambda$ en los coeficientes de los atributos predictores. Ahí ser observa que con un $\\lambda$ un poco menor a $10^{-1}$, prácticamente borra del modelo a los predictores lcp y age. Con un $\\lambda$ entre 0.1 y 1, los atributos **lweight**, **svi**, **lbph** y **pgg45** se hacen igual a cero. Con un $\\lambda$ mayor a 1, todas los coeficientes de los atributos se hacen cero."
   ]
  },
  {
   "cell_type": "markdown",
   "metadata": {},
   "source": [
    "### c. Errores de entrenamiento y pruebas (Ridge Regression)\n",
    "\n",
    "Utilizando regresión de Ridge para generar un modelo lineal, se evaluaron los errores de entrenamiento y de\n",
    "pruebas, en función del parámetro de regularización $\\lambda$, variando el valor de este último en el rango $[10^{−2}, 10^2]$."
   ]
  },
  {
   "cell_type": "code",
   "execution_count": 29,
   "metadata": {
    "collapsed": false
   },
   "outputs": [
    {
     "name": "stdout",
     "output_type": "stream",
     "text": [
      "MSE mínimo de test (Ridge):  0.485847414042\n"
     ]
    },
    {
     "data": {
      "text/plain": [
       "(100.0, 0.01)"
      ]
     },
     "execution_count": 29,
     "metadata": {},
     "output_type": "execute_result"
    },
    {
     "data": {
      "image/png": "[encoded data removed]",
      "text/plain": [
       "<matplotlib.figure.Figure at 0x7f74e8bdc210>"
      ]
     },
     "metadata": {},
     "output_type": "display_data"
    }
   ],
   "source": [
    "Xtest = X[np.logical_not(istrain)]\n",
    "ytest = y[np.logical_not(istrain)]\n",
    "alphas_ = np.logspace(2, -2, base=10)\n",
    "coefs = []\n",
    "model = Ridge(fit_intercept=True)\n",
    "mse_test = []\n",
    "mse_train = []\n",
    "for a in alphas_:\n",
    "    model.set_params(alpha=a)\n",
    "    model.fit(Xtrain, ytrain)\n",
    "    yhat_train = model.predict(Xtrain)\n",
    "    yhat_test = model.predict(Xtest)\n",
    "    mse_train.append(np.mean(np.power(yhat_train - ytrain, 2)))\n",
    "    mse_test.append(np.mean(np.power(yhat_test - ytest, 2)))\n",
    "\n",
    "print \"MSE mínimo de test (Ridge): \", min(mse_test)\n",
    "plt.figure(figsize=(8,6))\n",
    "ax = plt.gca()\n",
    "ax.plot(alphas_, mse_train, label='train error ridge')\n",
    "ax.plot(alphas_, mse_test, label='test error ridge')\n",
    "plt.legend(loc=2)\n",
    "plt.xlabel('alpha')\n",
    "plt.ylabel('mse')\n",
    "ax.set_xscale('log')\n",
    "ax.set_xlim(ax.get_xlim()[::-1])"
   ]
  },
  {
   "cell_type": "markdown",
   "metadata": {},
   "source": [
    "En la figura de arriba, se observa que ambos mse disminuyen a medida que $\\lambda$ disminuye. \n",
    "A partir de $\\lambda = 1$ los errores se estabilizan. El de test lo hace en $\\approx$ 0,5 y el de entrenamiento en  $\\approx$ 0,45. **El mse mínimo de test es aproximadamente de 0,486**."
   ]
  },
  {
   "cell_type": "markdown",
   "metadata": {},
   "source": [
    "### d. Errores de entrenamiento y pruebas (Lasso Regression)\n",
    "\n",
    "Utilizando regresión de Lasso para generar un modelo lineal, se evaluaron los errores de entrenamiento y de\n",
    "pruebas, en función del parámetro de regularización, variando el valor de este último en el rango $[0.5, 10 ^2]$. Sin embargo, con este rango no se logró apreciar ningún tipo de variación del error. Por lo tanto, tal rango se cambió $[10^{−3} , 1]$. El resultado se puede ver a continuación."
   ]
  },
  {
   "cell_type": "code",
   "execution_count": 32,
   "metadata": {
    "collapsed": false
   },
   "outputs": [
    {
     "name": "stdout",
     "output_type": "stream",
     "text": [
      "MSE mínimo de test (Lasso):  0.452565037028\n"
     ]
    },
    {
     "data": {
      "text/plain": [
       "(1.0, 0.001)"
      ]
     },
     "execution_count": 32,
     "metadata": {},
     "output_type": "execute_result"
    },
    {
     "data": {
      "image/png": "[encoded data removed]",
      "text/plain": [
       "<matplotlib.figure.Figure at 0x7f74e8bb8090>"
      ]
     },
     "metadata": {},
     "output_type": "display_data"
    }
   ],
   "source": [
    "alphas_ = np.logspace(0, -3, base=10)\n",
    "coefs = []\n",
    "model = Lasso(fit_intercept=True)\n",
    "mse_test = []\n",
    "mse_train = []\n",
    "for a in alphas_:\n",
    "    model.set_params(alpha=a)\n",
    "    model.fit(Xtrain, ytrain)\n",
    "    yhat_train = model.predict(Xtrain)\n",
    "    yhat_test = model.predict(Xtest)\n",
    "    mse_train.append(np.mean(np.power(yhat_train - ytrain, 2)))\n",
    "    mse_test.append(np.mean(np.power(yhat_test - ytest, 2)))\n",
    "\n",
    "print \"MSE mínimo de test (Lasso): \", min(mse_test)\n",
    "plt.figure(figsize=(8,6))\n",
    "ax = plt.gca()\n",
    "ax.plot(alphas_, mse_train, label='train error lasso')\n",
    "ax.plot(alphas_, mse_test, label='test error lasso')\n",
    "plt.xlabel('alpha')\n",
    "plt.ylabel('mse')\n",
    "plt.legend(loc=2)\n",
    "ax.set_xscale('log')\n",
    "ax.set_xlim(ax.get_xlim()[::-1])"
   ]
  },
  {
   "cell_type": "markdown",
   "metadata": {},
   "source": [
    "Con esto, se observa que con un $\\lambda = 1$, ambos mse disminuyen bruscamente, hasta estabilizarse en torno a 0,5 de error. El mse mínimo de test es igual 0.453, para luego ascender y mantenerse en torno a los 0,5."
   ]
  },
  {
   "cell_type": "markdown",
   "metadata": {},
   "source": [
    "### e. Estimación del valor de regularización con cross-validation\n",
    "\n",
    "Usando validación cruzada, se determinó el mejor valor del parámetro de regularización para los métodos Ridge\n",
    "y Lasso Regression. Los resultados pueden verse en la siguiente tabla. \n",
    "\n",
    "Método | rango $\\lambda$        | Mejor param.  | MSE\n",
    "-------|------------------------|---------------|-----------\n",
    "Ridge  | $[10^{-2}, 10^2]$      | 2.33          | 0.752\n",
    "Lasso  | $[10^{-3}, 10^0]$      | 0.004         | 0.756\n",
    "\n",
    "Si se compara con los valores mínimos obtenidos en la sección de Regularización (Ridge: 0.486 y Lasso: 0.453), se obtienen mse mayores cuando utilizando validación cruzada en vez de utilizar un set de pruebas separado para realizar los tests. Lo anterior podría explicarse por el hecho de que al usar validación cruzada, se utiliza una menor cantidad de datos para entrenar el modelo que cuando se usa el método ordinario con el set completo de entrenamiento. Esto radica en un aprendizaje más pobre del problema por parte del modelo de regresión."
   ]
  },
  {
   "cell_type": "code",
   "execution_count": 33,
   "metadata": {
    "collapsed": true
   },
   "outputs": [],
   "source": [
    "from sklearn import cross_validation\n",
    "from sklearn.metrics import mean_squared_error\n",
    "\n",
    "def best_parameter(x, y, method, alphas):\n",
    "    Xm = x.as_matrix()\n",
    "    ym = y.as_matrix()\n",
    "\n",
    "    if method == \"lasso\":\n",
    "        model = Lasso(fit_intercept=True)\n",
    "    elif method == \"ridge\":\n",
    "        model = Ridge(fit_intercept=True)\n",
    "\n",
    "    k_fold = cross_validation.KFold(len(Xm), 10)\n",
    "    best_cv_mse = float(\"inf\")\n",
    "\n",
    "    for a in alphas:\n",
    "        model.set_params(alpha=a)\n",
    "        mse_list_k10 = [\n",
    "                    mean_squared_error(model.fit(Xm[train], ym[train]).predict(Xm[val]), ym[val])\n",
    "                    for train, val in k_fold]\n",
    "        if np.mean(mse_list_k10) < best_cv_mse:\n",
    "            best_cv_mse = np.mean(mse_list_k10)\n",
    "            best_alpha = a\n",
    "            print method, \"BEST PARAMETER=%f, MSE(CV)=%f\" % (best_alpha, best_cv_mse)\n"
   ]
  },
  {
   "cell_type": "code",
   "execution_count": 34,
   "metadata": {
    "collapsed": false
   },
   "outputs": [
    {
     "name": "stdout",
     "output_type": "stream",
     "text": [
      "Valor de regularización de Ridge\n",
      "\n",
      "ridge BEST PARAMETER=100.000000, MSE(CV)=0.999646\n",
      "ridge BEST PARAMETER=82.864277, MSE(CV)=0.965780\n",
      "ridge BEST PARAMETER=68.664885, MSE(CV)=0.935286\n",
      "ridge BEST PARAMETER=56.898660, MSE(CV)=0.908007\n",
      "ridge BEST PARAMETER=47.148664, MSE(CV)=0.883727\n",
      "ridge BEST PARAMETER=39.069399, MSE(CV)=0.862205\n",
      "ridge BEST PARAMETER=32.374575, MSE(CV)=0.843206\n",
      "ridge BEST PARAMETER=26.826958, MSE(CV)=0.826516\n",
      "ridge BEST PARAMETER=22.229965, MSE(CV)=0.811949\n",
      "ridge BEST PARAMETER=18.420700, MSE(CV)=0.799351\n",
      "ridge BEST PARAMETER=15.264180, MSE(CV)=0.788588\n",
      "ridge BEST PARAMETER=12.648552, MSE(CV)=0.779537\n",
      "ridge BEST PARAMETER=10.481131, MSE(CV)=0.772077\n",
      "ridge BEST PARAMETER=8.685114, MSE(CV)=0.766076\n",
      "ridge BEST PARAMETER=7.196857, MSE(CV)=0.761390\n",
      "ridge BEST PARAMETER=5.963623, MSE(CV)=0.757863\n",
      "ridge BEST PARAMETER=4.941713, MSE(CV)=0.755328\n",
      "ridge BEST PARAMETER=4.094915, MSE(CV)=0.753618\n",
      "ridge BEST PARAMETER=3.393222, MSE(CV)=0.752571\n",
      "ridge BEST PARAMETER=2.811769, MSE(CV)=0.752036\n",
      "ridge BEST PARAMETER=2.329952, MSE(CV)=0.751881\n",
      "\n",
      "\n",
      "Valor de regularización de Ridge\n",
      "\n",
      "lasso BEST PARAMETER=1.000000, MSE(CV)=1.795179\n",
      "lasso BEST PARAMETER=0.868511, MSE(CV)=1.755997\n",
      "lasso BEST PARAMETER=0.754312, MSE(CV)=1.692648\n",
      "lasso BEST PARAMETER=0.655129, MSE(CV)=1.604282\n",
      "lasso BEST PARAMETER=0.568987, MSE(CV)=1.519648\n",
      "lasso BEST PARAMETER=0.494171, MSE(CV)=1.406330\n",
      "lasso BEST PARAMETER=0.429193, MSE(CV)=1.302906\n",
      "lasso BEST PARAMETER=0.372759, MSE(CV)=1.217375\n",
      "lasso BEST PARAMETER=0.323746, MSE(CV)=1.148770\n",
      "lasso BEST PARAMETER=0.281177, MSE(CV)=1.085433\n",
      "lasso BEST PARAMETER=0.244205, MSE(CV)=1.035685\n",
      "lasso BEST PARAMETER=0.212095, MSE(CV)=0.998275\n",
      "lasso BEST PARAMETER=0.184207, MSE(CV)=0.968003\n",
      "lasso BEST PARAMETER=0.159986, MSE(CV)=0.941072\n",
      "lasso BEST PARAMETER=0.138950, MSE(CV)=0.918718\n",
      "lasso BEST PARAMETER=0.120679, MSE(CV)=0.897721\n",
      "lasso BEST PARAMETER=0.104811, MSE(CV)=0.876038\n",
      "lasso BEST PARAMETER=0.091030, MSE(CV)=0.858986\n",
      "lasso BEST PARAMETER=0.079060, MSE(CV)=0.842934\n",
      "lasso BEST PARAMETER=0.068665, MSE(CV)=0.831979\n",
      "lasso BEST PARAMETER=0.059636, MSE(CV)=0.823733\n",
      "lasso BEST PARAMETER=0.051795, MSE(CV)=0.818966\n",
      "lasso BEST PARAMETER=0.044984, MSE(CV)=0.812691\n",
      "lasso BEST PARAMETER=0.039069, MSE(CV)=0.804002\n",
      "lasso BEST PARAMETER=0.033932, MSE(CV)=0.794981\n",
      "lasso BEST PARAMETER=0.029471, MSE(CV)=0.786995\n",
      "lasso BEST PARAMETER=0.025595, MSE(CV)=0.780952\n",
      "lasso BEST PARAMETER=0.022230, MSE(CV)=0.776598\n",
      "lasso BEST PARAMETER=0.019307, MSE(CV)=0.772045\n",
      "lasso BEST PARAMETER=0.016768, MSE(CV)=0.767246\n",
      "lasso BEST PARAMETER=0.014563, MSE(CV)=0.763827\n",
      "lasso BEST PARAMETER=0.012649, MSE(CV)=0.761203\n",
      "lasso BEST PARAMETER=0.010985, MSE(CV)=0.759429\n",
      "lasso BEST PARAMETER=0.009541, MSE(CV)=0.758357\n",
      "lasso BEST PARAMETER=0.008286, MSE(CV)=0.757638\n",
      "lasso BEST PARAMETER=0.007197, MSE(CV)=0.757154\n",
      "lasso BEST PARAMETER=0.006251, MSE(CV)=0.756832\n",
      "lasso BEST PARAMETER=0.005429, MSE(CV)=0.756629\n",
      "lasso BEST PARAMETER=0.004715, MSE(CV)=0.756526\n",
      "lasso BEST PARAMETER=0.004095, MSE(CV)=0.756477\n",
      "lasso BEST PARAMETER=0.003556, MSE(CV)=0.756467\n"
     ]
    }
   ],
   "source": [
    "print \"Valor de regularización de Ridge\\n\"\n",
    "best_parameter(Xtrain, ytrain, 'ridge', np.logspace(2, -2, base=10))\n",
    "print \"\\n\\nValor de regularización de Ridge\\n\"\n",
    "best_parameter(Xtrain, ytrain, 'lasso', np.logspace(0, -3, base=10))"
   ]
  },
  {
   "cell_type": "code",
   "execution_count": null,
   "metadata": {
    "collapsed": true
   },
   "outputs": [],
   "source": []
  }
 ],
 "metadata": {
  "kernelspec": {
   "display_name": "Python 2",
   "language": "python2",
   "name": "python2"
  },
  "language_info": {
   "codemirror_mode": {
    "name": "ipython",
    "version": 2
   },
   "file_extension": ".py",
   "mimetype": "text/x-python",
   "name": "python",
   "nbconvert_exporter": "python",
   "pygments_lexer": "ipython2",
   "version": "2.7.12"
  }
 },
 "nbformat": 4,
 "nbformat_minor": 0
}

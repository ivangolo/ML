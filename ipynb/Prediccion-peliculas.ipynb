{
 "cells": [
  {
   "cell_type": "markdown",
   "metadata": {},
   "source": [
    "# Predicción de Utilidades de Películas"
   ]
  },
  {
   "cell_type": "code",
   "execution_count": 32,
   "metadata": {
    "collapsed": false
   },
   "outputs": [],
   "source": [
    "import pandas as pd\n",
    "import numpy as np\n",
    "from scipy.sparse import csr_matrix\n",
    "from scipy.io import mmread\n",
    "\n",
    "# data_dir = \"../movies-preproc/ngrams-deprels-fp1-origin.runtime.budget.numscreen.ratings.seasons.stars/\"\n",
    "data_dir = \"../movies-preproc/ngrams-deprels-origin.runtime.budget.numscreen.ratings.seasons/\"\n",
    "\n",
    "# Loading Training data\n",
    "X = csr_matrix(mmread(data_dir + 'train.x.mm'))\n",
    "y = np.loadtxt(data_dir + 'train.y.dat')\n",
    "\n",
    "# Loading Test data\n",
    "X_test = csr_matrix( mmread(data_dir + 'test.x.mm'))\n",
    "y_test = np.loadtxt(data_dir + 'test.y.dat')"
   ]
  },
  {
   "cell_type": "markdown",
   "metadata": {},
   "source": [
    "## Least Squares Regression"
   ]
  },
  {
   "cell_type": "code",
   "execution_count": 33,
   "metadata": {
    "collapsed": false
   },
   "outputs": [
    {
     "name": "stdout",
     "output_type": "stream",
     "text": [
      "Linear regression score: 0.206191672241\n"
     ]
    }
   ],
   "source": [
    "import sklearn.linear_model as lm\n",
    "model = lm.LinearRegression(fit_intercept = False)\n",
    "model.fit(X, y)\n",
    "print \"Least Squares Regression score: {}\".format(model.score(X_test, y_test)) "
   ]
  },
  {
   "cell_type": "markdown",
   "metadata": {},
   "source": [
    "* ** Least Squares Regression score: 0.59031488104 ** (stars)\n",
    "* ** Least Squares Regression score: 0.206191672241 **"
   ]
  },
  {
   "cell_type": "markdown",
   "metadata": {},
   "source": [
    "## Ridge Regression"
   ]
  },
  {
   "cell_type": "code",
   "execution_count": 34,
   "metadata": {
    "collapsed": false
   },
   "outputs": [
    {
     "name": "stdout",
     "output_type": "stream",
     "text": [
      "Best lambda Ridge Regression: 1000.0, score: 0.223675528483\n"
     ]
    }
   ],
   "source": [
    "test_R2 = []\n",
    "lambdas = np.logspace(-3, 3, num=250)  # from 1e-3 to 1e3\n",
    "ridge_model = lm.Ridge(fit_intercept=False)\n",
    "\n",
    "for l in lambdas:    \n",
    "    ridge_model.set_params(alpha=l)\n",
    "    ridge_model.fit(X, y)\n",
    "    test_R2.append(ridge_model.score(X_test, y_test))\n",
    "\n",
    "i_best_lambda = np.argmax(test_R2)   \n",
    "print \"Best lambda Ridge Regression: {}, score: {}\".format(lambdas[i_best_lambda], test_R2[i_best_lambda])"
   ]
  },
  {
   "cell_type": "markdown",
   "metadata": {},
   "source": [
    "* **Best lambda Ridge Regression: 606.921510641, score: 0.593263816723** (stars)\n",
    "* **Best lambda Ridge Regression: 1000.0, score: 0.223675528483**"
   ]
  },
  {
   "cell_type": "markdown",
   "metadata": {},
   "source": [
    "## Lasso Regression"
   ]
  },
  {
   "cell_type": "code",
   "execution_count": 35,
   "metadata": {
    "collapsed": false
   },
   "outputs": [
    {
     "name": "stdout",
     "output_type": "stream",
     "text": [
      "Best lambda Lasso Regression: 1767.67676768, score: 0.276066535177\n"
     ]
    }
   ],
   "source": [
    "test_R2 = []\n",
    "lambdas = np.linspace(1000, 5000, num=100)\n",
    "lasso_model = lm.Lasso(fit_intercept=False)\n",
    "\n",
    "for l in lambdas:    \n",
    "    lasso_model.set_params(alpha=l)\n",
    "    lasso_model.fit(X, y)\n",
    "    test_R2.append(lasso_model.score(X_test, y_test))\n",
    "\n",
    "i_best_lambda = np.argmax(test_R2)  \n",
    "print \"Best lambda Lasso Regression: {}, score: {}\".format(lambdas[i_best_lambda], test_R2[i_best_lambda])"
   ]
  },
  {
   "cell_type": "markdown",
   "metadata": {},
   "source": [
    "* ** Best lambda Lasso Regression: 1848.48484848, score: 0.546971190802 ** (stars)\n",
    "* ** Best lambda Lasso Regression: 1767.67676768, score: 0.276066535177 **"
   ]
  },
  {
   "cell_type": "markdown",
   "metadata": {},
   "source": [
    "## ElasticNet Regression"
   ]
  },
  {
   "cell_type": "code",
   "execution_count": null,
   "metadata": {
    "collapsed": false
   },
   "outputs": [],
   "source": [
    "test_R2 = []\n",
    "l1_ratios = np.linspace(0, 1, 11)\n",
    "alphas = np.logspace(-2, 2, 50)\n",
    "\n",
    "# alpha : float\n",
    "# Constant that multiplies the penalty terms. \n",
    "# Defaults to 1.0 See the notes for the exact mathematical meaning of this parameter. \n",
    "# alpha = 0 is equivalent to an ordinary least square, \n",
    "# solved by the LinearRegression object. For numerical reasons, \n",
    "# using alpha = 0 with the Lasso object is not advised \n",
    "# and you should prefer the LinearRegression object.\n",
    "\n",
    "# l1_ratio : float\n",
    "# The ElasticNet mixing parameter, with 0 <= l1_ratio <= 1. \n",
    "# For l1_ratio = 0 the penalty is an L2 penalty. \n",
    "# For l1_ratio = 1 it is an L1 penalty. \n",
    "# For 0 < l1_ratio < 1, the penalty is a combination of L1 and L2.\n",
    "\n",
    "enet_model = lm.ElasticNet(fit_intercept=False)\n",
    "\n",
    "for l1r in l1_ratios:\n",
    "    enet_model.set_params(l1_ratio=l1r)    \n",
    "    for alpha in alphas:\n",
    "        enet_model.set_params(alpha=alpha)\n",
    "        enet_model.fit(X, y)\n",
    "        test_R2.append((l1r, alpha, enet_model.score(X_test, y_test)))\n",
    "\n",
    "from operator import itemgetter\n",
    "best_parameters = max(test_R2, key=itemgetter(2))\n",
    "print \"Best parameters ElasticNet Regression:\" \n",
    "print \"l1_ratio: {}, lambda: {}, score: {}\".format(best_parameters[0], best_parameters[1], best_parameters[2])"
   ]
  },
  {
   "cell_type": "markdown",
   "metadata": {},
   "source": [
    "* ** Best parameters ElasticNet Regression: l1_ratio: 0.8, lambda: 0.429193426013, score: 0.607253193504 ** (stars)"
   ]
  },
  {
   "cell_type": "code",
   "execution_count": null,
   "metadata": {
    "collapsed": true
   },
   "outputs": [],
   "source": []
  }
 ],
 "metadata": {
  "kernelspec": {
   "display_name": "Python 2",
   "language": "python2",
   "name": "python2"
  },
  "language_info": {
   "codemirror_mode": {
    "name": "ipython",
    "version": 2
   },
   "file_extension": ".py",
   "mimetype": "text/x-python",
   "name": "python",
   "nbconvert_exporter": "python",
   "pygments_lexer": "ipython2",
   "version": "2.7.12"
  }
 },
 "nbformat": 4,
 "nbformat_minor": 0
}

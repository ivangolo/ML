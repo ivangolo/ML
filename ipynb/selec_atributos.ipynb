{
 "cells": [
  {
   "cell_type": "markdown",
   "metadata": {},
   "source": [
    "# Selección de Atributos"
   ]
  },
  {
   "cell_type": "code",
   "execution_count": 11,
   "metadata": {
    "collapsed": false
   },
   "outputs": [],
   "source": [
    "import pandas as pd\n",
    "import numpy as np\n",
    "from sklearn.preprocessing import StandardScaler\n",
    "import sklearn.linear_model as lm\n",
    "\n",
    "url = 'http://statweb.stanford.edu/~tibs/ElemStatLearn/datasets/prostate.data'\n",
    "df = pd.read_csv(url, sep='\\t', header=0)\n",
    "df = df.drop('Unnamed: 0', axis=1)\n",
    "istrain_str = df['train']\n",
    "istrain = np.asarray([True if s == 'T' else False for s in istrain_str])\n",
    "df = df.drop('train', axis=1)\n",
    "\n",
    "scaler = StandardScaler()\n",
    "df_scaled = pd.DataFrame(scaler.fit_transform(df), columns=df.columns)\n",
    "df_scaled['lpsa'] = df['lpsa']\n",
    "\n",
    "X = df_scaled.ix[:,:-1]\n",
    "N = X.shape[0]\n",
    "X.insert(X.shape[1], 'intercept', np.ones(N))\n",
    "y = df_scaled['lpsa']\n",
    "Xtrain = X[istrain]\n",
    "ytrain = y[istrain]\n",
    "Xtest = X[np.logical_not(istrain)]\n",
    "ytest = y[np.logical_not(istrain)]\n",
    "\n",
    "Xm_train = Xtrain.as_matrix()\n",
    "ym_train = ytrain.as_matrix()\n",
    "Xm_test = Xtest.as_matrix()\n",
    "ym_test = ytest.as_matrix()"
   ]
  },
  {
   "cell_type": "code",
   "execution_count": 49,
   "metadata": {
    "collapsed": true
   },
   "outputs": [],
   "source": [
    "from matplotlib import pyplot as plt\n",
    "%matplotlib inline\n",
    "\n",
    "def plot(training, test, desc=True):\n",
    "    x_training, y_training = zip(*training)\n",
    "    x_test, y_test = zip(*test)\n",
    "    ax = plt.subplot(111)\n",
    "    ax.plot(x_training, y_training, color=\"b\", linestyle=\"-\", marker='o', label='Training set')\n",
    "    ax.plot(x_test, y_test, color=\"r\", linestyle=\"-\", marker='o', label='Test set')\n",
    "\n",
    "    if desc:\n",
    "        ax.set_xlim(max(x_training), min(x_training))\n",
    "\n",
    "    ax.set_ylabel('MSE')\n",
    "    ax.set_xlabel(u'Número de atributos')\n",
    "    plt.legend(loc=1)"
   ]
  },
  {
   "cell_type": "markdown",
   "metadata": {},
   "source": [
    "## a. Forward Step-wise Selection"
   ]
  },
  {
   "cell_type": "markdown",
   "metadata": {},
   "source": [
    "Se utiliza el z-score como indicador para determinar la variable a agregar al modelo de regresión lineal."
   ]
  },
  {
   "cell_type": "code",
   "execution_count": 45,
   "metadata": {
    "collapsed": true
   },
   "outputs": [],
   "source": [
    "def fss(x, y, names_x, test_data, k=10000):\n",
    "    p = x.shape[1]\n",
    "    k = min(p, k)\n",
    "    names_x = np.array(names_x)\n",
    "    remaining = range(0, p)\n",
    "    selected = []\n",
    "    points_training = []\n",
    "    points_test = []\n",
    "    while remaining and len(selected) <= k:\n",
    "        score_candidates = []\n",
    "        for candidate in remaining:\n",
    "            model = lm.LinearRegression(fit_intercept=False)\n",
    "            indexes = selected + [candidate]\n",
    "            x_train = x[:, indexes]\n",
    "            model.fit(x_train, y)  # fitting with training data\n",
    "\n",
    "            # predicting training data\n",
    "            predictions_train = model.predict(x_train)\n",
    "            residuals_train = predictions_train - y\n",
    "\n",
    "            # predicting test data\n",
    "            x_test, y_test = test_data\n",
    "            x_test = x_test[:, indexes]\n",
    "            predictions_test = model.predict(x_test)\n",
    "            residuals_test = predictions_test - y_test\n",
    "\n",
    "            mse_candidate = np.mean(np.power(residuals_train, 2))\n",
    "            mse_test = np.mean(np.power(residuals_test, 2))\n",
    "\n",
    "            # Computing z scores\n",
    "            var = (mse_candidate * x_train.shape[0]) / (x_train.shape[0] - x_train.shape[1] - 1)\n",
    "            diag_values = np.diag(np.linalg.pinv(np.dot(x_train.T, x_train)))\n",
    "            z_scores = np.divide(model.coef_, np.sqrt(np.multiply(var, diag_values)))\n",
    "\n",
    "            # getting the z score that belongs to the last feature added\n",
    "            z_score_candidate = z_scores[-1]\n",
    "\n",
    "            # Using absolute value of the z score\n",
    "            score_candidates.append((abs(z_score_candidate), mse_candidate, mse_test, candidate))\n",
    "\n",
    "        score_candidates.sort()\n",
    "        best_new_z_score, mse_candidate, mse_test, best_candidate = score_candidates.pop()\n",
    "        remaining.remove(best_candidate)\n",
    "        selected.append(best_candidate)\n",
    "        points_training.append((len(selected), mse_candidate))\n",
    "        points_test.append((len(selected), mse_test))\n",
    "        print \"selected= %s...\" % names_x[best_candidate]\n",
    "        print \"totalvars=%d, best z_score = %f, mse = %f\" % (len(indexes), best_new_z_score, mse_candidate)\n",
    "    return selected, points_training, points_test"
   ]
  },
  {
   "cell_type": "code",
   "execution_count": 50,
   "metadata": {
    "collapsed": false
   },
   "outputs": [
    {
     "name": "stdout",
     "output_type": "stream",
     "text": [
      "selected= intercept...\n",
      "totalvars=1, best z_score = 16.493179, mse = 1.437036\n",
      "selected= lcavol...\n",
      "totalvars=2, best z_score = 8.624576, mse = 0.664606\n",
      "selected= lweight...\n",
      "totalvars=3, best z_score = 3.554040, mse = 0.553610\n",
      "selected= svi...\n",
      "totalvars=4, best z_score = 1.969567, mse = 0.521011\n",
      "selected= lbph...\n",
      "totalvars=5, best z_score = 1.972368, mse = 0.489776\n",
      "selected= pgg45...\n",
      "totalvars=6, best z_score = 1.181048, mse = 0.478648\n",
      "selected= lcp...\n",
      "totalvars=7, best z_score = 1.719063, mse = 0.455818\n",
      "selected= age...\n",
      "totalvars=8, best z_score = 1.473839, mse = 0.439363\n",
      "selected= gleason...\n",
      "totalvars=9, best z_score = 0.145411, mse = 0.439200\n"
     ]
    },
    {
     "data": {
      "image/png": "[encoded data removed]",
      "text/plain": [
       "<matplotlib.figure.Figure at 0x7f234a530510>"
      ]
     },
     "metadata": {},
     "output_type": "display_data"
    }
   ],
   "source": [
    "names_regressors = [\"lcavol\", \"lweight\", \"age\", \"lbph\", \"svi\", \"lcp\", \"gleason\", \"pgg45\", \"intercept\"]\n",
    "selected, points_training, points_test = fss(Xm_train, ym_train, names_regressors, (Xm_test, ym_test))\n",
    "plot(points_training, points_test, desc=False)"
   ]
  },
  {
   "cell_type": "markdown",
   "metadata": {},
   "source": [
    "## b. Forward Step-wise Selection"
   ]
  },
  {
   "cell_type": "markdown",
   "metadata": {},
   "source": [
    "Se utiliza el z-score como indicador para determinar la variable a quitar del modelo de regresión lineal."
   ]
  },
  {
   "cell_type": "code",
   "execution_count": 59,
   "metadata": {
    "collapsed": true
   },
   "outputs": [],
   "source": [
    "def bss(x, y, names_x, test_data, k=10000):\n",
    "    p = x.shape[1]\n",
    "    k = min(p, k)\n",
    "    names_x = np.array(names_x)\n",
    "    selected = range(0, p)\n",
    "    removed = []\n",
    "    points_training = []\n",
    "    points_test = []\n",
    "    while len(selected) >= 1:\n",
    "        model = lm.LinearRegression(fit_intercept=False)\n",
    "        indexes = selected\n",
    "        x_train = x[:, indexes]\n",
    "        model.fit(x_train, y)  # fitting with training data\n",
    "\n",
    "        # predicting training data\n",
    "        predictions_train = model.predict(x_train)\n",
    "        residuals_train = predictions_train - y\n",
    "\n",
    "        # predicting test data\n",
    "        x_test, y_test = test_data\n",
    "        x_test = x_test[:, indexes]\n",
    "        predictions_test = model.predict(x_test)\n",
    "        residuals_test = predictions_test - y_test\n",
    "\n",
    "        mse_train = np.mean(np.power(residuals_train, 2))\n",
    "        mse_test = np.mean(np.power(residuals_test, 2))\n",
    "\n",
    "        # Computing z scores\n",
    "        var = (mse_train * x_train.shape[0]) / (x_train.shape[0] - x_train.shape[1] - 1)\n",
    "        diag_values = np.diag(np.linalg.pinv(np.dot(x_train.T, x_train)))\n",
    "        z_scores = np.divide(model.coef_, np.sqrt(np.multiply(var, diag_values)))\n",
    "        score_candidates = zip(np.abs(z_scores), indexes)\n",
    "        score_candidates.sort(reverse=True)\n",
    "\n",
    "        # removing the worst\n",
    "        worst_new_z_score, worst_candidate = score_candidates.pop()\n",
    "        selected.remove(worst_candidate)\n",
    "        removed.append(worst_candidate)\n",
    "\n",
    "        points_training.append((len(indexes) + 1, mse_train))\n",
    "        points_test.append((len(indexes) + 1, mse_test))\n",
    "        print \"selected= %s...\" % names_x[worst_candidate]\n",
    "        print \"totalvars=%d, worst z_score = %f, mse = %f\" % (len(indexes), worst_new_z_score, mse_train)\n",
    "    return removed, points_training, points_test"
   ]
  },
  {
   "cell_type": "code",
   "execution_count": 60,
   "metadata": {
    "collapsed": false
   },
   "outputs": [
    {
     "name": "stdout",
     "output_type": "stream",
     "text": [
      "selected= gleason...\n",
      "totalvars=8, worst z_score = 0.145411, mse = 0.439200\n",
      "selected= age...\n",
      "totalvars=7, worst z_score = 1.473839, mse = 0.439363\n",
      "selected= lcp...\n",
      "totalvars=6, worst z_score = 1.719063, mse = 0.455818\n",
      "selected= pgg45...\n",
      "totalvars=5, worst z_score = 1.181048, mse = 0.478648\n",
      "selected= lbph...\n",
      "totalvars=4, worst z_score = 1.972368, mse = 0.489776\n",
      "selected= svi...\n",
      "totalvars=3, worst z_score = 1.969567, mse = 0.521011\n",
      "selected= lweight...\n",
      "totalvars=2, worst z_score = 3.554040, mse = 0.553610\n",
      "selected= lcavol...\n",
      "totalvars=1, worst z_score = 8.624576, mse = 0.664606\n",
      "selected= intercept...\n",
      "totalvars=0, worst z_score = 16.493179, mse = 1.437036\n"
     ]
    },
    {
     "data": {
      "image/png": "[encoded data removed]",
      "text/plain": [
       "<matplotlib.figure.Figure at 0x7f2351ac9110>"
      ]
     },
     "metadata": {},
     "output_type": "display_data"
    }
   ],
   "source": [
    "names_regressors = [\"lcavol\", \"lweight\", \"age\", \"lbph\", \"svi\", \"lcp\", \"gleason\", \"pgg45\", \"intercept\"]\n",
    "removed, points_training, points_test = bss(Xm_train, ym_train, names_regressors, (Xm_test, ym_test))\n",
    "plot(points_training, points_test)"
   ]
  },
  {
   "cell_type": "code",
   "execution_count": null,
   "metadata": {
    "collapsed": true
   },
   "outputs": [],
   "source": []
  }
 ],
 "metadata": {
  "kernelspec": {
   "display_name": "Python 2",
   "language": "python2",
   "name": "python2"
  },
  "language_info": {
   "codemirror_mode": {
    "name": "ipython",
    "version": 2
   },
   "file_extension": ".py",
   "mimetype": "text/x-python",
   "name": "python",
   "nbconvert_exporter": "python",
   "pygments_lexer": "ipython2",
   "version": "2.7.12"
  }
 },
 "nbformat": 4,
 "nbformat_minor": 0
}
